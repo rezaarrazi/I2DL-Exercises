{
 "cells": [
  {
   "cell_type": "markdown",
   "metadata": {
    "id": "jvuNZQOgCPTc"
   },
   "source": [
    "# Facial Keypoint Detection\n",
    "\n",
    "Welcome back for exercise 9! As we told you, the exercises of this lecture can be subdivided into mainly two parts. The first part in which we re-invented the wheel and implemented the most important methods on our own and the second part, where we start using existing libraries (that already have implemented all the methods). It's now time to start playing around with more complex network architectures. \n",
    "\n",
    "We've already entered stage two, but with the introduction of Convolutional Neural Networks this week, we are given a very powerful tool that we want to explore in this exercises. Therefore, in this week's exercise your task is to build a Convolutional Neural Network to perform facial keypoint detection. \n",
    "\n",
    "Before we start, let's take a look at some example images and corresponding facial keypoints:\n",
    "\n",
    "<img src='images/key_pts_example.png' width=70% height=70%/>\n",
    "\n",
    "The facial keypoints (also called facial landmarks) are the small magenta dots shown on each of the faces in the images above. These keypoints mark important areas of the face: the eyes, corners of the mouth, the nose, etc. and are relevant for a variety of computer vision tasks, such as face filters, emotion recognition, pose recognition, and more. "
   ]
  },
  {
   "cell_type": "markdown",
   "metadata": {
    "id": "PYvPUcpPCPTh"
   },
   "source": [
    "## (Optional) Mount folder in Colab\n",
    "\n",
    "Uncomment thefollowing cell to mount your gdrive if you are using the notebook in google colab:"
   ]
  },
  {
   "cell_type": "code",
   "execution_count": null,
   "metadata": {
    "colab": {
     "base_uri": "https://localhost:8080/"
    },
    "executionInfo": {
     "elapsed": 27848,
     "status": "ok",
     "timestamp": 1656687919453,
     "user": {
      "displayName": "Dan Halperin",
      "userId": "04461491770918170797"
     },
     "user_tz": -120
    },
    "id": "XThLiWNqCPTi",
    "outputId": "b75330d6-9590-43d7-e46b-bf5919e4ca97"
   },
   "outputs": [],
   "source": [
    "# Use the following lines if you want to use Google Colab\n",
    "# We presume you created a folder \"i2dl\" within your main drive folder, and put the exercise there.\n",
    "# NOTE: terminate all other colab sessions that use GPU!\n",
    "# NOTE 2: Make sure the correct exercise folder (e.g exercise_09) is given.\n",
    "\n",
    "\"\"\"\n",
    "from google.colab import drive\n",
    "import os\n",
    "\n",
    "gdrive_path='/content/gdrive/MyDrive/i2dl/exercise_09'\n",
    "\n",
    "# This will mount your google drive under 'MyDrive'\n",
    "drive.mount('/content/gdrive', force_remount=True)\n",
    "\n",
    "# In order to access the files in this notebook we have to navigate to the correct folder\n",
    "os.chdir(gdrive_path)\n",
    "\n",
    "# Check manually if all files are present\n",
    "print(sorted(os.listdir()))\n",
    "\"\"\"\n"
   ]
  },
  {
   "cell_type": "markdown",
   "metadata": {},
   "source": [
    "## Set up PyTorch environment in colab\n",
    "- (OPTIONAL) Enable GPU via Runtime --> Change runtime type --> GPU\n",
    "- Uncomment the following cell if you are using the notebook in google colab:"
   ]
  },
  {
   "cell_type": "code",
   "execution_count": null,
   "metadata": {},
   "outputs": [],
   "source": [
    "# Optional: install correct libraries in google colab\n",
    "# !python -m pip install torch==1.11.0+cu113 torchvision==0.12.0+cu113 torchtext==0.12.0+cu113 torchaudio==0.12.0+cu113 -f https://download.pytorch.org/whl/torch_stable.html\n",
    "# !python -m pip install tensorboard==2.8.0 > /dev/null"
   ]
  },
  {
   "cell_type": "markdown",
   "metadata": {
    "id": "7dQywr2PCPTj"
   },
   "source": [
    "# 1. Preparation\n",
    "\n",
    "## Imports"
   ]
  },
  {
   "cell_type": "code",
   "execution_count": 1,
   "metadata": {
    "executionInfo": {
     "elapsed": 10287,
     "status": "ok",
     "timestamp": 1656687929737,
     "user": {
      "displayName": "Dan Halperin",
      "userId": "04461491770918170797"
     },
     "user_tz": -120
    },
    "id": "gFK8pPQpCPTk"
   },
   "outputs": [],
   "source": [
    "import os\n",
    "import matplotlib.pyplot as plt\n",
    "import torch\n",
    "from torch.utils.data import DataLoader\n",
    "from torchvision import transforms\n",
    "from exercise_code.data.facial_keypoints_dataset import FacialKeypointsDataset\n",
    "from exercise_code.networks.keypoint_nn import (\n",
    "    DummyKeypointModel,\n",
    "    KeypointModel\n",
    ")\n",
    "from exercise_code.util import (\n",
    "    show_all_keypoints,\n",
    "    save_model,\n",
    ")\n",
    "from exercise_code.tests import test_keypoint_nn\n",
    "from time import sleep\n",
    "from tqdm import tqdm\n",
    "\n",
    "%matplotlib inline\n",
    "plt.rcParams['figure.figsize'] = (10.0, 8.0) # set default size of plots\n",
    "plt.rcParams['image.interpolation'] = 'nearest'\n",
    "plt.rcParams['image.cmap'] = 'gray'\n",
    "\n",
    "# for auto-reloading external modules\n",
    "# see http://stackoverflow.com/questions/1907993/autoreload-of-modules-in-ipython\n",
    "%load_ext autoreload\n",
    "%autoreload 2\n",
    "\n",
    "os.environ['KMP_DUPLICATE_LIB_OK']='True' # To prevent the kernel from dying.\n"
   ]
  },
  {
   "cell_type": "markdown",
   "metadata": {
    "id": "PzzrR3TuCPTk"
   },
   "source": [
    "<div class=\"alert alert-warning\">\n",
    "    <h3>Note: Google Colab</h3>\n",
    "    <p>\n",
    "In case you don't have a GPU, you can run this notebook on Google Colab where you can access a GPU for free, but you can also run this notebook on your CPU.\n",
    "         </p>\n",
    "</div>"
   ]
  },
  {
   "cell_type": "code",
   "execution_count": 2,
   "metadata": {
    "colab": {
     "base_uri": "https://localhost:8080/"
    },
    "executionInfo": {
     "elapsed": 352,
     "status": "ok",
     "timestamp": 1656687930078,
     "user": {
      "displayName": "Dan Halperin",
      "userId": "04461491770918170797"
     },
     "user_tz": -120
    },
    "id": "4IeJlGMsCPTl",
    "outputId": "414917b6-6003-4960-c6c5-4e633b5ce420"
   },
   "outputs": [
    {
     "name": "stdout",
     "output_type": "stream",
     "text": [
      "cuda\n"
     ]
    }
   ],
   "source": [
    "device = torch.device(\"cuda\" if torch.cuda.is_available() else \"cpu\")\n",
    "print(device)\n"
   ]
  },
  {
   "cell_type": "markdown",
   "metadata": {
    "id": "m6clRitvCPTm"
   },
   "source": [
    "## Load and Visualize Data\n",
    "To load the data, we have already prepared a Pytorch Dataset class `FacialKeypointsDataset` for you. You can find it in `exercise_code/data/facial_keypoints_dataset.py`. Run the following cell to download the data and initialize your dataset:"
   ]
  },
  {
   "cell_type": "code",
   "execution_count": 3,
   "metadata": {
    "colab": {
     "base_uri": "https://localhost:8080/"
    },
    "executionInfo": {
     "elapsed": 7291,
     "status": "ok",
     "timestamp": 1656687937366,
     "user": {
      "displayName": "Dan Halperin",
      "userId": "04461491770918170797"
     },
     "user_tz": -120
    },
    "id": "JURilyFQCPTm",
    "outputId": "7d1aa7c9-174c-4bc2-a785-4421658e35b2"
   },
   "outputs": [
    {
     "name": "stdout",
     "output_type": "stream",
     "text": [
      "Downloading https://vision.in.tum.de/webshare/g/i2dl/facial_keypoints.zip to /mnt/c/Reza/TUM/SoSe2023/I2DL/i2dl/datasets/facial_keypoints/facial_keypoints.zip\n"
     ]
    },
    {
     "name": "stderr",
     "output_type": "stream",
     "text": [
      "66461696it [00:06, 10530776.65it/s]                                              \n"
     ]
    },
    {
     "name": "stdout",
     "output_type": "stream",
     "text": [
      "Number of training samples: 1546\n",
      "Number of validation samples: 298\n"
     ]
    }
   ],
   "source": [
    "download_url = \"https://vision.in.tum.de/webshare/g/i2dl/facial_keypoints.zip\"\n",
    "i2dl_exercises_path = os.path.dirname(os.path.abspath(os.getcwd()))\n",
    "data_root = os.path.join(i2dl_exercises_path, \"datasets\", \"facial_keypoints\")\n",
    "train_dataset = FacialKeypointsDataset(\n",
    "    train=True,\n",
    "    transform=transforms.ToTensor(),\n",
    "    root=data_root,\n",
    "    download_url=download_url,\n",
    ")\n",
    "val_dataset = FacialKeypointsDataset(\n",
    "    train=False,\n",
    "    transform=transforms.ToTensor(),\n",
    "    root=data_root,\n",
    ")\n",
    "\n",
    "print(\"Number of training samples:\", len(train_dataset))\n",
    "print(\"Number of validation samples:\", len(val_dataset))\n"
   ]
  },
  {
   "cell_type": "markdown",
   "metadata": {
    "id": "zHlKmzEjCPTn"
   },
   "source": [
    "Each sample in our dataset is a dict `{\"image\": image, \"keypoints\": keypoints}`, where\n",
    " * `image` is a [0-1]-normalized gray-scale image of size 96x96, represented by a torch tensor of shape (CxHxW) with C=1, H=96, W=96\n",
    "    <img style=\"float: right;\" src='images/key_pts_expl.png' width=50% height=50%/>\n",
    " * `keypoints` is the list of K facial keypoints, stored in a torch tensor of shape (Kx2). We have K=15 keypoints that stand for:\n",
    "   * keypoints[0]: Center of the left eye\n",
    "   * keypoints[1]: Center of the right eye\n",
    "   * keypoints[2]: Left eye inner corner\n",
    "   * keypoints[3]: Left eye outer corner\n",
    "   * keypoints[4]: Right eye inner corner\n",
    "   * keypoints[5]: Right eye outer corner\n",
    "   * keypoints[6]: Left eyebrow inner end\n",
    "   * keypoints[7]: Left eyebrow outer end\n",
    "   * keypoints[8]: Right eyebrow inner end\n",
    "   * keypoints[9]: Right eyebrow outer end\n",
    "   * keypoints[10]: Nose tip\n",
    "   * keypoints[11]: Mouth left corner\n",
    "   * keypoints[12]: Mouth right corner\n",
    "   * keypoints[13]: Mouth center top lip\n",
    "   * keypoints[14]: Mouth center bottom lip\n",
    "   \n",
    "Each individual facial keypoint is represented by two coordinates (x,y) that specify the horizontal and vertical location of the keypoint respectively. All keypoint values are normalized to be in the range [-1,1], such that:\n",
    "   * (x=-1,y=-1) corresponds to the top left corner, \n",
    "   * (x=-1,y=1) to the bottom left corner,\n",
    "   * (x=1,y=-1) to the top right corner,\n",
    "   * (x=1,y=1) to the bottom right corner,\n",
    "   * and (x=0,y=0) to the center of the image.\n",
    "   \n",
    "      \n",
    "The data downloaded is already preprocessed and hence there is no need to apply transformations in order to prepare the data. Of course, feel free to apply training transformations to improve your performance such as e.g. flipping the training images. </br>\n",
    "\n",
    "**Note**: The data downloaded is already preprocessed and hence there is **no need** to apply normalization transformations in order to prepare the data. Of course, feel free to apply training transformations to improve your performance such as e.g. flipping the training images. </br>\n",
    "\n",
    "Also, when applying transformations such as flipping, make sure that the predicted coordinates of your keypoints change accordingly.\n",
    "\n",
    "Let's have a look at the first training sample to get a better feeling for the dataset:"
   ]
  },
  {
   "cell_type": "code",
   "execution_count": 4,
   "metadata": {
    "colab": {
     "base_uri": "https://localhost:8080/"
    },
    "executionInfo": {
     "elapsed": 462,
     "status": "ok",
     "timestamp": 1656687937818,
     "user": {
      "displayName": "Dan Halperin",
      "userId": "04461491770918170797"
     },
     "user_tz": -120
    },
    "id": "-Uv8nLvcCPTn",
    "outputId": "51159487-0682-435f-b9c8-5135b69c1bb0"
   },
   "outputs": [
    {
     "name": "stdout",
     "output_type": "stream",
     "text": [
      "Shape of the image: torch.Size([1, 96, 96])\n",
      "Smallest value in the image: tensor(0.0118)\n",
      "Largest value in the image: tensor(1.)\n",
      "tensor([[[0.3804, 0.2039, 0.2275,  ..., 0.9922, 0.9961, 0.9961],\n",
      "         [0.3333, 0.2157, 0.2588,  ..., 0.9922, 0.9961, 0.9961],\n",
      "         [0.2941, 0.2588, 0.2902,  ..., 0.9922, 0.9961, 0.9961],\n",
      "         ...,\n",
      "         [0.1294, 0.1255, 0.1255,  ..., 0.9255, 1.0000, 1.0000],\n",
      "         [0.1294, 0.1255, 0.1216,  ..., 0.9490, 0.9843, 0.9804],\n",
      "         [0.1216, 0.1176, 0.1216,  ..., 0.9255, 1.0000, 0.9922]]])\n"
     ]
    }
   ],
   "source": [
    "image, keypoints = train_dataset[0][\"image\"], train_dataset[0][\"keypoints\"]\n",
    "print(\"Shape of the image:\", image.size())\n",
    "print(\"Smallest value in the image:\", torch.min(image))\n",
    "print(\"Largest value in the image:\", torch.max(image))\n",
    "print(image)\n"
   ]
  },
  {
   "cell_type": "code",
   "execution_count": 5,
   "metadata": {
    "colab": {
     "base_uri": "https://localhost:8080/"
    },
    "executionInfo": {
     "elapsed": 6,
     "status": "ok",
     "timestamp": 1656687937818,
     "user": {
      "displayName": "Dan Halperin",
      "userId": "04461491770918170797"
     },
     "user_tz": -120
    },
    "id": "D28hhzk-CPTn",
    "outputId": "b4d05fa5-22f0-40c3-fb36-79ad18db05c0"
   },
   "outputs": [
    {
     "name": "stdout",
     "output_type": "stream",
     "text": [
      "tensor([[ 0.4685, -0.2319],\n",
      "        [-0.4253, -0.1953],\n",
      "        [ 0.2908, -0.2214],\n",
      "        [ 0.5992, -0.2214],\n",
      "        [-0.2685, -0.2109],\n",
      "        [-0.5873, -0.1900],\n",
      "        [ 0.1967, -0.3827],\n",
      "        [ 0.7656, -0.4295],\n",
      "        [-0.2035, -0.3758],\n",
      "        [-0.7389, -0.3573],\n",
      "        [ 0.0086,  0.2333],\n",
      "        [ 0.4163,  0.6620],\n",
      "        [-0.3521,  0.6985],\n",
      "        [ 0.0138,  0.6045],\n",
      "        [ 0.0190,  0.9076]])\n"
     ]
    }
   ],
   "source": [
    "print(keypoints)\n"
   ]
  },
  {
   "cell_type": "markdown",
   "metadata": {
    "id": "XLYOhkx7CPTo"
   },
   "source": [
    "In `exercise_code/util/vis_utils.py` we also provide you with a function `show_all_keypoints()` that takes in an image and keypoints and displays where the predicted keypoints are in the image. Let's use it to plot the first few images of our training set:\n",
    "\n",
    "**Note:** if your kernel dies when running the following cell, please uncomment the last line of the imports cell `os.environ['KMP_DUPLICATE_LIB_OK']='True'`and try it again. "
   ]
  },
  {
   "cell_type": "code",
   "execution_count": 6,
   "metadata": {
    "colab": {
     "base_uri": "https://localhost:8080/",
     "height": 1000
    },
    "executionInfo": {
     "elapsed": 1536,
     "status": "ok",
     "timestamp": 1656687939350,
     "user": {
      "displayName": "Dan Halperin",
      "userId": "04461491770918170797"
     },
     "user_tz": -120
    },
    "id": "VQRWKbRCCPTo",
    "outputId": "02626bce-2b0f-477a-9006-074a9b073b6b"
   },
   "outputs": [
    {
     "data": {
      "image/png": "[encoded data removed]",
      "text/plain": [
       "<Figure size 1000x800 with 1 Axes>"
      ]
     },
     "metadata": {},
     "output_type": "display_data"
    },
    {
     "data": {
      "image/png": "[encoded data removed]",
      "text/plain": [
       "<Figure size 1000x800 with 1 Axes>"
      ]
     },
     "metadata": {},
     "output_type": "display_data"
    },
    {
     "data": {
      "image/png": "[encoded data removed]",
      "text/plain": [
       "<Figure size 1000x800 with 1 Axes>"
      ]
     },
     "metadata": {},
     "output_type": "display_data"
    }
   ],
   "source": [
    "def show_keypoints(dataset, num_samples=3):\n",
    "    for i in range(num_samples):\n",
    "        image = dataset[i][\"image\"]\n",
    "        key_pts = dataset[i][\"keypoints\"]\n",
    "        show_all_keypoints(image, key_pts)\n",
    "\n",
    "\n",
    "show_keypoints(train_dataset)\n"
   ]
  },
  {
   "cell_type": "markdown",
   "metadata": {
    "id": "mZap99KcCPTo"
   },
   "source": [
    "# 2. Facial Keypoint Detection\n",
    "Your task is to define and train a model for facial keypoint detection.\n",
    "\n",
    "The facial keypoint detection task can be seen as a regression problem, where the goal is to predict 30 different values that correspond to the 15 facial keypoint locations. Thus, we need to build a network that gets a (1x96x96) image as input and predicts 30 continuous outputs between [-1,1].\n",
    "\n",
    "## Dummy Model\n",
    "\n",
    "<div class=\"alert alert-success\">\n",
    "    <h3>Task: Check Code</h3>\n",
    "    <p>In <code>exercise_code/networks/keypoint_nn.py</code> we defined a naive <code>DummyKeypointModel</code>, which always predicts the keypoints of the first training image in the dataset. Let's try it on a few images and visualize our predictions in red:\n",
    " </p>\n",
    "</div>"
   ]
  },
  {
   "cell_type": "code",
   "execution_count": 7,
   "metadata": {
    "executionInfo": {
     "elapsed": 5,
     "status": "ok",
     "timestamp": 1656687939580,
     "user": {
      "displayName": "Dan Halperin",
      "userId": "04461491770918170797"
     },
     "user_tz": -120
    },
    "id": "aQLwlDXjCPTo"
   },
   "outputs": [],
   "source": [
    "def show_keypoint_predictions(model, dataset, num_samples=3):\n",
    "    for i in range(num_samples):\n",
    "        image = dataset[i][\"image\"].to(device)\n",
    "        key_pts = dataset[i][\"keypoints\"].to(device)\n",
    "        predicted_keypoints = torch.squeeze(model(image).detach()).view(15, 2)\n",
    "        show_all_keypoints(image, key_pts, predicted_keypoints)\n"
   ]
  },
  {
   "cell_type": "code",
   "execution_count": 8,
   "metadata": {
    "colab": {
     "base_uri": "https://localhost:8080/",
     "height": 1000
    },
    "executionInfo": {
     "elapsed": 1105,
     "status": "ok",
     "timestamp": 1656687940681,
     "user": {
      "displayName": "Dan Halperin",
      "userId": "04461491770918170797"
     },
     "user_tz": -120
    },
    "id": "IbbBJRmhCPTp",
    "outputId": "bd507cf0-c8b7-4dff-b65a-bfdb6c2e2ad7"
   },
   "outputs": [
    {
     "data": {
      "image/png": "[encoded data removed]",
      "text/plain": [
       "<Figure size 1000x800 with 1 Axes>"
      ]
     },
     "metadata": {},
     "output_type": "display_data"
    },
    {
     "data": {
      "image/png": "[encoded data removed]",
      "text/plain": [
       "<Figure size 1000x800 with 1 Axes>"
      ]
     },
     "metadata": {},
     "output_type": "display_data"
    },
    {
     "data": {
      "image/png": "[encoded data removed]",
      "text/plain": [
       "<Figure size 1000x800 with 1 Axes>"
      ]
     },
     "metadata": {},
     "output_type": "display_data"
    }
   ],
   "source": [
    "dummy_model = DummyKeypointModel()\n",
    "show_keypoint_predictions(dummy_model, train_dataset)\n"
   ]
  },
  {
   "cell_type": "markdown",
   "metadata": {
    "id": "eVKNbtcTCPTp"
   },
   "source": [
    "As we see, the model predicts the first sample perfectly, but for the remaining samples the predictions are quite off.\n",
    "\n",
    "## Loss and Metrics\n",
    "\n",
    "To measure the quality of the model's predictions, we will use the mean squared error (https://en.wikipedia.org/wiki/Mean_squared_error), summed up over all 30 keypoint locations. In PyTorch, the mean squared error is defined in `torch.nn.MSELoss()`, and we can use it like this:"
   ]
  },
  {
   "cell_type": "code",
   "execution_count": 9,
   "metadata": {
    "colab": {
     "base_uri": "https://localhost:8080/"
    },
    "executionInfo": {
     "elapsed": 474,
     "status": "ok",
     "timestamp": 1656687941151,
     "user": {
      "displayName": "Dan Halperin",
      "userId": "04461491770918170797"
     },
     "user_tz": -120
    },
    "id": "CeoyyehrCPTp",
    "outputId": "81b6ef9e-80aa-4a3c-8d62-8570fddb64ff"
   },
   "outputs": [
    {
     "name": "stdout",
     "output_type": "stream",
     "text": [
      "Loss on image 0: tensor(9.3016e-10)\n",
      "Loss on image 1: tensor(0.0094)\n",
      "Loss on image 2: tensor(0.0102)\n"
     ]
    }
   ],
   "source": [
    "loss_fn = torch.nn.MSELoss()\n",
    "for i in range(3):\n",
    "    image = train_dataset[i][\"image\"]\n",
    "    keypoints = train_dataset[i][\"keypoints\"]\n",
    "    predicted_keypoints = torch.squeeze(dummy_model(image)).view(15, 2)\n",
    "    loss = loss_fn(keypoints, predicted_keypoints)\n",
    "    print(\"Loss on image %d:\" % i, loss)\n"
   ]
  },
  {
   "cell_type": "markdown",
   "metadata": {
    "id": "KrYEcXddCPTp"
   },
   "source": [
    "As expected, our dummy model achieves a loss close to 0 on the first sample, but on all other samples the loss is quite high.\n",
    "\n",
    "To obtain an evaluation score (in the notebook and on the submission server), we will use the following function:"
   ]
  },
  {
   "cell_type": "code",
   "execution_count": 10,
   "metadata": {
    "colab": {
     "base_uri": "https://localhost:8080/"
    },
    "executionInfo": {
     "elapsed": 1208,
     "status": "ok",
     "timestamp": 1656687942353,
     "user": {
      "displayName": "Dan Halperin",
      "userId": "04461491770918170797"
     },
     "user_tz": -120
    },
    "id": "zC13aydNCPTq",
    "outputId": "016dca5b-43ae-4089-a390-0ce3b7c838b2"
   },
   "outputs": [
    {
     "name": "stdout",
     "output_type": "stream",
     "text": [
      "Score of the Dummy Model: 60.19574441168827\n"
     ]
    }
   ],
   "source": [
    "def evaluate_model(model, dataset):\n",
    "    model.eval()\n",
    "    model.to(device)\n",
    "    criterion = torch.nn.MSELoss()\n",
    "    dataloader = DataLoader(dataset, batch_size=1, shuffle=False)\n",
    "    loss = 0\n",
    "    for batch in dataloader:\n",
    "        image, keypoints = batch[\"image\"].to(device), batch[\"keypoints\"].to(device)\n",
    "        predicted_keypoints = model(image).view(-1, 15, 2).to(device)\n",
    "        loss += criterion(\n",
    "            torch.squeeze(keypoints), torch.squeeze(predicted_keypoints)\n",
    "        ).item()\n",
    "    return 1.0 / (2 * (loss / len(dataloader)))\n",
    "\n",
    "\n",
    "print(\"Score of the Dummy Model:\", evaluate_model(dummy_model, val_dataset))\n"
   ]
  },
  {
   "cell_type": "markdown",
   "metadata": {
    "id": "lzbbMeE4CPTq"
   },
   "source": [
    "**To pass the assignment, you will need to achieve a score of at least 100**. As you can see, the score is calculated from the average loss, so **your average loss needs to be lower than 0.005**. Our dummy model only gets a score of around 60, so you will have to come up with a better model."
   ]
  },
  {
   "cell_type": "markdown",
   "metadata": {
    "id": "4GCE6hqECPTr"
   },
   "source": [
    "## Step 1: Design your own model\n",
    "\n",
    "<div class=\"alert alert-info\">\n",
    "    <h3>Task: Implement</h3>\n",
    "    <p> Now it is your turn to build your own model. To do so, you need to design a convolution neural network that takes images of size (Nx1x96x96) as input and produces outputs of shape (Nx30) in the range [-1,1]. Therefore, implement the <code>KeypointModel</code> class in <code>exercise_code/networks/keypoint_nn.py</code>.\n",
    "    </p>\n",
    "</div>\n",
    "\n",
    "Recall that CNN's are defined by a few types of layers:\n",
    "* Convolutional layers\n",
    "* Max-pooling layers\n",
    "* Fully-connected layers\n",
    "\n",
    "You can design your network however you want, but we strongly suggest to include multiple convolution layers. You are also encouraged to use things like dropout and batch normalization to stabilize and regularize your network. If you want to build a really competitive model, have a look at some literature on keypoint detection, such as [this paper](https://arxiv.org/pdf/1710.00977.pdf).\n",
    "\n",
    "#### Define your model in the provided file \n",
    "`exercise_code/networks/keypoint_nn.py` file\n",
    "\n",
    "This file is mostly empty but contains the expected class name, and the methods that your model needs to implement (only `forward()` basically).\n",
    "\n",
    "The only rules your model design has to follow are:\n",
    "* Perform the forward pass in forward(), predicting keypoints of shape (Nx30) for images of shape (Nx1x96x96)\n",
    "* Have less than 5 million parameters\n",
    "* Have a model size of less than 20MB after saving\n",
    "\n",
    "Furthermore, you need to pass all your hyperparameters to the model in a single dictionary:"
   ]
  },
  {
   "cell_type": "code",
   "execution_count": 16,
   "metadata": {
    "executionInfo": {
     "elapsed": 5,
     "status": "ok",
     "timestamp": 1656687942354,
     "user": {
      "displayName": "Dan Halperin",
      "userId": "04461491770918170797"
     },
     "user_tz": -120
    },
    "id": "9tw7h1YtCPTr"
   },
   "outputs": [],
   "source": [
    "hparams = {\n",
    "    'dropout' : 0.5,\n",
    "    'batch_size' : 256,\n",
    "    'num_epochs' : 300\n",
    "}\n"
   ]
  },
  {
   "cell_type": "markdown",
   "metadata": {
    "id": "GtMden_jCPTr"
   },
   "source": [
    "To test whether your model follows the basic rules, run the following cell:"
   ]
  },
  {
   "cell_type": "code",
   "execution_count": 12,
   "metadata": {
    "colab": {
     "base_uri": "https://localhost:8080/"
    },
    "executionInfo": {
     "elapsed": 585,
     "status": "ok",
     "timestamp": 1656687942936,
     "user": {
      "displayName": "Dan Halperin",
      "userId": "04461491770918170797"
     },
     "user_tz": -120
    },
    "id": "zkFiXrhOCPTs",
    "outputId": "add2801f-fb10-49cf-b5c0-28c59dfb3c8c"
   },
   "outputs": [
    {
     "name": "stdout",
     "output_type": "stream",
     "text": [
      "KeypointShapeTest passed.\n",
      "ParamCountTest passed. Your model has 1.888 mio. params.\n",
      "FileSizeTest passed. Your model is 7.6 MB large\n",
      "All tests passed for your model. Tests passed: 3/3\n"
     ]
    }
   ],
   "source": [
    "model = KeypointModel(hparams)\n",
    "test_keypoint_nn(model)\n"
   ]
  },
  {
   "cell_type": "markdown",
   "metadata": {
    "id": "Ja1w927OCPTs"
   },
   "source": [
    "## Step 2: Train your model\n",
    "\n",
    "<div class=\"alert alert-info\">\n",
    "    <h3>Task: Implement</h3>\n",
    "    <p> In addition to the network itself, you will also need to write the code for the model training.\n",
    "    </p>\n",
    "</div>\n",
    "\n",
    "**Hints:**\n",
    "* Use `torch.nn.MSELoss()` as loss function.\n",
    "\n",
    "* You have two options for training code:\n",
    "    - Use a straightforward training scheme. See 1.pytorch.ipynb from ex07.\n",
    "    - Don't call your model anything else besides \"model\", unless you notice that you'll need to modify the model name in the upcoming cells.\n",
    "    - You could refer to the training scheme from exercise_08 to complete your code. Understanding this pipeline is crucial for future works in deep learning.\n",
    "    "
   ]
  },
  {
   "cell_type": "code",
   "execution_count": 13,
   "metadata": {},
   "outputs": [],
   "source": [
    "def create_tqdm_bar(iterable, desc):\n",
    "    return tqdm(enumerate(iterable),total=len(iterable), ncols=150, desc=desc)"
   ]
  },
  {
   "cell_type": "code",
   "execution_count": 22,
   "metadata": {
    "colab": {
     "base_uri": "https://localhost:8080/"
    },
    "executionInfo": {
     "elapsed": 100251,
     "status": "ok",
     "timestamp": 1656688055600,
     "user": {
      "displayName": "Dan Halperin",
      "userId": "04461491770918170797"
     },
     "user_tz": -120
    },
    "id": "7fRJmnLnCPTs",
    "outputId": "87a13392-7be9-4296-e12b-d2d8c3878578"
   },
   "outputs": [
    {
     "name": "stderr",
     "output_type": "stream",
     "text": [
      "Epoch 1 Training: 100%|████████████████████████████████████████████████████████████████████████████████████| 7/7 [00:02<00:00,  2.74it/s, loss=0.0642]\n",
      "Epoch 1 Validation: 100%|██████████████████████████████████████████████████████████████████████████████| 2/2 [00:00<00:00,  4.89it/s, val_loss=0.0995]\n"
     ]
    },
    {
     "name": "stdout",
     "output_type": "stream",
     "text": [
      "Epoch 1, Validation loss: 0.09913342073559761\n"
     ]
    },
    {
     "name": "stderr",
     "output_type": "stream",
     "text": [
      "Epoch 2 Training: 100%|████████████████████████████████████████████████████████████████████████████████████| 7/7 [00:02<00:00,  2.94it/s, loss=0.0192]\n",
      "Epoch 2 Validation: 100%|██████████████████████████████████████████████████████████████████████████████| 2/2 [00:00<00:00,  4.77it/s, val_loss=0.0677]\n"
     ]
    },
    {
     "name": "stdout",
     "output_type": "stream",
     "text": [
      "Epoch 2, Validation loss: 0.06730962544679642\n"
     ]
    },
    {
     "name": "stderr",
     "output_type": "stream",
     "text": [
      "Epoch 3 Training: 100%|████████████████████████████████████████████████████████████████████████████████████| 7/7 [00:02<00:00,  2.75it/s, loss=0.0166]\n",
      "Epoch 3 Validation: 100%|██████████████████████████████████████████████████████████████████████████████| 2/2 [00:00<00:00,  4.98it/s, val_loss=0.0415]\n"
     ]
    },
    {
     "name": "stdout",
     "output_type": "stream",
     "text": [
      "Epoch 3, Validation loss: 0.04126976802945137\n"
     ]
    },
    {
     "name": "stderr",
     "output_type": "stream",
     "text": [
      "Epoch 4 Training: 100%|████████████████████████████████████████████████████████████████████████████████████| 7/7 [00:02<00:00,  2.91it/s, loss=0.0169]\n",
      "Epoch 4 Validation: 100%|██████████████████████████████████████████████████████████████████████████████| 2/2 [00:00<00:00,  4.77it/s, val_loss=0.0434]\n"
     ]
    },
    {
     "name": "stdout",
     "output_type": "stream",
     "text": [
      "Epoch 4, Validation loss: 0.043055592104792595\n"
     ]
    },
    {
     "name": "stderr",
     "output_type": "stream",
     "text": [
      "Epoch 5 Training: 100%|████████████████████████████████████████████████████████████████████████████████████| 7/7 [00:02<00:00,  2.72it/s, loss=0.0158]\n",
      "Epoch 5 Validation: 100%|██████████████████████████████████████████████████████████████████████████████| 2/2 [00:00<00:00,  4.93it/s, val_loss=0.0279]\n"
     ]
    },
    {
     "name": "stdout",
     "output_type": "stream",
     "text": [
      "Epoch 5, Validation loss: 0.02767201606184244\n"
     ]
    },
    {
     "name": "stderr",
     "output_type": "stream",
     "text": [
      "Epoch 6 Training: 100%|████████████████████████████████████████████████████████████████████████████████████| 7/7 [00:02<00:00,  2.70it/s, loss=0.0119]\n",
      "Epoch 6 Validation: 100%|██████████████████████████████████████████████████████████████████████████████| 2/2 [00:00<00:00,  4.91it/s, val_loss=0.0219]\n"
     ]
    },
    {
     "name": "stdout",
     "output_type": "stream",
     "text": [
      "Epoch 6, Validation loss: 0.021669724956154823\n"
     ]
    },
    {
     "name": "stderr",
     "output_type": "stream",
     "text": [
      "Epoch 7 Training: 100%|████████████████████████████████████████████████████████████████████████████████████| 7/7 [00:02<00:00,  2.95it/s, loss=0.0107]\n",
      "Epoch 7 Validation: 100%|██████████████████████████████████████████████████████████████████████████████| 2/2 [00:00<00:00,  4.81it/s, val_loss=0.0216]\n"
     ]
    },
    {
     "name": "stdout",
     "output_type": "stream",
     "text": [
      "Epoch 7, Validation loss: 0.021377109922468662\n"
     ]
    },
    {
     "name": "stderr",
     "output_type": "stream",
     "text": [
      "Epoch 8 Training: 100%|████████████████████████████████████████████████████████████████████████████████████| 7/7 [00:02<00:00,  2.70it/s, loss=0.0149]\n",
      "Epoch 8 Validation: 100%|██████████████████████████████████████████████████████████████████████████████| 2/2 [00:00<00:00,  4.32it/s, val_loss=0.0218]\n"
     ]
    },
    {
     "name": "stdout",
     "output_type": "stream",
     "text": [
      "Epoch 8, Validation loss: 0.021615690551698208\n"
     ]
    },
    {
     "name": "stderr",
     "output_type": "stream",
     "text": [
      "Epoch 9 Training: 100%|███████████████████████████████████████████████████████████████████████████████████| 7/7 [00:02<00:00,  2.60it/s, loss=0.00854]\n",
      "Epoch 9 Validation: 100%|██████████████████████████████████████████████████████████████████████████████| 2/2 [00:00<00:00,  4.83it/s, val_loss=0.0157]\n"
     ]
    },
    {
     "name": "stdout",
     "output_type": "stream",
     "text": [
      "Epoch 9, Validation loss: 0.015458627138286829\n"
     ]
    },
    {
     "name": "stderr",
     "output_type": "stream",
     "text": [
      "Epoch 10 Training: 100%|██████████████████████████████████████████████████████████████████████████████████| 7/7 [00:02<00:00,  2.63it/s, loss=0.00874]\n",
      "Epoch 10 Validation: 100%|█████████████████████████████████████████████████████████████████████████████| 2/2 [00:00<00:00,  4.84it/s, val_loss=0.0108]\n"
     ]
    },
    {
     "name": "stdout",
     "output_type": "stream",
     "text": [
      "Epoch 10, Validation loss: 0.0105742821469903\n"
     ]
    },
    {
     "name": "stderr",
     "output_type": "stream",
     "text": [
      "Epoch 11 Training: 100%|███████████████████████████████████████████████████████████████████████████████████| 7/7 [00:02<00:00,  2.82it/s, loss=0.0101]\n",
      "Epoch 11 Validation: 100%|█████████████████████████████████████████████████████████████████████████████| 2/2 [00:00<00:00,  4.87it/s, val_loss=0.0103]\n"
     ]
    },
    {
     "name": "stdout",
     "output_type": "stream",
     "text": [
      "Epoch 11, Validation loss: 0.010128968395292759\n"
     ]
    },
    {
     "name": "stderr",
     "output_type": "stream",
     "text": [
      "Epoch 12 Training: 100%|██████████████████████████████████████████████████████████████████████████████████| 7/7 [00:02<00:00,  2.91it/s, loss=0.00574]\n",
      "Epoch 12 Validation: 100%|█████████████████████████████████████████████████████████████████████████████| 2/2 [00:00<00:00,  4.13it/s, val_loss=0.0113]\n"
     ]
    },
    {
     "name": "stdout",
     "output_type": "stream",
     "text": [
      "Epoch 12, Validation loss: 0.011193059384822845\n"
     ]
    },
    {
     "name": "stderr",
     "output_type": "stream",
     "text": [
      "Epoch 13 Training: 100%|██████████████████████████████████████████████████████████████████████████████████| 7/7 [00:02<00:00,  2.81it/s, loss=0.00971]\n",
      "Epoch 13 Validation: 100%|█████████████████████████████████████████████████████████████████████████████| 2/2 [00:00<00:00,  4.09it/s, val_loss=0.0088]\n"
     ]
    },
    {
     "name": "stdout",
     "output_type": "stream",
     "text": [
      "Epoch 13, Validation loss: 0.008637675549834967\n"
     ]
    },
    {
     "name": "stderr",
     "output_type": "stream",
     "text": [
      "Epoch 14 Training: 100%|██████████████████████████████████████████████████████████████████████████████████| 7/7 [00:02<00:00,  2.71it/s, loss=0.00722]\n",
      "Epoch 14 Validation: 100%|█████████████████████████████████████████████████████████████████████████████| 2/2 [00:00<00:00,  4.08it/s, val_loss=0.0103]\n"
     ]
    },
    {
     "name": "stdout",
     "output_type": "stream",
     "text": [
      "Epoch 14, Validation loss: 0.010144547559320927\n"
     ]
    },
    {
     "name": "stderr",
     "output_type": "stream",
     "text": [
      "Epoch 15 Training: 100%|██████████████████████████████████████████████████████████████████████████████████| 7/7 [00:02<00:00,  2.59it/s, loss=0.00778]\n",
      "Epoch 15 Validation: 100%|█████████████████████████████████████████████████████████████████████████████| 2/2 [00:00<00:00,  4.55it/s, val_loss=0.0101]\n"
     ]
    },
    {
     "name": "stdout",
     "output_type": "stream",
     "text": [
      "Epoch 15, Validation loss: 0.009891603607684374\n"
     ]
    },
    {
     "name": "stderr",
     "output_type": "stream",
     "text": [
      "Epoch 16 Training: 100%|██████████████████████████████████████████████████████████████████████████████████| 7/7 [00:02<00:00,  2.57it/s, loss=0.00534]\n",
      "Epoch 16 Validation: 100%|█████████████████████████████████████████████████████████████████████████████| 2/2 [00:00<00:00,  4.57it/s, val_loss=0.0089]\n"
     ]
    },
    {
     "name": "stdout",
     "output_type": "stream",
     "text": [
      "Epoch 16, Validation loss: 0.008734127040952444\n"
     ]
    },
    {
     "name": "stderr",
     "output_type": "stream",
     "text": [
      "Epoch 17 Training: 100%|██████████████████████████████████████████████████████████████████████████████████| 7/7 [00:02<00:00,  2.62it/s, loss=0.00561]\n",
      "Epoch 17 Validation: 100%|█████████████████████████████████████████████████████████████████████████████| 2/2 [00:00<00:00,  4.54it/s, val_loss=0.0102]\n"
     ]
    },
    {
     "name": "stdout",
     "output_type": "stream",
     "text": [
      "Epoch 17, Validation loss: 0.010054257232695818\n"
     ]
    },
    {
     "name": "stderr",
     "output_type": "stream",
     "text": [
      "Epoch 18 Training: 100%|███████████████████████████████████████████████████████████████████████████████████| 7/7 [00:02<00:00,  2.86it/s, loss=0.0076]\n",
      "Epoch 18 Validation: 100%|████████████████████████████████████████████████████████████████████████████| 2/2 [00:00<00:00,  4.41it/s, val_loss=0.00868]\n"
     ]
    },
    {
     "name": "stdout",
     "output_type": "stream",
     "text": [
      "Epoch 18, Validation loss: 0.00851163873448968\n"
     ]
    },
    {
     "name": "stderr",
     "output_type": "stream",
     "text": [
      "Epoch 19 Training: 100%|████████████████████████████████████████████████████████████████████████████████████| 7/7 [00:02<00:00,  2.50it/s, loss=0.007]\n",
      "Epoch 19 Validation: 100%|████████████████████████████████████████████████████████████████████████████| 2/2 [00:00<00:00,  4.55it/s, val_loss=0.00721]\n"
     ]
    },
    {
     "name": "stdout",
     "output_type": "stream",
     "text": [
      "Epoch 19, Validation loss: 0.007054892601445317\n"
     ]
    },
    {
     "name": "stderr",
     "output_type": "stream",
     "text": [
      "Epoch 20 Training: 100%|██████████████████████████████████████████████████████████████████████████████████| 7/7 [00:02<00:00,  2.75it/s, loss=0.00676]\n",
      "Epoch 20 Validation: 100%|████████████████████████████████████████████████████████████████████████████| 2/2 [00:00<00:00,  4.38it/s, val_loss=0.00922]\n"
     ]
    },
    {
     "name": "stdout",
     "output_type": "stream",
     "text": [
      "Epoch 20, Validation loss: 0.009054397232830524\n"
     ]
    },
    {
     "name": "stderr",
     "output_type": "stream",
     "text": [
      "Epoch 21 Training: 100%|███████████████████████████████████████████████████████████████████████████████████| 7/7 [00:02<00:00,  2.36it/s, loss=0.0098]\n",
      "Epoch 21 Validation: 100%|████████████████████████████████████████████████████████████████████████████| 2/2 [00:00<00:00,  4.59it/s, val_loss=0.00951]\n"
     ]
    },
    {
     "name": "stdout",
     "output_type": "stream",
     "text": [
      "Epoch 21, Validation loss: 0.0093410424888134\n"
     ]
    },
    {
     "name": "stderr",
     "output_type": "stream",
     "text": [
      "Epoch 22 Training: 100%|███████████████████████████████████████████████████████████████████████████████████| 7/7 [00:02<00:00,  2.67it/s, loss=0.0078]\n",
      "Epoch 22 Validation: 100%|████████████████████████████████████████████████████████████████████████████| 2/2 [00:00<00:00,  4.58it/s, val_loss=0.00749]\n"
     ]
    },
    {
     "name": "stdout",
     "output_type": "stream",
     "text": [
      "Epoch 22, Validation loss: 0.007343259174376726\n"
     ]
    },
    {
     "name": "stderr",
     "output_type": "stream",
     "text": [
      "Epoch 23 Training: 100%|██████████████████████████████████████████████████████████████████████████████████| 7/7 [00:02<00:00,  2.87it/s, loss=0.00645]\n",
      "Epoch 23 Validation: 100%|████████████████████████████████████████████████████████████████████████████| 2/2 [00:00<00:00,  4.46it/s, val_loss=0.00771]\n"
     ]
    },
    {
     "name": "stdout",
     "output_type": "stream",
     "text": [
      "Epoch 23, Validation loss: 0.0075717659201473\n"
     ]
    },
    {
     "name": "stderr",
     "output_type": "stream",
     "text": [
      "Epoch 24 Training: 100%|██████████████████████████████████████████████████████████████████████████████████| 7/7 [00:03<00:00,  2.30it/s, loss=0.00828]\n",
      "Epoch 24 Validation: 100%|████████████████████████████████████████████████████████████████████████████| 2/2 [00:00<00:00,  4.60it/s, val_loss=0.00929]\n"
     ]
    },
    {
     "name": "stdout",
     "output_type": "stream",
     "text": [
      "Epoch 24, Validation loss: 0.00913724722340703\n"
     ]
    },
    {
     "name": "stderr",
     "output_type": "stream",
     "text": [
      "Epoch 25 Training: 100%|███████████████████████████████████████████████████████████████████████████████████| 7/7 [00:02<00:00,  2.79it/s, loss=0.0108]\n",
      "Epoch 25 Validation: 100%|████████████████████████████████████████████████████████████████████████████| 2/2 [00:00<00:00,  4.11it/s, val_loss=0.00778]\n"
     ]
    },
    {
     "name": "stdout",
     "output_type": "stream",
     "text": [
      "Epoch 25, Validation loss: 0.007632075576111674\n"
     ]
    },
    {
     "name": "stderr",
     "output_type": "stream",
     "text": [
      "Epoch 26 Training: 100%|██████████████████████████████████████████████████████████████████████████████████| 7/7 [00:02<00:00,  2.81it/s, loss=0.00496]\n",
      "Epoch 26 Validation: 100%|████████████████████████████████████████████████████████████████████████████| 2/2 [00:00<00:00,  4.65it/s, val_loss=0.00651]\n"
     ]
    },
    {
     "name": "stdout",
     "output_type": "stream",
     "text": [
      "Epoch 26, Validation loss: 0.00635547237470746\n"
     ]
    },
    {
     "name": "stderr",
     "output_type": "stream",
     "text": [
      "Epoch 27 Training: 100%|██████████████████████████████████████████████████████████████████████████████████| 7/7 [00:02<00:00,  2.57it/s, loss=0.00908]\n",
      "Epoch 27 Validation: 100%|█████████████████████████████████████████████████████████████████████████████| 2/2 [00:00<00:00,  4.58it/s, val_loss=0.0045]\n"
     ]
    },
    {
     "name": "stdout",
     "output_type": "stream",
     "text": [
      "Epoch 27, Validation loss: 0.004379823803901672\n"
     ]
    },
    {
     "name": "stderr",
     "output_type": "stream",
     "text": [
      "Epoch 28 Training: 100%|██████████████████████████████████████████████████████████████████████████████████| 7/7 [00:02<00:00,  2.67it/s, loss=0.00675]\n",
      "Epoch 28 Validation: 100%|████████████████████████████████████████████████████████████████████████████| 2/2 [00:00<00:00,  4.06it/s, val_loss=0.00425]\n"
     ]
    },
    {
     "name": "stdout",
     "output_type": "stream",
     "text": [
      "Epoch 28, Validation loss: 0.0041362689808011055\n"
     ]
    },
    {
     "name": "stderr",
     "output_type": "stream",
     "text": [
      "Epoch 29 Training: 100%|██████████████████████████████████████████████████████████████████████████████████| 7/7 [00:02<00:00,  2.61it/s, loss=0.00895]\n",
      "Epoch 29 Validation: 100%|████████████████████████████████████████████████████████████████████████████| 2/2 [00:00<00:00,  4.61it/s, val_loss=0.00511]\n"
     ]
    },
    {
     "name": "stdout",
     "output_type": "stream",
     "text": [
      "Epoch 29, Validation loss: 0.004983516409993172\n"
     ]
    },
    {
     "name": "stderr",
     "output_type": "stream",
     "text": [
      "Epoch 30 Training: 100%|██████████████████████████████████████████████████████████████████████████████████| 7/7 [00:02<00:00,  2.58it/s, loss=0.00752]\n",
      "Epoch 30 Validation: 100%|████████████████████████████████████████████████████████████████████████████| 2/2 [00:00<00:00,  4.68it/s, val_loss=0.00659]\n"
     ]
    },
    {
     "name": "stdout",
     "output_type": "stream",
     "text": [
      "Epoch 30, Validation loss: 0.006448881700634956\n"
     ]
    },
    {
     "name": "stderr",
     "output_type": "stream",
     "text": [
      "Epoch 31 Training: 100%|██████████████████████████████████████████████████████████████████████████████████| 7/7 [00:02<00:00,  2.89it/s, loss=0.00643]\n",
      "Epoch 31 Validation: 100%|████████████████████████████████████████████████████████████████████████████| 2/2 [00:00<00:00,  4.54it/s, val_loss=0.00639]\n"
     ]
    },
    {
     "name": "stdout",
     "output_type": "stream",
     "text": [
      "Epoch 31, Validation loss: 0.006257650209590793\n"
     ]
    },
    {
     "name": "stderr",
     "output_type": "stream",
     "text": [
      "Epoch 32 Training: 100%|██████████████████████████████████████████████████████████████████████████████████| 7/7 [00:02<00:00,  2.75it/s, loss=0.00567]\n",
      "Epoch 32 Validation: 100%|████████████████████████████████████████████████████████████████████████████| 2/2 [00:00<00:00,  4.14it/s, val_loss=0.00484]\n"
     ]
    },
    {
     "name": "stdout",
     "output_type": "stream",
     "text": [
      "Epoch 32, Validation loss: 0.004728387109935284\n"
     ]
    },
    {
     "name": "stderr",
     "output_type": "stream",
     "text": [
      "Epoch 33 Training: 100%|██████████████████████████████████████████████████████████████████████████████████| 7/7 [00:02<00:00,  2.61it/s, loss=0.00484]\n",
      "Epoch 33 Validation: 100%|█████████████████████████████████████████████████████████████████████████████| 2/2 [00:00<00:00,  4.66it/s, val_loss=0.0052]\n"
     ]
    },
    {
     "name": "stdout",
     "output_type": "stream",
     "text": [
      "Epoch 33, Validation loss: 0.005072192521765828\n"
     ]
    },
    {
     "name": "stderr",
     "output_type": "stream",
     "text": [
      "Epoch 34 Training: 100%|██████████████████████████████████████████████████████████████████████████████████| 7/7 [00:02<00:00,  2.73it/s, loss=0.00501]\n",
      "Epoch 34 Validation: 100%|█████████████████████████████████████████████████████████████████████████████| 2/2 [00:00<00:00,  4.60it/s, val_loss=0.0044]\n"
     ]
    },
    {
     "name": "stdout",
     "output_type": "stream",
     "text": [
      "Epoch 34, Validation loss: 0.004286059411242604\n"
     ]
    },
    {
     "name": "stderr",
     "output_type": "stream",
     "text": [
      "Epoch 35 Training: 100%|██████████████████████████████████████████████████████████████████████████████████| 7/7 [00:02<00:00,  2.78it/s, loss=0.00639]\n",
      "Epoch 35 Validation: 100%|████████████████████████████████████████████████████████████████████████████| 2/2 [00:00<00:00,  4.11it/s, val_loss=0.00412]\n"
     ]
    },
    {
     "name": "stdout",
     "output_type": "stream",
     "text": [
      "Epoch 35, Validation loss: 0.004025287926197052\n"
     ]
    },
    {
     "name": "stderr",
     "output_type": "stream",
     "text": [
      "Epoch 36 Training: 100%|██████████████████████████████████████████████████████████████████████████████████| 7/7 [00:02<00:00,  2.71it/s, loss=0.00692]\n",
      "Epoch 36 Validation: 100%|█████████████████████████████████████████████████████████████████████████████| 2/2 [00:00<00:00,  4.63it/s, val_loss=0.0051]\n"
     ]
    },
    {
     "name": "stdout",
     "output_type": "stream",
     "text": [
      "Epoch 36, Validation loss: 0.004975351970642805\n"
     ]
    },
    {
     "name": "stderr",
     "output_type": "stream",
     "text": [
      "Epoch 37 Training: 100%|██████████████████████████████████████████████████████████████████████████████████| 7/7 [00:02<00:00,  2.81it/s, loss=0.00557]\n",
      "Epoch 37 Validation: 100%|████████████████████████████████████████████████████████████████████████████| 2/2 [00:00<00:00,  4.19it/s, val_loss=0.00403]\n"
     ]
    },
    {
     "name": "stdout",
     "output_type": "stream",
     "text": [
      "Epoch 37, Validation loss: 0.003911150153726339\n"
     ]
    },
    {
     "name": "stderr",
     "output_type": "stream",
     "text": [
      "Epoch 38 Training: 100%|██████████████████████████████████████████████████████████████████████████████████| 7/7 [00:02<00:00,  2.36it/s, loss=0.00563]\n",
      "Epoch 38 Validation: 100%|████████████████████████████████████████████████████████████████████████████| 2/2 [00:00<00:00,  4.57it/s, val_loss=0.00384]\n"
     ]
    },
    {
     "name": "stdout",
     "output_type": "stream",
     "text": [
      "Epoch 38, Validation loss: 0.00373939611017704\n"
     ]
    },
    {
     "name": "stderr",
     "output_type": "stream",
     "text": [
      "Epoch 39 Training: 100%|██████████████████████████████████████████████████████████████████████████████████| 7/7 [00:02<00:00,  2.75it/s, loss=0.00631]\n",
      "Epoch 39 Validation: 100%|████████████████████████████████████████████████████████████████████████████| 2/2 [00:00<00:00,  4.83it/s, val_loss=0.00382]\n"
     ]
    },
    {
     "name": "stdout",
     "output_type": "stream",
     "text": [
      "Epoch 39, Validation loss: 0.003733189543709159\n"
     ]
    },
    {
     "name": "stderr",
     "output_type": "stream",
     "text": [
      "Epoch 40 Training: 100%|██████████████████████████████████████████████████████████████████████████████████| 7/7 [00:02<00:00,  2.90it/s, loss=0.00561]\n",
      "Epoch 40 Validation: 100%|████████████████████████████████████████████████████████████████████████████| 2/2 [00:00<00:00,  4.45it/s, val_loss=0.00404]\n"
     ]
    },
    {
     "name": "stdout",
     "output_type": "stream",
     "text": [
      "Epoch 40, Validation loss: 0.003923460375517607\n"
     ]
    },
    {
     "name": "stderr",
     "output_type": "stream",
     "text": [
      "Epoch 41 Training: 100%|██████████████████████████████████████████████████████████████████████████████████| 7/7 [00:02<00:00,  2.72it/s, loss=0.00598]\n",
      "Epoch 41 Validation: 100%|████████████████████████████████████████████████████████████████████████████| 2/2 [00:00<00:00,  4.55it/s, val_loss=0.00386]\n"
     ]
    },
    {
     "name": "stdout",
     "output_type": "stream",
     "text": [
      "Epoch 41, Validation loss: 0.003750514006242156\n"
     ]
    },
    {
     "name": "stderr",
     "output_type": "stream",
     "text": [
      "Epoch 42 Training: 100%|██████████████████████████████████████████████████████████████████████████████████| 7/7 [00:02<00:00,  2.57it/s, loss=0.00671]\n",
      "Epoch 42 Validation: 100%|████████████████████████████████████████████████████████████████████████████| 2/2 [00:00<00:00,  4.62it/s, val_loss=0.00366]\n"
     ]
    },
    {
     "name": "stdout",
     "output_type": "stream",
     "text": [
      "Epoch 42, Validation loss: 0.0035721652675420046\n"
     ]
    },
    {
     "name": "stderr",
     "output_type": "stream",
     "text": [
      "Epoch 43 Training: 100%|██████████████████████████████████████████████████████████████████████████████████| 7/7 [00:02<00:00,  2.89it/s, loss=0.00443]\n",
      "Epoch 43 Validation: 100%|████████████████████████████████████████████████████████████████████████████| 2/2 [00:00<00:00,  4.53it/s, val_loss=0.00388]\n"
     ]
    },
    {
     "name": "stdout",
     "output_type": "stream",
     "text": [
      "Epoch 43, Validation loss: 0.003780670929700136\n"
     ]
    },
    {
     "name": "stderr",
     "output_type": "stream",
     "text": [
      "Epoch 44 Training: 100%|██████████████████████████████████████████████████████████████████████████████████| 7/7 [00:02<00:00,  2.42it/s, loss=0.00512]\n",
      "Epoch 44 Validation: 100%|████████████████████████████████████████████████████████████████████████████| 2/2 [00:00<00:00,  4.63it/s, val_loss=0.00368]\n"
     ]
    },
    {
     "name": "stdout",
     "output_type": "stream",
     "text": [
      "Epoch 44, Validation loss: 0.0035743233747780323\n"
     ]
    },
    {
     "name": "stderr",
     "output_type": "stream",
     "text": [
      "Epoch 45 Training: 100%|██████████████████████████████████████████████████████████████████████████████████| 7/7 [00:02<00:00,  2.96it/s, loss=0.00495]\n",
      "Epoch 45 Validation: 100%|████████████████████████████████████████████████████████████████████████████| 2/2 [00:00<00:00,  4.30it/s, val_loss=0.00373]\n"
     ]
    },
    {
     "name": "stdout",
     "output_type": "stream",
     "text": [
      "Epoch 45, Validation loss: 0.003640389069914818\n"
     ]
    },
    {
     "name": "stderr",
     "output_type": "stream",
     "text": [
      "Epoch 46 Training: 100%|██████████████████████████████████████████████████████████████████████████████████| 7/7 [00:02<00:00,  2.82it/s, loss=0.00703]\n",
      "Epoch 46 Validation: 100%|████████████████████████████████████████████████████████████████████████████| 2/2 [00:00<00:00,  4.57it/s, val_loss=0.00371]\n"
     ]
    },
    {
     "name": "stdout",
     "output_type": "stream",
     "text": [
      "Epoch 46, Validation loss: 0.0036221485352143645\n"
     ]
    },
    {
     "name": "stderr",
     "output_type": "stream",
     "text": [
      "Epoch 47 Training: 100%|██████████████████████████████████████████████████████████████████████████████████| 7/7 [00:02<00:00,  2.63it/s, loss=0.00507]\n",
      "Epoch 47 Validation: 100%|████████████████████████████████████████████████████████████████████████████| 2/2 [00:00<00:00,  4.65it/s, val_loss=0.00359]\n"
     ]
    },
    {
     "name": "stdout",
     "output_type": "stream",
     "text": [
      "Epoch 47, Validation loss: 0.0034995091846212745\n"
     ]
    },
    {
     "name": "stderr",
     "output_type": "stream",
     "text": [
      "Epoch 48 Training: 100%|██████████████████████████████████████████████████████████████████████████████████| 7/7 [00:02<00:00,  2.80it/s, loss=0.00598]\n",
      "Epoch 48 Validation: 100%|████████████████████████████████████████████████████████████████████████████| 2/2 [00:00<00:00,  4.27it/s, val_loss=0.00369]\n"
     ]
    },
    {
     "name": "stdout",
     "output_type": "stream",
     "text": [
      "Epoch 48, Validation loss: 0.0035934995394200087\n"
     ]
    },
    {
     "name": "stderr",
     "output_type": "stream",
     "text": [
      "Epoch 49 Training: 100%|██████████████████████████████████████████████████████████████████████████████████| 7/7 [00:02<00:00,  2.79it/s, loss=0.00378]\n",
      "Epoch 49 Validation: 100%|████████████████████████████████████████████████████████████████████████████| 2/2 [00:00<00:00,  4.36it/s, val_loss=0.00365]\n"
     ]
    },
    {
     "name": "stdout",
     "output_type": "stream",
     "text": [
      "Epoch 49, Validation loss: 0.00356169231235981\n"
     ]
    },
    {
     "name": "stderr",
     "output_type": "stream",
     "text": [
      "Epoch 50 Training: 100%|██████████████████████████████████████████████████████████████████████████████████| 7/7 [00:02<00:00,  2.45it/s, loss=0.00388]\n",
      "Epoch 50 Validation: 100%|████████████████████████████████████████████████████████████████████████████| 2/2 [00:00<00:00,  4.24it/s, val_loss=0.00363]\n"
     ]
    },
    {
     "name": "stdout",
     "output_type": "stream",
     "text": [
      "Epoch 50, Validation loss: 0.003545996150933206\n"
     ]
    },
    {
     "name": "stderr",
     "output_type": "stream",
     "text": [
      "Epoch 51 Training: 100%|██████████████████████████████████████████████████████████████████████████████████| 7/7 [00:02<00:00,  2.87it/s, loss=0.00431]\n",
      "Epoch 51 Validation: 100%|████████████████████████████████████████████████████████████████████████████| 2/2 [00:00<00:00,  4.42it/s, val_loss=0.00364]\n"
     ]
    },
    {
     "name": "stdout",
     "output_type": "stream",
     "text": [
      "Epoch 51, Validation loss: 0.0035591510822996497\n"
     ]
    },
    {
     "name": "stderr",
     "output_type": "stream",
     "text": [
      "Epoch 52 Training: 100%|██████████████████████████████████████████████████████████████████████████████████| 7/7 [00:02<00:00,  2.78it/s, loss=0.00523]\n",
      "Epoch 52 Validation: 100%|████████████████████████████████████████████████████████████████████████████| 2/2 [00:00<00:00,  4.58it/s, val_loss=0.00355]\n"
     ]
    },
    {
     "name": "stdout",
     "output_type": "stream",
     "text": [
      "Epoch 52, Validation loss: 0.0034688891610130668\n"
     ]
    },
    {
     "name": "stderr",
     "output_type": "stream",
     "text": [
      "Epoch 53 Training: 100%|██████████████████████████████████████████████████████████████████████████████████| 7/7 [00:02<00:00,  2.61it/s, loss=0.00343]\n",
      "Epoch 53 Validation: 100%|████████████████████████████████████████████████████████████████████████████| 2/2 [00:00<00:00,  4.66it/s, val_loss=0.00357]\n"
     ]
    },
    {
     "name": "stdout",
     "output_type": "stream",
     "text": [
      "Epoch 53, Validation loss: 0.003496734192594886\n"
     ]
    },
    {
     "name": "stderr",
     "output_type": "stream",
     "text": [
      "Epoch 54 Training: 100%|██████████████████████████████████████████████████████████████████████████████████| 7/7 [00:02<00:00,  2.80it/s, loss=0.00734]\n",
      "Epoch 54 Validation: 100%|█████████████████████████████████████████████████████████████████████████████| 2/2 [00:00<00:00,  4.50it/s, val_loss=0.0036]\n"
     ]
    },
    {
     "name": "stdout",
     "output_type": "stream",
     "text": [
      "Epoch 54, Validation loss: 0.0035318800946697593\n"
     ]
    },
    {
     "name": "stderr",
     "output_type": "stream",
     "text": [
      "Epoch 55 Training: 100%|██████████████████████████████████████████████████████████████████████████████████| 7/7 [00:02<00:00,  2.84it/s, loss=0.00407]\n",
      "Epoch 55 Validation: 100%|████████████████████████████████████████████████████████████████████████████| 2/2 [00:00<00:00,  4.64it/s, val_loss=0.00361]\n"
     ]
    },
    {
     "name": "stdout",
     "output_type": "stream",
     "text": [
      "Epoch 55, Validation loss: 0.0035443922970443964\n"
     ]
    },
    {
     "name": "stderr",
     "output_type": "stream",
     "text": [
      "Epoch 56 Training: 100%|██████████████████████████████████████████████████████████████████████████████████| 7/7 [00:02<00:00,  2.53it/s, loss=0.00593]\n",
      "Epoch 56 Validation: 100%|████████████████████████████████████████████████████████████████████████████| 2/2 [00:00<00:00,  4.69it/s, val_loss=0.00378]\n"
     ]
    },
    {
     "name": "stdout",
     "output_type": "stream",
     "text": [
      "Epoch 56, Validation loss: 0.0036992208333685994\n"
     ]
    },
    {
     "name": "stderr",
     "output_type": "stream",
     "text": [
      "Epoch 57 Training: 100%|██████████████████████████████████████████████████████████████████████████████████| 7/7 [00:02<00:00,  2.77it/s, loss=0.00499]\n",
      "Epoch 57 Validation: 100%|████████████████████████████████████████████████████████████████████████████| 2/2 [00:00<00:00,  4.67it/s, val_loss=0.00365]\n"
     ]
    },
    {
     "name": "stdout",
     "output_type": "stream",
     "text": [
      "Epoch 57, Validation loss: 0.00356261373963207\n"
     ]
    },
    {
     "name": "stderr",
     "output_type": "stream",
     "text": [
      "Epoch 58 Training: 100%|██████████████████████████████████████████████████████████████████████████████████| 7/7 [00:02<00:00,  2.84it/s, loss=0.00647]\n",
      "Epoch 58 Validation: 100%|████████████████████████████████████████████████████████████████████████████| 2/2 [00:00<00:00,  4.48it/s, val_loss=0.00367]\n"
     ]
    },
    {
     "name": "stdout",
     "output_type": "stream",
     "text": [
      "Epoch 58, Validation loss: 0.003588181803934276\n"
     ]
    },
    {
     "name": "stderr",
     "output_type": "stream",
     "text": [
      "Epoch 59 Training: 100%|██████████████████████████████████████████████████████████████████████████████████| 7/7 [00:02<00:00,  2.87it/s, loss=0.00477]\n",
      "Epoch 59 Validation: 100%|█████████████████████████████████████████████████████████████████████████████| 2/2 [00:00<00:00,  4.62it/s, val_loss=0.0037]\n"
     ]
    },
    {
     "name": "stdout",
     "output_type": "stream",
     "text": [
      "Epoch 59, Validation loss: 0.003626802354119718\n"
     ]
    },
    {
     "name": "stderr",
     "output_type": "stream",
     "text": [
      "Epoch 60 Training: 100%|██████████████████████████████████████████████████████████████████████████████████| 7/7 [00:02<00:00,  2.74it/s, loss=0.00421]\n",
      "Epoch 60 Validation: 100%|████████████████████████████████████████████████████████████████████████████| 2/2 [00:00<00:00,  4.65it/s, val_loss=0.00362]\n"
     ]
    },
    {
     "name": "stdout",
     "output_type": "stream",
     "text": [
      "Epoch 60, Validation loss: 0.0035384000511839986\n"
     ]
    },
    {
     "name": "stderr",
     "output_type": "stream",
     "text": [
      "Epoch 61 Training: 100%|██████████████████████████████████████████████████████████████████████████████████| 7/7 [00:02<00:00,  2.76it/s, loss=0.00473]\n",
      "Epoch 61 Validation: 100%|████████████████████████████████████████████████████████████████████████████| 2/2 [00:00<00:00,  4.11it/s, val_loss=0.00356]\n"
     ]
    },
    {
     "name": "stdout",
     "output_type": "stream",
     "text": [
      "Epoch 61, Validation loss: 0.0034805440809577703\n"
     ]
    },
    {
     "name": "stderr",
     "output_type": "stream",
     "text": [
      "Epoch 62 Training: 100%|██████████████████████████████████████████████████████████████████████████████████| 7/7 [00:02<00:00,  2.50it/s, loss=0.00586]\n",
      "Epoch 62 Validation: 100%|████████████████████████████████████████████████████████████████████████████| 2/2 [00:00<00:00,  4.71it/s, val_loss=0.00352]\n"
     ]
    },
    {
     "name": "stdout",
     "output_type": "stream",
     "text": [
      "Epoch 62, Validation loss: 0.003433311590924859\n"
     ]
    },
    {
     "name": "stderr",
     "output_type": "stream",
     "text": [
      "Epoch 63 Training: 100%|██████████████████████████████████████████████████████████████████████████████████| 7/7 [00:02<00:00,  2.76it/s, loss=0.00544]\n",
      "Epoch 63 Validation: 100%|████████████████████████████████████████████████████████████████████████████| 2/2 [00:00<00:00,  4.84it/s, val_loss=0.00367]\n"
     ]
    },
    {
     "name": "stdout",
     "output_type": "stream",
     "text": [
      "Epoch 63, Validation loss: 0.003597278264351189\n"
     ]
    },
    {
     "name": "stderr",
     "output_type": "stream",
     "text": [
      "Epoch 64 Training: 100%|██████████████████████████████████████████████████████████████████████████████████| 7/7 [00:02<00:00,  2.83it/s, loss=0.00429]\n",
      "Epoch 64 Validation: 100%|████████████████████████████████████████████████████████████████████████████| 2/2 [00:00<00:00,  4.53it/s, val_loss=0.00367]\n"
     ]
    },
    {
     "name": "stdout",
     "output_type": "stream",
     "text": [
      "Epoch 64, Validation loss: 0.0035954437917098403\n"
     ]
    },
    {
     "name": "stderr",
     "output_type": "stream",
     "text": [
      "Epoch 65 Training: 100%|██████████████████████████████████████████████████████████████████████████████████| 7/7 [00:02<00:00,  2.89it/s, loss=0.00583]\n",
      "Epoch 65 Validation: 100%|████████████████████████████████████████████████████████████████████████████| 2/2 [00:00<00:00,  4.58it/s, val_loss=0.00359]\n"
     ]
    },
    {
     "name": "stdout",
     "output_type": "stream",
     "text": [
      "Epoch 65, Validation loss: 0.0035107285948470235\n"
     ]
    },
    {
     "name": "stderr",
     "output_type": "stream",
     "text": [
      "Epoch 66 Training: 100%|██████████████████████████████████████████████████████████████████████████████████| 7/7 [00:02<00:00,  2.74it/s, loss=0.00527]\n",
      "Epoch 66 Validation: 100%|████████████████████████████████████████████████████████████████████████████| 2/2 [00:00<00:00,  4.62it/s, val_loss=0.00356]\n"
     ]
    },
    {
     "name": "stdout",
     "output_type": "stream",
     "text": [
      "Epoch 66, Validation loss: 0.00347500282805413\n"
     ]
    },
    {
     "name": "stderr",
     "output_type": "stream",
     "text": [
      "Epoch 67 Training: 100%|██████████████████████████████████████████████████████████████████████████████████| 7/7 [00:02<00:00,  2.78it/s, loss=0.00511]\n",
      "Epoch 67 Validation: 100%|████████████████████████████████████████████████████████████████████████████| 2/2 [00:00<00:00,  4.12it/s, val_loss=0.00369]\n"
     ]
    },
    {
     "name": "stdout",
     "output_type": "stream",
     "text": [
      "Epoch 67, Validation loss: 0.0036260433262214065\n"
     ]
    },
    {
     "name": "stderr",
     "output_type": "stream",
     "text": [
      "Epoch 68 Training: 100%|███████████████████████████████████████████████████████████████████████████████████| 7/7 [00:02<00:00,  2.52it/s, loss=0.0054]\n",
      "Epoch 68 Validation: 100%|████████████████████████████████████████████████████████████████████████████| 2/2 [00:00<00:00,  4.68it/s, val_loss=0.00355]\n"
     ]
    },
    {
     "name": "stdout",
     "output_type": "stream",
     "text": [
      "Epoch 68, Validation loss: 0.0034785513998940587\n"
     ]
    },
    {
     "name": "stderr",
     "output_type": "stream",
     "text": [
      "Epoch 69 Training: 100%|██████████████████████████████████████████████████████████████████████████████████| 7/7 [00:02<00:00,  2.90it/s, loss=0.00409]\n",
      "Epoch 69 Validation: 100%|████████████████████████████████████████████████████████████████████████████| 2/2 [00:00<00:00,  4.60it/s, val_loss=0.00358]\n"
     ]
    },
    {
     "name": "stdout",
     "output_type": "stream",
     "text": [
      "Epoch 69, Validation loss: 0.0035012519219890237\n"
     ]
    },
    {
     "name": "stderr",
     "output_type": "stream",
     "text": [
      "Epoch 70 Training: 100%|██████████████████████████████████████████████████████████████████████████████████| 7/7 [00:02<00:00,  2.76it/s, loss=0.00708]\n",
      "Epoch 70 Validation: 100%|████████████████████████████████████████████████████████████████████████████| 2/2 [00:00<00:00,  4.10it/s, val_loss=0.00353]\n"
     ]
    },
    {
     "name": "stdout",
     "output_type": "stream",
     "text": [
      "Epoch 70, Validation loss: 0.0034453212283551693\n"
     ]
    },
    {
     "name": "stderr",
     "output_type": "stream",
     "text": [
      "Epoch 71 Training: 100%|██████████████████████████████████████████████████████████████████████████████████| 7/7 [00:02<00:00,  2.59it/s, loss=0.00671]\n",
      "Epoch 71 Validation: 100%|████████████████████████████████████████████████████████████████████████████| 2/2 [00:00<00:00,  4.66it/s, val_loss=0.00363]\n"
     ]
    },
    {
     "name": "stdout",
     "output_type": "stream",
     "text": [
      "Epoch 71, Validation loss: 0.0035432116128504276\n"
     ]
    },
    {
     "name": "stderr",
     "output_type": "stream",
     "text": [
      "Epoch 72 Training: 100%|██████████████████████████████████████████████████████████████████████████████████| 7/7 [00:02<00:00,  2.76it/s, loss=0.00321]\n",
      "Epoch 72 Validation: 100%|████████████████████████████████████████████████████████████████████████████| 2/2 [00:00<00:00,  4.45it/s, val_loss=0.00364]\n"
     ]
    },
    {
     "name": "stdout",
     "output_type": "stream",
     "text": [
      "Epoch 72, Validation loss: 0.003577146213501692\n"
     ]
    },
    {
     "name": "stderr",
     "output_type": "stream",
     "text": [
      "Epoch 73 Training: 100%|██████████████████████████████████████████████████████████████████████████████████| 7/7 [00:02<00:00,  2.75it/s, loss=0.00391]\n",
      "Epoch 73 Validation: 100%|█████████████████████████████████████████████████████████████████████████████| 2/2 [00:00<00:00,  4.67it/s, val_loss=0.0035]\n"
     ]
    },
    {
     "name": "stdout",
     "output_type": "stream",
     "text": [
      "Epoch 73, Validation loss: 0.0034330178750678897\n"
     ]
    },
    {
     "name": "stderr",
     "output_type": "stream",
     "text": [
      "Epoch 74 Training: 100%|██████████████████████████████████████████████████████████████████████████████████| 7/7 [00:02<00:00,  2.72it/s, loss=0.00781]\n",
      "Epoch 74 Validation: 100%|████████████████████████████████████████████████████████████████████████████| 2/2 [00:00<00:00,  4.68it/s, val_loss=0.00362]\n"
     ]
    },
    {
     "name": "stdout",
     "output_type": "stream",
     "text": [
      "Epoch 74, Validation loss: 0.003542925463989377\n"
     ]
    },
    {
     "name": "stderr",
     "output_type": "stream",
     "text": [
      "Epoch 75 Training: 100%|██████████████████████████████████████████████████████████████████████████████████| 7/7 [00:02<00:00,  2.78it/s, loss=0.00758]\n",
      "Epoch 75 Validation: 100%|████████████████████████████████████████████████████████████████████████████| 2/2 [00:00<00:00,  4.53it/s, val_loss=0.00361]\n"
     ]
    },
    {
     "name": "stdout",
     "output_type": "stream",
     "text": [
      "Epoch 75, Validation loss: 0.0035253469832241535\n"
     ]
    },
    {
     "name": "stderr",
     "output_type": "stream",
     "text": [
      "Epoch 76 Training: 100%|██████████████████████████████████████████████████████████████████████████████████| 7/7 [00:02<00:00,  2.86it/s, loss=0.00521]\n",
      "Epoch 76 Validation: 100%|████████████████████████████████████████████████████████████████████████████| 2/2 [00:00<00:00,  4.63it/s, val_loss=0.00354]\n"
     ]
    },
    {
     "name": "stdout",
     "output_type": "stream",
     "text": [
      "Epoch 76, Validation loss: 0.0034537172177806497\n"
     ]
    },
    {
     "name": "stderr",
     "output_type": "stream",
     "text": [
      "Epoch 77 Training: 100%|██████████████████████████████████████████████████████████████████████████████████| 7/7 [00:02<00:00,  2.50it/s, loss=0.00582]\n",
      "Epoch 77 Validation: 100%|████████████████████████████████████████████████████████████████████████████| 2/2 [00:00<00:00,  4.69it/s, val_loss=0.00343]\n"
     ]
    },
    {
     "name": "stdout",
     "output_type": "stream",
     "text": [
      "Epoch 77, Validation loss: 0.0033439263934269547\n"
     ]
    },
    {
     "name": "stderr",
     "output_type": "stream",
     "text": [
      "Epoch 78 Training: 100%|██████████████████████████████████████████████████████████████████████████████████| 7/7 [00:02<00:00,  2.51it/s, loss=0.00529]\n",
      "Epoch 78 Validation: 100%|████████████████████████████████████████████████████████████████████████████| 2/2 [00:00<00:00,  4.70it/s, val_loss=0.00363]\n"
     ]
    },
    {
     "name": "stdout",
     "output_type": "stream",
     "text": [
      "Epoch 78, Validation loss: 0.0035526128485798836\n"
     ]
    },
    {
     "name": "stderr",
     "output_type": "stream",
     "text": [
      "Epoch 79 Training: 100%|███████████████████████████████████████████████████████████████████████████████████| 7/7 [00:02<00:00,  2.76it/s, loss=0.0047]\n",
      "Epoch 79 Validation: 100%|████████████████████████████████████████████████████████████████████████████| 2/2 [00:00<00:00,  4.85it/s, val_loss=0.00356]\n"
     ]
    },
    {
     "name": "stdout",
     "output_type": "stream",
     "text": [
      "Epoch 79, Validation loss: 0.0034860612358897924\n"
     ]
    },
    {
     "name": "stderr",
     "output_type": "stream",
     "text": [
      "Epoch 80 Training: 100%|██████████████████████████████████████████████████████████████████████████████████| 7/7 [00:02<00:00,  2.89it/s, loss=0.00605]\n",
      "Epoch 80 Validation: 100%|████████████████████████████████████████████████████████████████████████████| 2/2 [00:00<00:00,  4.54it/s, val_loss=0.00349]\n"
     ]
    },
    {
     "name": "stdout",
     "output_type": "stream",
     "text": [
      "Epoch 80, Validation loss: 0.0034215296618640423\n"
     ]
    },
    {
     "name": "stderr",
     "output_type": "stream",
     "text": [
      "Epoch 81 Training: 100%|██████████████████████████████████████████████████████████████████████████████████| 7/7 [00:02<00:00,  2.83it/s, loss=0.00569]\n",
      "Epoch 81 Validation: 100%|████████████████████████████████████████████████████████████████████████████| 2/2 [00:00<00:00,  4.63it/s, val_loss=0.00353]\n"
     ]
    },
    {
     "name": "stdout",
     "output_type": "stream",
     "text": [
      "Epoch 81, Validation loss: 0.0034598688362166286\n"
     ]
    },
    {
     "name": "stderr",
     "output_type": "stream",
     "text": [
      "Epoch 82 Training: 100%|██████████████████████████████████████████████████████████████████████████████████| 7/7 [00:02<00:00,  2.77it/s, loss=0.00463]\n",
      "Epoch 82 Validation: 100%|████████████████████████████████████████████████████████████████████████████| 2/2 [00:00<00:00,  4.70it/s, val_loss=0.00352]\n"
     ]
    },
    {
     "name": "stdout",
     "output_type": "stream",
     "text": [
      "Epoch 82, Validation loss: 0.0034385421313345432\n"
     ]
    },
    {
     "name": "stderr",
     "output_type": "stream",
     "text": [
      "Epoch 83 Training: 100%|██████████████████████████████████████████████████████████████████████████████████| 7/7 [00:02<00:00,  2.78it/s, loss=0.00589]\n",
      "Epoch 83 Validation: 100%|████████████████████████████████████████████████████████████████████████████| 2/2 [00:00<00:00,  4.52it/s, val_loss=0.00347]\n"
     ]
    },
    {
     "name": "stdout",
     "output_type": "stream",
     "text": [
      "Epoch 83, Validation loss: 0.003385053016245365\n"
     ]
    },
    {
     "name": "stderr",
     "output_type": "stream",
     "text": [
      "Epoch 84 Training: 100%|██████████████████████████████████████████████████████████████████████████████████| 7/7 [00:02<00:00,  2.88it/s, loss=0.00366]\n",
      "Epoch 84 Validation: 100%|████████████████████████████████████████████████████████████████████████████| 2/2 [00:00<00:00,  4.65it/s, val_loss=0.00346]\n"
     ]
    },
    {
     "name": "stdout",
     "output_type": "stream",
     "text": [
      "Epoch 84, Validation loss: 0.0034003163455054164\n"
     ]
    },
    {
     "name": "stderr",
     "output_type": "stream",
     "text": [
      "Epoch 85 Training: 100%|██████████████████████████████████████████████████████████████████████████████████| 7/7 [00:02<00:00,  2.65it/s, loss=0.00466]\n",
      "Epoch 85 Validation: 100%|████████████████████████████████████████████████████████████████████████████| 2/2 [00:00<00:00,  4.70it/s, val_loss=0.00355]\n"
     ]
    },
    {
     "name": "stdout",
     "output_type": "stream",
     "text": [
      "Epoch 85, Validation loss: 0.0034853818360716105\n"
     ]
    },
    {
     "name": "stderr",
     "output_type": "stream",
     "text": [
      "Epoch 86 Training: 100%|██████████████████████████████████████████████████████████████████████████████████| 7/7 [00:02<00:00,  2.75it/s, loss=0.00385]\n",
      "Epoch 86 Validation: 100%|████████████████████████████████████████████████████████████████████████████| 2/2 [00:00<00:00,  4.65it/s, val_loss=0.00342]\n"
     ]
    },
    {
     "name": "stdout",
     "output_type": "stream",
     "text": [
      "Epoch 86, Validation loss: 0.0033388712909072638\n"
     ]
    },
    {
     "name": "stderr",
     "output_type": "stream",
     "text": [
      "Epoch 87 Training: 100%|██████████████████████████████████████████████████████████████████████████████████| 7/7 [00:02<00:00,  2.63it/s, loss=0.00339]\n",
      "Epoch 87 Validation: 100%|█████████████████████████████████████████████████████████████████████████████| 2/2 [00:00<00:00,  4.16it/s, val_loss=0.0035]\n"
     ]
    },
    {
     "name": "stdout",
     "output_type": "stream",
     "text": [
      "Epoch 87, Validation loss: 0.003430121229030192\n"
     ]
    },
    {
     "name": "stderr",
     "output_type": "stream",
     "text": [
      "Epoch 88 Training: 100%|██████████████████████████████████████████████████████████████████████████████████| 7/7 [00:02<00:00,  2.79it/s, loss=0.00517]\n",
      "Epoch 88 Validation: 100%|████████████████████████████████████████████████████████████████████████████| 2/2 [00:00<00:00,  4.71it/s, val_loss=0.00342]\n"
     ]
    },
    {
     "name": "stdout",
     "output_type": "stream",
     "text": [
      "Epoch 88, Validation loss: 0.0033333792816847563\n"
     ]
    },
    {
     "name": "stderr",
     "output_type": "stream",
     "text": [
      "Epoch 89 Training: 100%|██████████████████████████████████████████████████████████████████████████████████| 7/7 [00:02<00:00,  2.64it/s, loss=0.00921]\n",
      "Epoch 89 Validation: 100%|████████████████████████████████████████████████████████████████████████████| 2/2 [00:00<00:00,  4.84it/s, val_loss=0.00337]\n"
     ]
    },
    {
     "name": "stdout",
     "output_type": "stream",
     "text": [
      "Epoch 89, Validation loss: 0.0032876322511583567\n"
     ]
    },
    {
     "name": "stderr",
     "output_type": "stream",
     "text": [
      "Epoch 90 Training: 100%|██████████████████████████████████████████████████████████████████████████████████| 7/7 [00:02<00:00,  2.96it/s, loss=0.00397]\n",
      "Epoch 90 Validation: 100%|████████████████████████████████████████████████████████████████████████████| 2/2 [00:00<00:00,  4.79it/s, val_loss=0.00341]\n"
     ]
    },
    {
     "name": "stdout",
     "output_type": "stream",
     "text": [
      "Epoch 90, Validation loss: 0.003326921258121729\n"
     ]
    },
    {
     "name": "stderr",
     "output_type": "stream",
     "text": [
      "Epoch 91 Training: 100%|██████████████████████████████████████████████████████████████████████████████████| 7/7 [00:02<00:00,  2.81it/s, loss=0.00502]\n",
      "Epoch 91 Validation: 100%|████████████████████████████████████████████████████████████████████████████| 2/2 [00:00<00:00,  4.26it/s, val_loss=0.00344]\n"
     ]
    },
    {
     "name": "stdout",
     "output_type": "stream",
     "text": [
      "Epoch 91, Validation loss: 0.0033679413609206676\n"
     ]
    },
    {
     "name": "stderr",
     "output_type": "stream",
     "text": [
      "Epoch 92 Training: 100%|██████████████████████████████████████████████████████████████████████████████████| 7/7 [00:02<00:00,  2.92it/s, loss=0.00432]\n",
      "Epoch 92 Validation: 100%|████████████████████████████████████████████████████████████████████████████| 2/2 [00:00<00:00,  4.65it/s, val_loss=0.00353]\n"
     ]
    },
    {
     "name": "stdout",
     "output_type": "stream",
     "text": [
      "Epoch 92, Validation loss: 0.0034491544356569648\n"
     ]
    },
    {
     "name": "stderr",
     "output_type": "stream",
     "text": [
      "Epoch 93 Training: 100%|███████████████████████████████████████████████████████████████████████████████████| 7/7 [00:02<00:00,  2.69it/s, loss=0.0044]\n",
      "Epoch 93 Validation: 100%|█████████████████████████████████████████████████████████████████████████████| 2/2 [00:00<00:00,  4.32it/s, val_loss=0.0034]\n"
     ]
    },
    {
     "name": "stdout",
     "output_type": "stream",
     "text": [
      "Epoch 93, Validation loss: 0.0033172088442370296\n"
     ]
    },
    {
     "name": "stderr",
     "output_type": "stream",
     "text": [
      "Epoch 94 Training: 100%|██████████████████████████████████████████████████████████████████████████████████| 7/7 [00:02<00:00,  2.56it/s, loss=0.00863]\n",
      "Epoch 94 Validation: 100%|████████████████████████████████████████████████████████████████████████████| 2/2 [00:00<00:00,  4.86it/s, val_loss=0.00339]\n"
     ]
    },
    {
     "name": "stdout",
     "output_type": "stream",
     "text": [
      "Epoch 94, Validation loss: 0.003326230333186686\n"
     ]
    },
    {
     "name": "stderr",
     "output_type": "stream",
     "text": [
      "Epoch 95 Training: 100%|██████████████████████████████████████████████████████████████████████████████████| 7/7 [00:02<00:00,  2.71it/s, loss=0.00537]\n",
      "Epoch 95 Validation: 100%|████████████████████████████████████████████████████████████████████████████| 2/2 [00:00<00:00,  4.72it/s, val_loss=0.00347]\n"
     ]
    },
    {
     "name": "stdout",
     "output_type": "stream",
     "text": [
      "Epoch 95, Validation loss: 0.003392233280465007\n"
     ]
    },
    {
     "name": "stderr",
     "output_type": "stream",
     "text": [
      "Epoch 96 Training: 100%|███████████████████████████████████████████████████████████████████████████████████| 7/7 [00:02<00:00,  2.91it/s, loss=0.0058]\n",
      "Epoch 96 Validation: 100%|████████████████████████████████████████████████████████████████████████████| 2/2 [00:00<00:00,  4.55it/s, val_loss=0.00347]\n"
     ]
    },
    {
     "name": "stdout",
     "output_type": "stream",
     "text": [
      "Epoch 96, Validation loss: 0.003370697842910886\n"
     ]
    },
    {
     "name": "stderr",
     "output_type": "stream",
     "text": [
      "Epoch 97 Training: 100%|██████████████████████████████████████████████████████████████████████████████████| 7/7 [00:02<00:00,  2.80it/s, loss=0.00561]\n",
      "Epoch 97 Validation: 100%|████████████████████████████████████████████████████████████████████████████| 2/2 [00:00<00:00,  4.18it/s, val_loss=0.00343]\n"
     ]
    },
    {
     "name": "stdout",
     "output_type": "stream",
     "text": [
      "Epoch 97, Validation loss: 0.003372120321728289\n"
     ]
    },
    {
     "name": "stderr",
     "output_type": "stream",
     "text": [
      "Epoch 98 Training: 100%|███████████████████████████████████████████████████████████████████████████████████| 7/7 [00:02<00:00,  2.55it/s, loss=0.0049]\n",
      "Epoch 98 Validation: 100%|████████████████████████████████████████████████████████████████████████████| 2/2 [00:00<00:00,  4.68it/s, val_loss=0.00337]\n"
     ]
    },
    {
     "name": "stdout",
     "output_type": "stream",
     "text": [
      "Epoch 98, Validation loss: 0.003302286146208644\n"
     ]
    },
    {
     "name": "stderr",
     "output_type": "stream",
     "text": [
      "Epoch 99 Training: 100%|██████████████████████████████████████████████████████████████████████████████████| 7/7 [00:02<00:00,  2.75it/s, loss=0.00547]\n",
      "Epoch 99 Validation: 100%|████████████████████████████████████████████████████████████████████████████| 2/2 [00:00<00:00,  4.71it/s, val_loss=0.00347]\n"
     ]
    },
    {
     "name": "stdout",
     "output_type": "stream",
     "text": [
      "Epoch 99, Validation loss: 0.003370517399162054\n"
     ]
    },
    {
     "name": "stderr",
     "output_type": "stream",
     "text": [
      "Epoch 100 Training: 100%|█████████████████████████████████████████████████████████████████████████████████| 7/7 [00:02<00:00,  2.94it/s, loss=0.00547]\n",
      "Epoch 100 Validation: 100%|███████████████████████████████████████████████████████████████████████████| 2/2 [00:00<00:00,  4.50it/s, val_loss=0.00338]\n"
     ]
    },
    {
     "name": "stdout",
     "output_type": "stream",
     "text": [
      "Epoch 100, Validation loss: 0.0032851743744686246\n"
     ]
    },
    {
     "name": "stderr",
     "output_type": "stream",
     "text": [
      "Epoch 101 Training: 100%|█████████████████████████████████████████████████████████████████████████████████| 7/7 [00:02<00:00,  2.44it/s, loss=0.00773]\n",
      "Epoch 101 Validation: 100%|███████████████████████████████████████████████████████████████████████████| 2/2 [00:00<00:00,  4.71it/s, val_loss=0.00338]\n"
     ]
    },
    {
     "name": "stdout",
     "output_type": "stream",
     "text": [
      "Epoch 101, Validation loss: 0.003300337237305939\n"
     ]
    },
    {
     "name": "stderr",
     "output_type": "stream",
     "text": [
      "Epoch 102 Training: 100%|█████████████████████████████████████████████████████████████████████████████████| 7/7 [00:02<00:00,  2.64it/s, loss=0.00745]\n",
      "Epoch 102 Validation: 100%|███████████████████████████████████████████████████████████████████████████| 2/2 [00:00<00:00,  4.70it/s, val_loss=0.00337]\n"
     ]
    },
    {
     "name": "stdout",
     "output_type": "stream",
     "text": [
      "Epoch 102, Validation loss: 0.00327600899618119\n"
     ]
    },
    {
     "name": "stderr",
     "output_type": "stream",
     "text": [
      "Epoch 103 Training: 100%|█████████████████████████████████████████████████████████████████████████████████| 7/7 [00:02<00:00,  2.98it/s, loss=0.00449]\n",
      "Epoch 103 Validation: 100%|███████████████████████████████████████████████████████████████████████████| 2/2 [00:00<00:00,  4.56it/s, val_loss=0.00335]\n"
     ]
    },
    {
     "name": "stdout",
     "output_type": "stream",
     "text": [
      "Epoch 103, Validation loss: 0.003263424849137664\n"
     ]
    },
    {
     "name": "stderr",
     "output_type": "stream",
     "text": [
      "Epoch 104 Training: 100%|█████████████████████████████████████████████████████████████████████████████████| 7/7 [00:02<00:00,  2.51it/s, loss=0.00354]\n",
      "Epoch 104 Validation: 100%|███████████████████████████████████████████████████████████████████████████| 2/2 [00:00<00:00,  4.72it/s, val_loss=0.00341]\n"
     ]
    },
    {
     "name": "stdout",
     "output_type": "stream",
     "text": [
      "Epoch 104, Validation loss: 0.003327091922983527\n"
     ]
    },
    {
     "name": "stderr",
     "output_type": "stream",
     "text": [
      "Epoch 105 Training: 100%|█████████████████████████████████████████████████████████████████████████████████| 7/7 [00:02<00:00,  2.78it/s, loss=0.00693]\n",
      "Epoch 105 Validation: 100%|███████████████████████████████████████████████████████████████████████████| 2/2 [00:00<00:00,  4.66it/s, val_loss=0.00348]\n"
     ]
    },
    {
     "name": "stdout",
     "output_type": "stream",
     "text": [
      "Epoch 105, Validation loss: 0.00340455723926425\n"
     ]
    },
    {
     "name": "stderr",
     "output_type": "stream",
     "text": [
      "Epoch 106 Training: 100%|██████████████████████████████████████████████████████████████████████████████████| 7/7 [00:02<00:00,  2.83it/s, loss=0.0073]\n",
      "Epoch 106 Validation: 100%|███████████████████████████████████████████████████████████████████████████| 2/2 [00:00<00:00,  4.55it/s, val_loss=0.00348]\n"
     ]
    },
    {
     "name": "stdout",
     "output_type": "stream",
     "text": [
      "Epoch 106, Validation loss: 0.003422080655582249\n"
     ]
    },
    {
     "name": "stderr",
     "output_type": "stream",
     "text": [
      "Epoch 107 Training: 100%|█████████████████████████████████████████████████████████████████████████████████| 7/7 [00:02<00:00,  2.86it/s, loss=0.00357]\n",
      "Epoch 107 Validation: 100%|████████████████████████████████████████████████████████████████████████████| 2/2 [00:00<00:00,  4.65it/s, val_loss=0.0035]\n"
     ]
    },
    {
     "name": "stdout",
     "output_type": "stream",
     "text": [
      "Epoch 107, Validation loss: 0.003433128702454269\n"
     ]
    },
    {
     "name": "stderr",
     "output_type": "stream",
     "text": [
      "Epoch 108 Training: 100%|█████████████████████████████████████████████████████████████████████████████████| 7/7 [00:02<00:00,  2.64it/s, loss=0.00476]\n",
      "Epoch 108 Validation: 100%|███████████████████████████████████████████████████████████████████████████| 2/2 [00:00<00:00,  4.70it/s, val_loss=0.00352]\n"
     ]
    },
    {
     "name": "stdout",
     "output_type": "stream",
     "text": [
      "Epoch 108, Validation loss: 0.0034624473191797733\n"
     ]
    },
    {
     "name": "stderr",
     "output_type": "stream",
     "text": [
      "Epoch 109 Training: 100%|█████████████████████████████████████████████████████████████████████████████████| 7/7 [00:02<00:00,  2.73it/s, loss=0.00722]\n",
      "Epoch 109 Validation: 100%|████████████████████████████████████████████████████████████████████████████| 2/2 [00:00<00:00,  4.83it/s, val_loss=0.0035]\n"
     ]
    },
    {
     "name": "stdout",
     "output_type": "stream",
     "text": [
      "Epoch 109, Validation loss: 0.003437525243498385\n"
     ]
    },
    {
     "name": "stderr",
     "output_type": "stream",
     "text": [
      "Epoch 110 Training: 100%|█████████████████████████████████████████████████████████████████████████████████| 7/7 [00:02<00:00,  2.90it/s, loss=0.00505]\n",
      "Epoch 110 Validation: 100%|███████████████████████████████████████████████████████████████████████████| 2/2 [00:00<00:00,  4.31it/s, val_loss=0.00344]\n"
     ]
    },
    {
     "name": "stdout",
     "output_type": "stream",
     "text": [
      "Epoch 110, Validation loss: 0.003362828283570707\n"
     ]
    },
    {
     "name": "stderr",
     "output_type": "stream",
     "text": [
      "Epoch 111 Training: 100%|█████████████████████████████████████████████████████████████████████████████████| 7/7 [00:02<00:00,  2.99it/s, loss=0.00496]\n",
      "Epoch 111 Validation: 100%|███████████████████████████████████████████████████████████████████████████| 2/2 [00:00<00:00,  4.80it/s, val_loss=0.00331]\n"
     ]
    },
    {
     "name": "stdout",
     "output_type": "stream",
     "text": [
      "Epoch 111, Validation loss: 0.003230160567909479\n"
     ]
    },
    {
     "name": "stderr",
     "output_type": "stream",
     "text": [
      "Epoch 112 Training: 100%|█████████████████████████████████████████████████████████████████████████████████| 7/7 [00:02<00:00,  2.89it/s, loss=0.00607]\n",
      "Epoch 112 Validation: 100%|███████████████████████████████████████████████████████████████████████████| 2/2 [00:00<00:00,  4.61it/s, val_loss=0.00342]\n"
     ]
    },
    {
     "name": "stdout",
     "output_type": "stream",
     "text": [
      "Epoch 112, Validation loss: 0.0033593770349398255\n"
     ]
    },
    {
     "name": "stderr",
     "output_type": "stream",
     "text": [
      "Epoch 113 Training: 100%|█████████████████████████████████████████████████████████████████████████████████| 7/7 [00:02<00:00,  2.98it/s, loss=0.00633]\n",
      "Epoch 113 Validation: 100%|███████████████████████████████████████████████████████████████████████████| 2/2 [00:00<00:00,  4.94it/s, val_loss=0.00341]\n"
     ]
    },
    {
     "name": "stdout",
     "output_type": "stream",
     "text": [
      "Epoch 113, Validation loss: 0.0033297360641881824\n"
     ]
    },
    {
     "name": "stderr",
     "output_type": "stream",
     "text": [
      "Epoch 114 Training: 100%|█████████████████████████████████████████████████████████████████████████████████| 7/7 [00:02<00:00,  2.63it/s, loss=0.00613]\n",
      "Epoch 114 Validation: 100%|███████████████████████████████████████████████████████████████████████████| 2/2 [00:00<00:00,  4.87it/s, val_loss=0.00342]\n"
     ]
    },
    {
     "name": "stdout",
     "output_type": "stream",
     "text": [
      "Epoch 114, Validation loss: 0.00332605536095798\n"
     ]
    },
    {
     "name": "stderr",
     "output_type": "stream",
     "text": [
      "Epoch 115 Training: 100%|█████████████████████████████████████████████████████████████████████████████████| 7/7 [00:02<00:00,  2.90it/s, loss=0.00655]\n",
      "Epoch 115 Validation: 100%|███████████████████████████████████████████████████████████████████████████| 2/2 [00:00<00:00,  4.30it/s, val_loss=0.00338]\n"
     ]
    },
    {
     "name": "stdout",
     "output_type": "stream",
     "text": [
      "Epoch 115, Validation loss: 0.0032860214123502374\n"
     ]
    },
    {
     "name": "stderr",
     "output_type": "stream",
     "text": [
      "Epoch 116 Training: 100%|█████████████████████████████████████████████████████████████████████████████████| 7/7 [00:02<00:00,  2.86it/s, loss=0.00594]\n",
      "Epoch 116 Validation: 100%|████████████████████████████████████████████████████████████████████████████| 2/2 [00:00<00:00,  4.27it/s, val_loss=0.0033]\n"
     ]
    },
    {
     "name": "stdout",
     "output_type": "stream",
     "text": [
      "Epoch 116, Validation loss: 0.0032227375777438283\n"
     ]
    },
    {
     "name": "stderr",
     "output_type": "stream",
     "text": [
      "Epoch 117 Training: 100%|█████████████████████████████████████████████████████████████████████████████████| 7/7 [00:02<00:00,  2.70it/s, loss=0.00666]\n",
      "Epoch 117 Validation: 100%|███████████████████████████████████████████████████████████████████████████| 2/2 [00:00<00:00,  4.86it/s, val_loss=0.00333]\n"
     ]
    },
    {
     "name": "stdout",
     "output_type": "stream",
     "text": [
      "Epoch 117, Validation loss: 0.0032450371654704213\n"
     ]
    },
    {
     "name": "stderr",
     "output_type": "stream",
     "text": [
      "Epoch 118 Training: 100%|█████████████████████████████████████████████████████████████████████████████████| 7/7 [00:02<00:00,  2.86it/s, loss=0.00399]\n",
      "Epoch 118 Validation: 100%|███████████████████████████████████████████████████████████████████████████| 2/2 [00:00<00:00,  4.87it/s, val_loss=0.00352]\n"
     ]
    },
    {
     "name": "stdout",
     "output_type": "stream",
     "text": [
      "Epoch 118, Validation loss: 0.003447940107434988\n"
     ]
    },
    {
     "name": "stderr",
     "output_type": "stream",
     "text": [
      "Epoch 119 Training: 100%|█████████████████████████████████████████████████████████████████████████████████| 7/7 [00:02<00:00,  2.73it/s, loss=0.00977]\n",
      "Epoch 119 Validation: 100%|███████████████████████████████████████████████████████████████████████████| 2/2 [00:00<00:00,  4.86it/s, val_loss=0.00349]\n"
     ]
    },
    {
     "name": "stdout",
     "output_type": "stream",
     "text": [
      "Epoch 119, Validation loss: 0.0034364224411547184\n"
     ]
    },
    {
     "name": "stderr",
     "output_type": "stream",
     "text": [
      "Epoch 120 Training: 100%|█████████████████████████████████████████████████████████████████████████████████| 7/7 [00:02<00:00,  2.88it/s, loss=0.00439]\n",
      "Epoch 120 Validation: 100%|███████████████████████████████████████████████████████████████████████████| 2/2 [00:00<00:00,  4.85it/s, val_loss=0.00337]\n"
     ]
    },
    {
     "name": "stdout",
     "output_type": "stream",
     "text": [
      "Epoch 120, Validation loss: 0.0032951936591416597\n"
     ]
    },
    {
     "name": "stderr",
     "output_type": "stream",
     "text": [
      "Epoch 121 Training: 100%|█████████████████████████████████████████████████████████████████████████████████| 7/7 [00:02<00:00,  2.92it/s, loss=0.00305]\n",
      "Epoch 121 Validation: 100%|████████████████████████████████████████████████████████████████████████████| 2/2 [00:00<00:00,  4.23it/s, val_loss=0.0033]\n"
     ]
    },
    {
     "name": "stdout",
     "output_type": "stream",
     "text": [
      "Epoch 121, Validation loss: 0.0032149271573871374\n"
     ]
    },
    {
     "name": "stderr",
     "output_type": "stream",
     "text": [
      "Epoch 122 Training: 100%|█████████████████████████████████████████████████████████████████████████████████| 7/7 [00:02<00:00,  2.95it/s, loss=0.00493]\n",
      "Epoch 122 Validation: 100%|███████████████████████████████████████████████████████████████████████████| 2/2 [00:00<00:00,  4.81it/s, val_loss=0.00337]\n"
     ]
    },
    {
     "name": "stdout",
     "output_type": "stream",
     "text": [
      "Epoch 122, Validation loss: 0.003313178545795381\n"
     ]
    },
    {
     "name": "stderr",
     "output_type": "stream",
     "text": [
      "Epoch 123 Training: 100%|█████████████████████████████████████████████████████████████████████████████████| 7/7 [00:02<00:00,  2.76it/s, loss=0.00431]\n",
      "Epoch 123 Validation: 100%|███████████████████████████████████████████████████████████████████████████| 2/2 [00:00<00:00,  4.88it/s, val_loss=0.00339]\n"
     ]
    },
    {
     "name": "stdout",
     "output_type": "stream",
     "text": [
      "Epoch 123, Validation loss: 0.003330064471811056\n"
     ]
    },
    {
     "name": "stderr",
     "output_type": "stream",
     "text": [
      "Epoch 124 Training: 100%|█████████████████████████████████████████████████████████████████████████████████| 7/7 [00:02<00:00,  3.09it/s, loss=0.00531]\n",
      "Epoch 124 Validation: 100%|███████████████████████████████████████████████████████████████████████████| 2/2 [00:00<00:00,  4.77it/s, val_loss=0.00341]\n"
     ]
    },
    {
     "name": "stdout",
     "output_type": "stream",
     "text": [
      "Epoch 124, Validation loss: 0.0033512309892103076\n"
     ]
    },
    {
     "name": "stderr",
     "output_type": "stream",
     "text": [
      "Epoch 125 Training: 100%|█████████████████████████████████████████████████████████████████████████████████| 7/7 [00:02<00:00,  2.57it/s, loss=0.00543]\n",
      "Epoch 125 Validation: 100%|███████████████████████████████████████████████████████████████████████████| 2/2 [00:00<00:00,  4.29it/s, val_loss=0.00341]\n"
     ]
    },
    {
     "name": "stdout",
     "output_type": "stream",
     "text": [
      "Epoch 125, Validation loss: 0.0033511610236018896\n"
     ]
    },
    {
     "name": "stderr",
     "output_type": "stream",
     "text": [
      "Epoch 126 Training: 100%|█████████████████████████████████████████████████████████████████████████████████| 7/7 [00:02<00:00,  2.99it/s, loss=0.00916]\n",
      "Epoch 126 Validation: 100%|███████████████████████████████████████████████████████████████████████████| 2/2 [00:00<00:00,  4.80it/s, val_loss=0.00345]\n"
     ]
    },
    {
     "name": "stdout",
     "output_type": "stream",
     "text": [
      "Epoch 126, Validation loss: 0.0033798147924244404\n"
     ]
    },
    {
     "name": "stderr",
     "output_type": "stream",
     "text": [
      "Epoch 127 Training: 100%|█████████████████████████████████████████████████████████████████████████████████| 7/7 [00:02<00:00,  2.73it/s, loss=0.00467]\n",
      "Epoch 127 Validation: 100%|███████████████████████████████████████████████████████████████████████████| 2/2 [00:00<00:00,  5.03it/s, val_loss=0.00336]\n"
     ]
    },
    {
     "name": "stdout",
     "output_type": "stream",
     "text": [
      "Epoch 127, Validation loss: 0.0032864902168512344\n"
     ]
    },
    {
     "name": "stderr",
     "output_type": "stream",
     "text": [
      "Epoch 128 Training: 100%|█████████████████████████████████████████████████████████████████████████████████| 7/7 [00:02<00:00,  2.87it/s, loss=0.00433]\n",
      "Epoch 128 Validation: 100%|████████████████████████████████████████████████████████████████████████████| 2/2 [00:00<00:00,  4.31it/s, val_loss=0.0034]\n"
     ]
    },
    {
     "name": "stdout",
     "output_type": "stream",
     "text": [
      "Epoch 128, Validation loss: 0.003343277727253735\n"
     ]
    },
    {
     "name": "stderr",
     "output_type": "stream",
     "text": [
      "Epoch 129 Training: 100%|█████████████████████████████████████████████████████████████████████████████████| 7/7 [00:02<00:00,  2.83it/s, loss=0.00405]\n",
      "Epoch 129 Validation: 100%|███████████████████████████████████████████████████████████████████████████| 2/2 [00:00<00:00,  4.77it/s, val_loss=0.00333]\n"
     ]
    },
    {
     "name": "stdout",
     "output_type": "stream",
     "text": [
      "Epoch 129, Validation loss: 0.0032684924080967903\n"
     ]
    },
    {
     "name": "stderr",
     "output_type": "stream",
     "text": [
      "Epoch 130 Training: 100%|█████████████████████████████████████████████████████████████████████████████████| 7/7 [00:02<00:00,  2.70it/s, loss=0.00421]\n",
      "Epoch 130 Validation: 100%|███████████████████████████████████████████████████████████████████████████| 2/2 [00:00<00:00,  4.85it/s, val_loss=0.00351]\n"
     ]
    },
    {
     "name": "stdout",
     "output_type": "stream",
     "text": [
      "Epoch 130, Validation loss: 0.003441150183789432\n"
     ]
    },
    {
     "name": "stderr",
     "output_type": "stream",
     "text": [
      "Epoch 131 Training: 100%|█████████████████████████████████████████████████████████████████████████████████| 7/7 [00:02<00:00,  2.75it/s, loss=0.00454]\n",
      "Epoch 131 Validation: 100%|███████████████████████████████████████████████████████████████████████████| 2/2 [00:00<00:00,  4.27it/s, val_loss=0.00341]\n"
     ]
    },
    {
     "name": "stdout",
     "output_type": "stream",
     "text": [
      "Epoch 131, Validation loss: 0.00334113254211843\n"
     ]
    },
    {
     "name": "stderr",
     "output_type": "stream",
     "text": [
      "Epoch 132 Training: 100%|█████████████████████████████████████████████████████████████████████████████████| 7/7 [00:02<00:00,  2.84it/s, loss=0.00497]\n",
      "Epoch 132 Validation: 100%|███████████████████████████████████████████████████████████████████████████| 2/2 [00:00<00:00,  4.28it/s, val_loss=0.00341]\n"
     ]
    },
    {
     "name": "stdout",
     "output_type": "stream",
     "text": [
      "Epoch 132, Validation loss: 0.0033539055148139596\n"
     ]
    },
    {
     "name": "stderr",
     "output_type": "stream",
     "text": [
      "Epoch 133 Training: 100%|█████████████████████████████████████████████████████████████████████████████████| 7/7 [00:02<00:00,  3.02it/s, loss=0.00604]\n",
      "Epoch 133 Validation: 100%|███████████████████████████████████████████████████████████████████████████| 2/2 [00:00<00:00,  4.80it/s, val_loss=0.00339]\n"
     ]
    },
    {
     "name": "stdout",
     "output_type": "stream",
     "text": [
      "Epoch 133, Validation loss: 0.003332564141601324\n"
     ]
    },
    {
     "name": "stderr",
     "output_type": "stream",
     "text": [
      "Epoch 134 Training: 100%|█████████████████████████████████████████████████████████████████████████████████| 7/7 [00:02<00:00,  2.70it/s, loss=0.00381]\n",
      "Epoch 134 Validation: 100%|███████████████████████████████████████████████████████████████████████████| 2/2 [00:00<00:00,  4.38it/s, val_loss=0.00337]\n"
     ]
    },
    {
     "name": "stdout",
     "output_type": "stream",
     "text": [
      "Epoch 134, Validation loss: 0.0033024344593286514\n"
     ]
    },
    {
     "name": "stderr",
     "output_type": "stream",
     "text": [
      "Epoch 135 Training: 100%|█████████████████████████████████████████████████████████████████████████████████| 7/7 [00:02<00:00,  2.38it/s, loss=0.00753]\n",
      "Epoch 135 Validation: 100%|███████████████████████████████████████████████████████████████████████████| 2/2 [00:00<00:00,  3.69it/s, val_loss=0.00337]\n"
     ]
    },
    {
     "name": "stdout",
     "output_type": "stream",
     "text": [
      "Epoch 135, Validation loss: 0.0033203663770109415\n"
     ]
    },
    {
     "name": "stderr",
     "output_type": "stream",
     "text": [
      "Epoch 136 Training: 100%|█████████████████████████████████████████████████████████████████████████████████| 7/7 [00:02<00:00,  2.61it/s, loss=0.00581]\n",
      "Epoch 136 Validation: 100%|███████████████████████████████████████████████████████████████████████████| 2/2 [00:00<00:00,  4.18it/s, val_loss=0.00351]\n"
     ]
    },
    {
     "name": "stdout",
     "output_type": "stream",
     "text": [
      "Epoch 136, Validation loss: 0.003457477199845016\n"
     ]
    },
    {
     "name": "stderr",
     "output_type": "stream",
     "text": [
      "Epoch 137 Training: 100%|█████████████████████████████████████████████████████████████████████████████████| 7/7 [00:02<00:00,  2.43it/s, loss=0.00783]\n",
      "Epoch 137 Validation: 100%|███████████████████████████████████████████████████████████████████████████| 2/2 [00:00<00:00,  3.77it/s, val_loss=0.00338]\n"
     ]
    },
    {
     "name": "stdout",
     "output_type": "stream",
     "text": [
      "Epoch 137, Validation loss: 0.0032963943667709827\n"
     ]
    },
    {
     "name": "stderr",
     "output_type": "stream",
     "text": [
      "Epoch 138 Training: 100%|█████████████████████████████████████████████████████████████████████████████████| 7/7 [00:02<00:00,  2.34it/s, loss=0.00792]\n",
      "Epoch 138 Validation: 100%|███████████████████████████████████████████████████████████████████████████| 2/2 [00:00<00:00,  4.12it/s, val_loss=0.00341]\n"
     ]
    },
    {
     "name": "stdout",
     "output_type": "stream",
     "text": [
      "Epoch 138, Validation loss: 0.0033199554309248924\n"
     ]
    },
    {
     "name": "stderr",
     "output_type": "stream",
     "text": [
      "Epoch 139 Training: 100%|█████████████████████████████████████████████████████████████████████████████████| 7/7 [00:03<00:00,  2.28it/s, loss=0.00609]\n",
      "Epoch 139 Validation: 100%|███████████████████████████████████████████████████████████████████████████| 2/2 [00:00<00:00,  3.69it/s, val_loss=0.00336]\n"
     ]
    },
    {
     "name": "stdout",
     "output_type": "stream",
     "text": [
      "Epoch 139, Validation loss: 0.003288935753516853\n"
     ]
    },
    {
     "name": "stderr",
     "output_type": "stream",
     "text": [
      "Epoch 140 Training: 100%|█████████████████████████████████████████████████████████████████████████████████| 7/7 [00:02<00:00,  2.58it/s, loss=0.00512]\n",
      "Epoch 140 Validation: 100%|███████████████████████████████████████████████████████████████████████████| 2/2 [00:00<00:00,  4.32it/s, val_loss=0.00345]\n"
     ]
    },
    {
     "name": "stdout",
     "output_type": "stream",
     "text": [
      "Epoch 140, Validation loss: 0.0033929625060409307\n"
     ]
    },
    {
     "name": "stderr",
     "output_type": "stream",
     "text": [
      "Epoch 141 Training: 100%|█████████████████████████████████████████████████████████████████████████████████| 7/7 [00:02<00:00,  2.48it/s, loss=0.00359]\n",
      "Epoch 141 Validation: 100%|███████████████████████████████████████████████████████████████████████████| 2/2 [00:00<00:00,  4.39it/s, val_loss=0.00332]\n"
     ]
    },
    {
     "name": "stdout",
     "output_type": "stream",
     "text": [
      "Epoch 141, Validation loss: 0.003253761096857488\n"
     ]
    },
    {
     "name": "stderr",
     "output_type": "stream",
     "text": [
      "Epoch 142 Training: 100%|█████████████████████████████████████████████████████████████████████████████████| 7/7 [00:02<00:00,  2.67it/s, loss=0.00664]\n",
      "Epoch 142 Validation: 100%|███████████████████████████████████████████████████████████████████████████| 2/2 [00:00<00:00,  4.18it/s, val_loss=0.00335]\n"
     ]
    },
    {
     "name": "stdout",
     "output_type": "stream",
     "text": [
      "Epoch 142, Validation loss: 0.003287704079411924\n"
     ]
    },
    {
     "name": "stderr",
     "output_type": "stream",
     "text": [
      "Epoch 143 Training: 100%|█████████████████████████████████████████████████████████████████████████████████| 7/7 [00:02<00:00,  2.53it/s, loss=0.00374]\n",
      "Epoch 143 Validation: 100%|███████████████████████████████████████████████████████████████████████████| 2/2 [00:00<00:00,  4.76it/s, val_loss=0.00331]\n"
     ]
    },
    {
     "name": "stdout",
     "output_type": "stream",
     "text": [
      "Epoch 143, Validation loss: 0.0032589121256023645\n"
     ]
    },
    {
     "name": "stderr",
     "output_type": "stream",
     "text": [
      "Epoch 144 Training: 100%|█████████████████████████████████████████████████████████████████████████████████| 7/7 [00:02<00:00,  2.71it/s, loss=0.00531]\n",
      "Epoch 144 Validation: 100%|███████████████████████████████████████████████████████████████████████████| 2/2 [00:00<00:00,  4.75it/s, val_loss=0.00344]\n"
     ]
    },
    {
     "name": "stdout",
     "output_type": "stream",
     "text": [
      "Epoch 144, Validation loss: 0.003380152862519026\n"
     ]
    },
    {
     "name": "stderr",
     "output_type": "stream",
     "text": [
      "Epoch 145 Training: 100%|██████████████████████████████████████████████████████████████████████████████████| 7/7 [00:02<00:00,  2.94it/s, loss=0.0052]\n",
      "Epoch 145 Validation: 100%|███████████████████████████████████████████████████████████████████████████| 2/2 [00:00<00:00,  4.73it/s, val_loss=0.00343]\n"
     ]
    },
    {
     "name": "stdout",
     "output_type": "stream",
     "text": [
      "Epoch 145, Validation loss: 0.0033696728060021996\n"
     ]
    },
    {
     "name": "stderr",
     "output_type": "stream",
     "text": [
      "Epoch 146 Training: 100%|█████████████████████████████████████████████████████████████████████████████████| 7/7 [00:02<00:00,  2.79it/s, loss=0.00554]\n",
      "Epoch 146 Validation: 100%|███████████████████████████████████████████████████████████████████████████| 2/2 [00:00<00:00,  4.92it/s, val_loss=0.00337]\n"
     ]
    },
    {
     "name": "stdout",
     "output_type": "stream",
     "text": [
      "Epoch 146, Validation loss: 0.003317175665870309\n"
     ]
    },
    {
     "name": "stderr",
     "output_type": "stream",
     "text": [
      "Epoch 147 Training: 100%|█████████████████████████████████████████████████████████████████████████████████| 7/7 [00:02<00:00,  2.61it/s, loss=0.00523]\n",
      "Epoch 147 Validation: 100%|███████████████████████████████████████████████████████████████████████████| 2/2 [00:00<00:00,  4.80it/s, val_loss=0.00327]\n"
     ]
    },
    {
     "name": "stdout",
     "output_type": "stream",
     "text": [
      "Epoch 147, Validation loss: 0.003178584622219205\n"
     ]
    },
    {
     "name": "stderr",
     "output_type": "stream",
     "text": [
      "Epoch 148 Training: 100%|█████████████████████████████████████████████████████████████████████████████████| 7/7 [00:02<00:00,  2.76it/s, loss=0.00462]\n",
      "Epoch 148 Validation: 100%|███████████████████████████████████████████████████████████████████████████| 2/2 [00:00<00:00,  4.80it/s, val_loss=0.00328]\n"
     ]
    },
    {
     "name": "stdout",
     "output_type": "stream",
     "text": [
      "Epoch 148, Validation loss: 0.0031753575894981623\n"
     ]
    },
    {
     "name": "stderr",
     "output_type": "stream",
     "text": [
      "Epoch 149 Training: 100%|█████████████████████████████████████████████████████████████████████████████████| 7/7 [00:02<00:00,  2.91it/s, loss=0.00351]\n",
      "Epoch 149 Validation: 100%|███████████████████████████████████████████████████████████████████████████| 2/2 [00:00<00:00,  4.62it/s, val_loss=0.00339]\n"
     ]
    },
    {
     "name": "stdout",
     "output_type": "stream",
     "text": [
      "Epoch 149, Validation loss: 0.003323021112009883\n"
     ]
    },
    {
     "name": "stderr",
     "output_type": "stream",
     "text": [
      "Epoch 150 Training: 100%|█████████████████████████████████████████████████████████████████████████████████| 7/7 [00:02<00:00,  2.82it/s, loss=0.00322]\n",
      "Epoch 150 Validation: 100%|███████████████████████████████████████████████████████████████████████████| 2/2 [00:00<00:00,  4.72it/s, val_loss=0.00337]\n"
     ]
    },
    {
     "name": "stdout",
     "output_type": "stream",
     "text": [
      "Epoch 150, Validation loss: 0.00330934498924762\n"
     ]
    },
    {
     "name": "stderr",
     "output_type": "stream",
     "text": [
      "Epoch 151 Training: 100%|█████████████████████████████████████████████████████████████████████████████████| 7/7 [00:02<00:00,  2.64it/s, loss=0.00557]\n",
      "Epoch 151 Validation: 100%|███████████████████████████████████████████████████████████████████████████| 2/2 [00:00<00:00,  4.81it/s, val_loss=0.00337]\n"
     ]
    },
    {
     "name": "stdout",
     "output_type": "stream",
     "text": [
      "Epoch 151, Validation loss: 0.0032926276326179504\n"
     ]
    },
    {
     "name": "stderr",
     "output_type": "stream",
     "text": [
      "Epoch 152 Training: 100%|█████████████████████████████████████████████████████████████████████████████████| 7/7 [00:02<00:00,  2.79it/s, loss=0.00377]\n",
      "Epoch 152 Validation: 100%|███████████████████████████████████████████████████████████████████████████| 2/2 [00:00<00:00,  4.80it/s, val_loss=0.00336]\n"
     ]
    },
    {
     "name": "stdout",
     "output_type": "stream",
     "text": [
      "Epoch 152, Validation loss: 0.0032855196623131633\n"
     ]
    },
    {
     "name": "stderr",
     "output_type": "stream",
     "text": [
      "Epoch 153 Training: 100%|█████████████████████████████████████████████████████████████████████████████████| 7/7 [00:02<00:00,  2.83it/s, loss=0.00575]\n",
      "Epoch 153 Validation: 100%|████████████████████████████████████████████████████████████████████████████| 2/2 [00:00<00:00,  4.61it/s, val_loss=0.0033]\n"
     ]
    },
    {
     "name": "stdout",
     "output_type": "stream",
     "text": [
      "Epoch 153, Validation loss: 0.003237838391214609\n"
     ]
    },
    {
     "name": "stderr",
     "output_type": "stream",
     "text": [
      "Epoch 154 Training: 100%|█████████████████████████████████████████████████████████████████████████████████| 7/7 [00:02<00:00,  2.65it/s, loss=0.00339]\n",
      "Epoch 154 Validation: 100%|███████████████████████████████████████████████████████████████████████████| 2/2 [00:00<00:00,  4.77it/s, val_loss=0.00359]\n"
     ]
    },
    {
     "name": "stdout",
     "output_type": "stream",
     "text": [
      "Epoch 154, Validation loss: 0.0035404006484895945\n"
     ]
    },
    {
     "name": "stderr",
     "output_type": "stream",
     "text": [
      "Epoch 155 Training: 100%|█████████████████████████████████████████████████████████████████████████████████| 7/7 [00:02<00:00,  2.79it/s, loss=0.00533]\n",
      "Epoch 155 Validation: 100%|███████████████████████████████████████████████████████████████████████████| 2/2 [00:00<00:00,  4.66it/s, val_loss=0.00339]\n"
     ]
    },
    {
     "name": "stdout",
     "output_type": "stream",
     "text": [
      "Epoch 155, Validation loss: 0.0033421132247895002\n"
     ]
    },
    {
     "name": "stderr",
     "output_type": "stream",
     "text": [
      "Epoch 156 Training: 100%|█████████████████████████████████████████████████████████████████████████████████| 7/7 [00:02<00:00,  2.62it/s, loss=0.00591]\n",
      "Epoch 156 Validation: 100%|███████████████████████████████████████████████████████████████████████████| 2/2 [00:00<00:00,  4.82it/s, val_loss=0.00332]\n"
     ]
    },
    {
     "name": "stdout",
     "output_type": "stream",
     "text": [
      "Epoch 156, Validation loss: 0.003277009120211005\n"
     ]
    },
    {
     "name": "stderr",
     "output_type": "stream",
     "text": [
      "Epoch 157 Training: 100%|█████████████████████████████████████████████████████████████████████████████████| 7/7 [00:02<00:00,  2.80it/s, loss=0.00525]\n",
      "Epoch 157 Validation: 100%|███████████████████████████████████████████████████████████████████████████| 2/2 [00:00<00:00,  4.60it/s, val_loss=0.00337]\n"
     ]
    },
    {
     "name": "stdout",
     "output_type": "stream",
     "text": [
      "Epoch 157, Validation loss: 0.0033351894235238433\n"
     ]
    },
    {
     "name": "stderr",
     "output_type": "stream",
     "text": [
      "Epoch 158 Training: 100%|█████████████████████████████████████████████████████████████████████████████████| 7/7 [00:02<00:00,  2.90it/s, loss=0.00578]\n",
      "Epoch 158 Validation: 100%|███████████████████████████████████████████████████████████████████████████| 2/2 [00:00<00:00,  4.72it/s, val_loss=0.00364]\n"
     ]
    },
    {
     "name": "stdout",
     "output_type": "stream",
     "text": [
      "Epoch 158, Validation loss: 0.0035965832648798823\n"
     ]
    },
    {
     "name": "stderr",
     "output_type": "stream",
     "text": [
      "Epoch 159 Training: 100%|█████████████████████████████████████████████████████████████████████████████████| 7/7 [00:02<00:00,  2.65it/s, loss=0.00957]\n",
      "Epoch 159 Validation: 100%|███████████████████████████████████████████████████████████████████████████| 2/2 [00:00<00:00,  4.81it/s, val_loss=0.00354]\n"
     ]
    },
    {
     "name": "stdout",
     "output_type": "stream",
     "text": [
      "Epoch 159, Validation loss: 0.003489889670163393\n"
     ]
    },
    {
     "name": "stderr",
     "output_type": "stream",
     "text": [
      "Epoch 160 Training: 100%|█████████████████████████████████████████████████████████████████████████████████| 7/7 [00:02<00:00,  2.76it/s, loss=0.00393]\n",
      "Epoch 160 Validation: 100%|███████████████████████████████████████████████████████████████████████████| 2/2 [00:00<00:00,  4.69it/s, val_loss=0.00362]\n"
     ]
    },
    {
     "name": "stdout",
     "output_type": "stream",
     "text": [
      "Epoch 160, Validation loss: 0.003594790934585035\n"
     ]
    },
    {
     "name": "stderr",
     "output_type": "stream",
     "text": [
      "Epoch 161 Training: 100%|█████████████████████████████████████████████████████████████████████████████████| 7/7 [00:02<00:00,  2.81it/s, loss=0.00579]\n",
      "Epoch 161 Validation: 100%|███████████████████████████████████████████████████████████████████████████| 2/2 [00:00<00:00,  4.21it/s, val_loss=0.00344]\n"
     ]
    },
    {
     "name": "stdout",
     "output_type": "stream",
     "text": [
      "Epoch 161, Validation loss: 0.0034022354520857334\n"
     ]
    },
    {
     "name": "stderr",
     "output_type": "stream",
     "text": [
      "Epoch 162 Training: 100%|█████████████████████████████████████████████████████████████████████████████████| 7/7 [00:02<00:00,  2.62it/s, loss=0.00353]\n",
      "Epoch 162 Validation: 100%|███████████████████████████████████████████████████████████████████████████| 2/2 [00:00<00:00,  4.81it/s, val_loss=0.00332]\n"
     ]
    },
    {
     "name": "stdout",
     "output_type": "stream",
     "text": [
      "Epoch 162, Validation loss: 0.003286792431026697\n"
     ]
    },
    {
     "name": "stderr",
     "output_type": "stream",
     "text": [
      "Epoch 163 Training: 100%|█████████████████████████████████████████████████████████████████████████████████| 7/7 [00:02<00:00,  2.53it/s, loss=0.00472]\n",
      "Epoch 163 Validation: 100%|███████████████████████████████████████████████████████████████████████████| 2/2 [00:00<00:00,  4.82it/s, val_loss=0.00337]\n"
     ]
    },
    {
     "name": "stdout",
     "output_type": "stream",
     "text": [
      "Epoch 163, Validation loss: 0.0033422905253246427\n"
     ]
    },
    {
     "name": "stderr",
     "output_type": "stream",
     "text": [
      "Epoch 164 Training: 100%|█████████████████████████████████████████████████████████████████████████████████| 7/7 [00:02<00:00,  2.80it/s, loss=0.00453]\n",
      "Epoch 164 Validation: 100%|███████████████████████████████████████████████████████████████████████████| 2/2 [00:00<00:00,  4.82it/s, val_loss=0.00327]\n"
     ]
    },
    {
     "name": "stdout",
     "output_type": "stream",
     "text": [
      "Epoch 164, Validation loss: 0.003242783830501139\n"
     ]
    },
    {
     "name": "stderr",
     "output_type": "stream",
     "text": [
      "Epoch 165 Training: 100%|█████████████████████████████████████████████████████████████████████████████████| 7/7 [00:02<00:00,  2.89it/s, loss=0.00511]\n",
      "Epoch 165 Validation: 100%|███████████████████████████████████████████████████████████████████████████| 2/2 [00:00<00:00,  4.65it/s, val_loss=0.00322]\n"
     ]
    },
    {
     "name": "stdout",
     "output_type": "stream",
     "text": [
      "Epoch 165, Validation loss: 0.0031907149823382497\n"
     ]
    },
    {
     "name": "stderr",
     "output_type": "stream",
     "text": [
      "Epoch 166 Training: 100%|██████████████████████████████████████████████████████████████████████████████████| 7/7 [00:02<00:00,  2.77it/s, loss=0.0055]\n",
      "Epoch 166 Validation: 100%|███████████████████████████████████████████████████████████████████████████| 2/2 [00:00<00:00,  4.76it/s, val_loss=0.00343]\n"
     ]
    },
    {
     "name": "stdout",
     "output_type": "stream",
     "text": [
      "Epoch 166, Validation loss: 0.0034034416312351823\n"
     ]
    },
    {
     "name": "stderr",
     "output_type": "stream",
     "text": [
      "Epoch 167 Training: 100%|█████████████████████████████████████████████████████████████████████████████████| 7/7 [00:02<00:00,  2.84it/s, loss=0.00377]\n",
      "Epoch 167 Validation: 100%|███████████████████████████████████████████████████████████████████████████| 2/2 [00:00<00:00,  4.20it/s, val_loss=0.00349]\n"
     ]
    },
    {
     "name": "stdout",
     "output_type": "stream",
     "text": [
      "Epoch 167, Validation loss: 0.0034449518425390124\n"
     ]
    },
    {
     "name": "stderr",
     "output_type": "stream",
     "text": [
      "Epoch 168 Training: 100%|██████████████████████████████████████████████████████████████████████████████████| 7/7 [00:02<00:00,  2.87it/s, loss=0.0057]\n",
      "Epoch 168 Validation: 100%|███████████████████████████████████████████████████████████████████████████| 2/2 [00:00<00:00,  4.76it/s, val_loss=0.00327]\n"
     ]
    },
    {
     "name": "stdout",
     "output_type": "stream",
     "text": [
      "Epoch 168, Validation loss: 0.0032251888187602162\n"
     ]
    },
    {
     "name": "stderr",
     "output_type": "stream",
     "text": [
      "Epoch 169 Training: 100%|█████████████████████████████████████████████████████████████████████████████████| 7/7 [00:02<00:00,  2.69it/s, loss=0.00632]\n",
      "Epoch 169 Validation: 100%|███████████████████████████████████████████████████████████████████████████| 2/2 [00:00<00:00,  4.27it/s, val_loss=0.00337]\n"
     ]
    },
    {
     "name": "stdout",
     "output_type": "stream",
     "text": [
      "Epoch 169, Validation loss: 0.0033234251895919442\n"
     ]
    },
    {
     "name": "stderr",
     "output_type": "stream",
     "text": [
      "Epoch 170 Training: 100%|█████████████████████████████████████████████████████████████████████████████████| 7/7 [00:02<00:00,  2.53it/s, loss=0.00587]\n",
      "Epoch 170 Validation: 100%|███████████████████████████████████████████████████████████████████████████| 2/2 [00:00<00:00,  4.82it/s, val_loss=0.00331]\n"
     ]
    },
    {
     "name": "stdout",
     "output_type": "stream",
     "text": [
      "Epoch 170, Validation loss: 0.0032486465061083436\n"
     ]
    },
    {
     "name": "stderr",
     "output_type": "stream",
     "text": [
      "Epoch 171 Training: 100%|█████████████████████████████████████████████████████████████████████████████████| 7/7 [00:02<00:00,  2.74it/s, loss=0.00249]\n",
      "Epoch 171 Validation: 100%|███████████████████████████████████████████████████████████████████████████| 2/2 [00:00<00:00,  4.81it/s, val_loss=0.00325]\n"
     ]
    },
    {
     "name": "stdout",
     "output_type": "stream",
     "text": [
      "Epoch 171, Validation loss: 0.0031768367625772953\n"
     ]
    },
    {
     "name": "stderr",
     "output_type": "stream",
     "text": [
      "Epoch 172 Training: 100%|█████████████████████████████████████████████████████████████████████████████████| 7/7 [00:02<00:00,  2.97it/s, loss=0.00475]\n",
      "Epoch 172 Validation: 100%|███████████████████████████████████████████████████████████████████████████| 2/2 [00:00<00:00,  4.61it/s, val_loss=0.00342]\n"
     ]
    },
    {
     "name": "stdout",
     "output_type": "stream",
     "text": [
      "Epoch 172, Validation loss: 0.0033863044809550047\n"
     ]
    },
    {
     "name": "stderr",
     "output_type": "stream",
     "text": [
      "Epoch 173 Training: 100%|██████████████████████████████████████████████████████████████████████████████████| 7/7 [00:02<00:00,  2.43it/s, loss=0.0026]\n",
      "Epoch 173 Validation: 100%|███████████████████████████████████████████████████████████████████████████| 2/2 [00:00<00:00,  4.80it/s, val_loss=0.00336]\n"
     ]
    },
    {
     "name": "stdout",
     "output_type": "stream",
     "text": [
      "Epoch 173, Validation loss: 0.003316699992865324\n"
     ]
    },
    {
     "name": "stderr",
     "output_type": "stream",
     "text": [
      "Epoch 174 Training: 100%|█████████████████████████████████████████████████████████████████████████████████| 7/7 [00:02<00:00,  2.76it/s, loss=0.00517]\n",
      "Epoch 174 Validation: 100%|███████████████████████████████████████████████████████████████████████████| 2/2 [00:00<00:00,  4.83it/s, val_loss=0.00341]\n"
     ]
    },
    {
     "name": "stdout",
     "output_type": "stream",
     "text": [
      "Epoch 174, Validation loss: 0.003370482474565506\n"
     ]
    },
    {
     "name": "stderr",
     "output_type": "stream",
     "text": [
      "Epoch 175 Training: 100%|█████████████████████████████████████████████████████████████████████████████████| 7/7 [00:02<00:00,  2.95it/s, loss=0.00333]\n",
      "Epoch 175 Validation: 100%|████████████████████████████████████████████████████████████████████████████| 2/2 [00:00<00:00,  4.67it/s, val_loss=0.0033]\n"
     ]
    },
    {
     "name": "stdout",
     "output_type": "stream",
     "text": [
      "Epoch 175, Validation loss: 0.003249069210141897\n"
     ]
    },
    {
     "name": "stderr",
     "output_type": "stream",
     "text": [
      "Epoch 176 Training: 100%|█████████████████████████████████████████████████████████████████████████████████| 7/7 [00:02<00:00,  2.80it/s, loss=0.00546]\n",
      "Epoch 176 Validation: 100%|███████████████████████████████████████████████████████████████████████████| 2/2 [00:00<00:00,  4.27it/s, val_loss=0.00344]\n"
     ]
    },
    {
     "name": "stdout",
     "output_type": "stream",
     "text": [
      "Epoch 176, Validation loss: 0.003404738730750978\n"
     ]
    },
    {
     "name": "stderr",
     "output_type": "stream",
     "text": [
      "Epoch 177 Training: 100%|██████████████████████████████████████████████████████████████████████████████████| 7/7 [00:02<00:00,  2.78it/s, loss=0.0112]\n",
      "Epoch 177 Validation: 100%|███████████████████████████████████████████████████████████████████████████| 2/2 [00:00<00:00,  4.29it/s, val_loss=0.00329]\n"
     ]
    },
    {
     "name": "stdout",
     "output_type": "stream",
     "text": [
      "Epoch 177, Validation loss: 0.0032586673041805625\n"
     ]
    },
    {
     "name": "stderr",
     "output_type": "stream",
     "text": [
      "Epoch 178 Training: 100%|█████████████████████████████████████████████████████████████████████████████████| 7/7 [00:02<00:00,  2.53it/s, loss=0.00303]\n",
      "Epoch 178 Validation: 100%|███████████████████████████████████████████████████████████████████████████| 2/2 [00:00<00:00,  4.81it/s, val_loss=0.00327]\n"
     ]
    },
    {
     "name": "stdout",
     "output_type": "stream",
     "text": [
      "Epoch 178, Validation loss: 0.0032170620979741216\n"
     ]
    },
    {
     "name": "stderr",
     "output_type": "stream",
     "text": [
      "Epoch 179 Training: 100%|█████████████████████████████████████████████████████████████████████████████████| 7/7 [00:02<00:00,  2.62it/s, loss=0.00507]\n",
      "Epoch 179 Validation: 100%|███████████████████████████████████████████████████████████████████████████| 2/2 [00:00<00:00,  4.83it/s, val_loss=0.00334]\n"
     ]
    },
    {
     "name": "stdout",
     "output_type": "stream",
     "text": [
      "Epoch 179, Validation loss: 0.0032944551203399897\n"
     ]
    },
    {
     "name": "stderr",
     "output_type": "stream",
     "text": [
      "Epoch 180 Training: 100%|█████████████████████████████████████████████████████████████████████████████████| 7/7 [00:02<00:00,  2.82it/s, loss=0.00384]\n",
      "Epoch 180 Validation: 100%|███████████████████████████████████████████████████████████████████████████| 2/2 [00:00<00:00,  4.86it/s, val_loss=0.00328]\n"
     ]
    },
    {
     "name": "stdout",
     "output_type": "stream",
     "text": [
      "Epoch 180, Validation loss: 0.003215684089809656\n"
     ]
    },
    {
     "name": "stderr",
     "output_type": "stream",
     "text": [
      "Epoch 181 Training: 100%|█████████████████████████████████████████████████████████████████████████████████| 7/7 [00:02<00:00,  2.97it/s, loss=0.00393]\n",
      "Epoch 181 Validation: 100%|███████████████████████████████████████████████████████████████████████████| 2/2 [00:00<00:00,  4.62it/s, val_loss=0.00329]\n"
     ]
    },
    {
     "name": "stdout",
     "output_type": "stream",
     "text": [
      "Epoch 181, Validation loss: 0.003214934025891125\n"
     ]
    },
    {
     "name": "stderr",
     "output_type": "stream",
     "text": [
      "Epoch 182 Training: 100%|█████████████████████████████████████████████████████████████████████████████████| 7/7 [00:02<00:00,  2.44it/s, loss=0.00316]\n",
      "Epoch 182 Validation: 100%|███████████████████████████████████████████████████████████████████████████| 2/2 [00:00<00:00,  4.76it/s, val_loss=0.00325]\n"
     ]
    },
    {
     "name": "stdout",
     "output_type": "stream",
     "text": [
      "Epoch 182, Validation loss: 0.0032161532435566187\n"
     ]
    },
    {
     "name": "stderr",
     "output_type": "stream",
     "text": [
      "Epoch 183 Training: 100%|█████████████████████████████████████████████████████████████████████████████████| 7/7 [00:02<00:00,  2.81it/s, loss=0.00401]\n",
      "Epoch 183 Validation: 100%|███████████████████████████████████████████████████████████████████████████| 2/2 [00:00<00:00,  4.77it/s, val_loss=0.00355]\n"
     ]
    },
    {
     "name": "stdout",
     "output_type": "stream",
     "text": [
      "Epoch 183, Validation loss: 0.003524362691678107\n"
     ]
    },
    {
     "name": "stderr",
     "output_type": "stream",
     "text": [
      "Epoch 184 Training: 100%|█████████████████████████████████████████████████████████████████████████████████| 7/7 [00:02<00:00,  2.98it/s, loss=0.00255]\n",
      "Epoch 184 Validation: 100%|███████████████████████████████████████████████████████████████████████████| 2/2 [00:00<00:00,  4.68it/s, val_loss=0.00321]\n"
     ]
    },
    {
     "name": "stdout",
     "output_type": "stream",
     "text": [
      "Epoch 184, Validation loss: 0.0031417011050507426\n"
     ]
    },
    {
     "name": "stderr",
     "output_type": "stream",
     "text": [
      "Epoch 185 Training: 100%|█████████████████████████████████████████████████████████████████████████████████| 7/7 [00:02<00:00,  2.68it/s, loss=0.00396]\n",
      "Epoch 185 Validation: 100%|███████████████████████████████████████████████████████████████████████████| 2/2 [00:00<00:00,  4.84it/s, val_loss=0.00318]\n"
     ]
    },
    {
     "name": "stdout",
     "output_type": "stream",
     "text": [
      "Epoch 185, Validation loss: 0.0031059988541528583\n"
     ]
    },
    {
     "name": "stderr",
     "output_type": "stream",
     "text": [
      "Epoch 186 Training: 100%|█████████████████████████████████████████████████████████████████████████████████| 7/7 [00:02<00:00,  2.92it/s, loss=0.00411]\n",
      "Epoch 186 Validation: 100%|███████████████████████████████████████████████████████████████████████████| 2/2 [00:00<00:00,  4.68it/s, val_loss=0.00316]\n"
     ]
    },
    {
     "name": "stdout",
     "output_type": "stream",
     "text": [
      "Epoch 186, Validation loss: 0.0031153849558904767\n"
     ]
    },
    {
     "name": "stderr",
     "output_type": "stream",
     "text": [
      "Epoch 187 Training: 100%|█████████████████████████████████████████████████████████████████████████████████| 7/7 [00:02<00:00,  2.50it/s, loss=0.00779]\n",
      "Epoch 187 Validation: 100%|████████████████████████████████████████████████████████████████████████████| 2/2 [00:00<00:00,  4.77it/s, val_loss=0.0032]\n"
     ]
    },
    {
     "name": "stdout",
     "output_type": "stream",
     "text": [
      "Epoch 187, Validation loss: 0.0031410707160830498\n"
     ]
    },
    {
     "name": "stderr",
     "output_type": "stream",
     "text": [
      "Epoch 188 Training: 100%|█████████████████████████████████████████████████████████████████████████████████| 7/7 [00:02<00:00,  2.54it/s, loss=0.00505]\n",
      "Epoch 188 Validation: 100%|███████████████████████████████████████████████████████████████████████████| 2/2 [00:00<00:00,  4.88it/s, val_loss=0.00321]\n"
     ]
    },
    {
     "name": "stdout",
     "output_type": "stream",
     "text": [
      "Epoch 188, Validation loss: 0.0031596269691362977\n"
     ]
    },
    {
     "name": "stderr",
     "output_type": "stream",
     "text": [
      "Epoch 189 Training: 100%|█████████████████████████████████████████████████████████████████████████████████| 7/7 [00:02<00:00,  2.95it/s, loss=0.00658]\n",
      "Epoch 189 Validation: 100%|███████████████████████████████████████████████████████████████████████████| 2/2 [00:00<00:00,  4.75it/s, val_loss=0.00331]\n"
     ]
    },
    {
     "name": "stdout",
     "output_type": "stream",
     "text": [
      "Epoch 189, Validation loss: 0.003271391266025603\n"
     ]
    },
    {
     "name": "stderr",
     "output_type": "stream",
     "text": [
      "Epoch 190 Training: 100%|█████████████████████████████████████████████████████████████████████████████████| 7/7 [00:02<00:00,  2.93it/s, loss=0.00447]\n",
      "Epoch 190 Validation: 100%|███████████████████████████████████████████████████████████████████████████| 2/2 [00:00<00:00,  4.65it/s, val_loss=0.00322]\n"
     ]
    },
    {
     "name": "stdout",
     "output_type": "stream",
     "text": [
      "Epoch 190, Validation loss: 0.0031728203175589442\n"
     ]
    },
    {
     "name": "stderr",
     "output_type": "stream",
     "text": [
      "Epoch 191 Training: 100%|█████████████████████████████████████████████████████████████████████████████████| 7/7 [00:02<00:00,  2.85it/s, loss=0.00378]\n",
      "Epoch 191 Validation: 100%|████████████████████████████████████████████████████████████████████████████| 2/2 [00:00<00:00,  4.66it/s, val_loss=0.0032]\n"
     ]
    },
    {
     "name": "stdout",
     "output_type": "stream",
     "text": [
      "Epoch 191, Validation loss: 0.0031274487264454365\n"
     ]
    },
    {
     "name": "stderr",
     "output_type": "stream",
     "text": [
      "Epoch 192 Training: 100%|█████████████████████████████████████████████████████████████████████████████████| 7/7 [00:02<00:00,  2.62it/s, loss=0.00442]\n",
      "Epoch 192 Validation: 100%|███████████████████████████████████████████████████████████████████████████| 2/2 [00:00<00:00,  4.73it/s, val_loss=0.00317]\n"
     ]
    },
    {
     "name": "stdout",
     "output_type": "stream",
     "text": [
      "Epoch 192, Validation loss: 0.0031204934930428863\n"
     ]
    },
    {
     "name": "stderr",
     "output_type": "stream",
     "text": [
      "Epoch 193 Training: 100%|█████████████████████████████████████████████████████████████████████████████████| 7/7 [00:02<00:00,  2.71it/s, loss=0.00381]\n",
      "Epoch 193 Validation: 100%|███████████████████████████████████████████████████████████████████████████| 2/2 [00:00<00:00,  4.64it/s, val_loss=0.00329]\n"
     ]
    },
    {
     "name": "stdout",
     "output_type": "stream",
     "text": [
      "Epoch 193, Validation loss: 0.0032512550242245197\n"
     ]
    },
    {
     "name": "stderr",
     "output_type": "stream",
     "text": [
      "Epoch 194 Training: 100%|█████████████████████████████████████████████████████████████████████████████████| 7/7 [00:02<00:00,  2.80it/s, loss=0.00396]\n",
      "Epoch 194 Validation: 100%|███████████████████████████████████████████████████████████████████████████| 2/2 [00:00<00:00,  4.42it/s, val_loss=0.00319]\n"
     ]
    },
    {
     "name": "stdout",
     "output_type": "stream",
     "text": [
      "Epoch 194, Validation loss: 0.0031272254418581724\n"
     ]
    },
    {
     "name": "stderr",
     "output_type": "stream",
     "text": [
      "Epoch 195 Training: 100%|█████████████████████████████████████████████████████████████████████████████████| 7/7 [00:02<00:00,  2.49it/s, loss=0.00466]\n",
      "Epoch 195 Validation: 100%|███████████████████████████████████████████████████████████████████████████| 2/2 [00:00<00:00,  4.81it/s, val_loss=0.00309]\n"
     ]
    },
    {
     "name": "stdout",
     "output_type": "stream",
     "text": [
      "Epoch 195, Validation loss: 0.0030506246257573366\n"
     ]
    },
    {
     "name": "stderr",
     "output_type": "stream",
     "text": [
      "Epoch 196 Training: 100%|█████████████████████████████████████████████████████████████████████████████████| 7/7 [00:02<00:00,  2.76it/s, loss=0.00232]\n",
      "Epoch 196 Validation: 100%|███████████████████████████████████████████████████████████████████████████| 2/2 [00:00<00:00,  4.20it/s, val_loss=0.00308]\n"
     ]
    },
    {
     "name": "stdout",
     "output_type": "stream",
     "text": [
      "Epoch 196, Validation loss: 0.0030298716155812144\n"
     ]
    },
    {
     "name": "stderr",
     "output_type": "stream",
     "text": [
      "Epoch 197 Training: 100%|█████████████████████████████████████████████████████████████████████████████████| 7/7 [00:02<00:00,  2.89it/s, loss=0.00358]\n",
      "Epoch 197 Validation: 100%|███████████████████████████████████████████████████████████████████████████| 2/2 [00:00<00:00,  4.73it/s, val_loss=0.00313]\n"
     ]
    },
    {
     "name": "stdout",
     "output_type": "stream",
     "text": [
      "Epoch 197, Validation loss: 0.0030772951431572437\n"
     ]
    },
    {
     "name": "stderr",
     "output_type": "stream",
     "text": [
      "Epoch 198 Training: 100%|█████████████████████████████████████████████████████████████████████████████████| 7/7 [00:02<00:00,  2.72it/s, loss=0.00231]\n",
      "Epoch 198 Validation: 100%|███████████████████████████████████████████████████████████████████████████| 2/2 [00:00<00:00,  4.22it/s, val_loss=0.00315]\n"
     ]
    },
    {
     "name": "stdout",
     "output_type": "stream",
     "text": [
      "Epoch 198, Validation loss: 0.003093931241892278\n"
     ]
    },
    {
     "name": "stderr",
     "output_type": "stream",
     "text": [
      "Epoch 199 Training: 100%|██████████████████████████████████████████████████████████████████████████████████| 7/7 [00:02<00:00,  2.53it/s, loss=0.0046]\n",
      "Epoch 199 Validation: 100%|███████████████████████████████████████████████████████████████████████████| 2/2 [00:00<00:00,  4.87it/s, val_loss=0.00313]\n"
     ]
    },
    {
     "name": "stdout",
     "output_type": "stream",
     "text": [
      "Epoch 199, Validation loss: 0.0030819629319012165\n"
     ]
    },
    {
     "name": "stderr",
     "output_type": "stream",
     "text": [
      "Epoch 200 Training: 100%|█████████████████████████████████████████████████████████████████████████████████| 7/7 [00:02<00:00,  2.63it/s, loss=0.00324]\n",
      "Epoch 200 Validation: 100%|███████████████████████████████████████████████████████████████████████████| 2/2 [00:00<00:00,  4.74it/s, val_loss=0.00315]\n"
     ]
    },
    {
     "name": "stdout",
     "output_type": "stream",
     "text": [
      "Epoch 200, Validation loss: 0.0030899574048817158\n"
     ]
    },
    {
     "name": "stderr",
     "output_type": "stream",
     "text": [
      "Epoch 201 Training: 100%|█████████████████████████████████████████████████████████████████████████████████| 7/7 [00:02<00:00,  2.78it/s, loss=0.00672]\n",
      "Epoch 201 Validation: 100%|███████████████████████████████████████████████████████████████████████████| 2/2 [00:00<00:00,  4.80it/s, val_loss=0.00317]\n"
     ]
    },
    {
     "name": "stdout",
     "output_type": "stream",
     "text": [
      "Epoch 201, Validation loss: 0.0030982835451141\n"
     ]
    },
    {
     "name": "stderr",
     "output_type": "stream",
     "text": [
      "Epoch 202 Training: 100%|█████████████████████████████████████████████████████████████████████████████████| 7/7 [00:02<00:00,  2.99it/s, loss=0.00461]\n",
      "Epoch 202 Validation: 100%|███████████████████████████████████████████████████████████████████████████| 2/2 [00:00<00:00,  4.69it/s, val_loss=0.00317]\n"
     ]
    },
    {
     "name": "stdout",
     "output_type": "stream",
     "text": [
      "Epoch 202, Validation loss: 0.003093105275183916\n"
     ]
    },
    {
     "name": "stderr",
     "output_type": "stream",
     "text": [
      "Epoch 203 Training: 100%|█████████████████████████████████████████████████████████████████████████████████| 7/7 [00:02<00:00,  2.67it/s, loss=0.00528]\n",
      "Epoch 203 Validation: 100%|███████████████████████████████████████████████████████████████████████████| 2/2 [00:00<00:00,  4.93it/s, val_loss=0.00326]\n"
     ]
    },
    {
     "name": "stdout",
     "output_type": "stream",
     "text": [
      "Epoch 203, Validation loss: 0.0032271711388602853\n"
     ]
    },
    {
     "name": "stderr",
     "output_type": "stream",
     "text": [
      "Epoch 204 Training: 100%|█████████████████████████████████████████████████████████████████████████████████| 7/7 [00:02<00:00,  2.95it/s, loss=0.00374]\n",
      "Epoch 204 Validation: 100%|███████████████████████████████████████████████████████████████████████████| 2/2 [00:00<00:00,  4.61it/s, val_loss=0.00319]\n"
     ]
    },
    {
     "name": "stdout",
     "output_type": "stream",
     "text": [
      "Epoch 204, Validation loss: 0.0031526345992460847\n"
     ]
    },
    {
     "name": "stderr",
     "output_type": "stream",
     "text": [
      "Epoch 205 Training: 100%|█████████████████████████████████████████████████████████████████████████████████| 7/7 [00:02<00:00,  2.49it/s, loss=0.00423]\n",
      "Epoch 205 Validation: 100%|███████████████████████████████████████████████████████████████████████████| 2/2 [00:00<00:00,  4.82it/s, val_loss=0.00322]\n"
     ]
    },
    {
     "name": "stdout",
     "output_type": "stream",
     "text": [
      "Epoch 205, Validation loss: 0.003160931752063334\n"
     ]
    },
    {
     "name": "stderr",
     "output_type": "stream",
     "text": [
      "Epoch 206 Training: 100%|█████████████████████████████████████████████████████████████████████████████████| 7/7 [00:02<00:00,  2.79it/s, loss=0.00376]\n",
      "Epoch 206 Validation: 100%|███████████████████████████████████████████████████████████████████████████| 2/2 [00:00<00:00,  4.81it/s, val_loss=0.00308]\n"
     ]
    },
    {
     "name": "stdout",
     "output_type": "stream",
     "text": [
      "Epoch 206, Validation loss: 0.003010970540344715\n"
     ]
    },
    {
     "name": "stderr",
     "output_type": "stream",
     "text": [
      "Epoch 207 Training: 100%|█████████████████████████████████████████████████████████████████████████████████| 7/7 [00:02<00:00,  2.90it/s, loss=0.00467]\n",
      "Epoch 207 Validation: 100%|███████████████████████████████████████████████████████████████████████████| 2/2 [00:00<00:00,  4.67it/s, val_loss=0.00315]\n"
     ]
    },
    {
     "name": "stdout",
     "output_type": "stream",
     "text": [
      "Epoch 207, Validation loss: 0.00311564898584038\n"
     ]
    },
    {
     "name": "stderr",
     "output_type": "stream",
     "text": [
      "Epoch 208 Training: 100%|█████████████████████████████████████████████████████████████████████████████████| 7/7 [00:02<00:00,  2.49it/s, loss=0.00626]\n",
      "Epoch 208 Validation: 100%|███████████████████████████████████████████████████████████████████████████| 2/2 [00:00<00:00,  4.83it/s, val_loss=0.00325]\n"
     ]
    },
    {
     "name": "stdout",
     "output_type": "stream",
     "text": [
      "Epoch 208, Validation loss: 0.0031919467728585005\n"
     ]
    },
    {
     "name": "stderr",
     "output_type": "stream",
     "text": [
      "Epoch 209 Training: 100%|█████████████████████████████████████████████████████████████████████████████████| 7/7 [00:02<00:00,  2.53it/s, loss=0.00387]\n",
      "Epoch 209 Validation: 100%|███████████████████████████████████████████████████████████████████████████| 2/2 [00:00<00:00,  4.79it/s, val_loss=0.00354]\n"
     ]
    },
    {
     "name": "stdout",
     "output_type": "stream",
     "text": [
      "Epoch 209, Validation loss: 0.0035047316923737526\n"
     ]
    },
    {
     "name": "stderr",
     "output_type": "stream",
     "text": [
      "Epoch 210 Training: 100%|█████████████████████████████████████████████████████████████████████████████████| 7/7 [00:02<00:00,  2.96it/s, loss=0.00346]\n",
      "Epoch 210 Validation: 100%|███████████████████████████████████████████████████████████████████████████| 2/2 [00:00<00:00,  4.79it/s, val_loss=0.00325]\n"
     ]
    },
    {
     "name": "stdout",
     "output_type": "stream",
     "text": [
      "Epoch 210, Validation loss: 0.003186327056027949\n"
     ]
    },
    {
     "name": "stderr",
     "output_type": "stream",
     "text": [
      "Epoch 211 Training: 100%|█████████████████████████████████████████████████████████████████████████████████| 7/7 [00:02<00:00,  2.92it/s, loss=0.00356]\n",
      "Epoch 211 Validation: 100%|███████████████████████████████████████████████████████████████████████████| 2/2 [00:00<00:00,  4.59it/s, val_loss=0.00317]\n"
     ]
    },
    {
     "name": "stdout",
     "output_type": "stream",
     "text": [
      "Epoch 211, Validation loss: 0.003132771118544042\n"
     ]
    },
    {
     "name": "stderr",
     "output_type": "stream",
     "text": [
      "Epoch 212 Training: 100%|██████████████████████████████████████████████████████████████████████████████████| 7/7 [00:02<00:00,  2.84it/s, loss=0.0045]\n",
      "Epoch 212 Validation: 100%|███████████████████████████████████████████████████████████████████████████| 2/2 [00:00<00:00,  4.70it/s, val_loss=0.00304]\n"
     ]
    },
    {
     "name": "stdout",
     "output_type": "stream",
     "text": [
      "Epoch 212, Validation loss: 0.0030366823775693774\n"
     ]
    },
    {
     "name": "stderr",
     "output_type": "stream",
     "text": [
      "Epoch 213 Training: 100%|█████████████████████████████████████████████████████████████████████████████████| 7/7 [00:02<00:00,  2.75it/s, loss=0.00339]\n",
      "Epoch 213 Validation: 100%|███████████████████████████████████████████████████████████████████████████| 2/2 [00:00<00:00,  4.72it/s, val_loss=0.00316]\n"
     ]
    },
    {
     "name": "stdout",
     "output_type": "stream",
     "text": [
      "Epoch 213, Validation loss: 0.0031523079378530383\n"
     ]
    },
    {
     "name": "stderr",
     "output_type": "stream",
     "text": [
      "Epoch 214 Training: 100%|█████████████████████████████████████████████████████████████████████████████████| 7/7 [00:02<00:00,  2.83it/s, loss=0.00345]\n",
      "Epoch 214 Validation: 100%|███████████████████████████████████████████████████████████████████████████| 2/2 [00:00<00:00,  4.60it/s, val_loss=0.00332]\n"
     ]
    },
    {
     "name": "stdout",
     "output_type": "stream",
     "text": [
      "Epoch 214, Validation loss: 0.0033009304897859693\n"
     ]
    },
    {
     "name": "stderr",
     "output_type": "stream",
     "text": [
      "Epoch 215 Training: 100%|█████████████████████████████████████████████████████████████████████████████████| 7/7 [00:02<00:00,  2.54it/s, loss=0.00347]\n",
      "Epoch 215 Validation: 100%|███████████████████████████████████████████████████████████████████████████| 2/2 [00:00<00:00,  4.77it/s, val_loss=0.00319]\n"
     ]
    },
    {
     "name": "stdout",
     "output_type": "stream",
     "text": [
      "Epoch 215, Validation loss: 0.0031902362825348973\n"
     ]
    },
    {
     "name": "stderr",
     "output_type": "stream",
     "text": [
      "Epoch 216 Training: 100%|█████████████████████████████████████████████████████████████████████████████████| 7/7 [00:02<00:00,  2.54it/s, loss=0.00314]\n",
      "Epoch 216 Validation: 100%|███████████████████████████████████████████████████████████████████████████| 2/2 [00:00<00:00,  4.77it/s, val_loss=0.00319]\n"
     ]
    },
    {
     "name": "stdout",
     "output_type": "stream",
     "text": [
      "Epoch 216, Validation loss: 0.003162773442454636\n"
     ]
    },
    {
     "name": "stderr",
     "output_type": "stream",
     "text": [
      "Epoch 217 Training: 100%|█████████████████████████████████████████████████████████████████████████████████| 7/7 [00:02<00:00,  2.80it/s, loss=0.00412]\n",
      "Epoch 217 Validation: 100%|███████████████████████████████████████████████████████████████████████████| 2/2 [00:00<00:00,  4.77it/s, val_loss=0.00318]\n"
     ]
    },
    {
     "name": "stdout",
     "output_type": "stream",
     "text": [
      "Epoch 217, Validation loss: 0.003129209973849356\n"
     ]
    },
    {
     "name": "stderr",
     "output_type": "stream",
     "text": [
      "Epoch 218 Training: 100%|█████████████████████████████████████████████████████████████████████████████████| 7/7 [00:02<00:00,  2.95it/s, loss=0.00449]\n",
      "Epoch 218 Validation: 100%|███████████████████████████████████████████████████████████████████████████| 2/2 [00:00<00:00,  4.71it/s, val_loss=0.00307]\n"
     ]
    },
    {
     "name": "stdout",
     "output_type": "stream",
     "text": [
      "Epoch 218, Validation loss: 0.003045423189178109\n"
     ]
    },
    {
     "name": "stderr",
     "output_type": "stream",
     "text": [
      "Epoch 219 Training: 100%|█████████████████████████████████████████████████████████████████████████████████| 7/7 [00:02<00:00,  2.49it/s, loss=0.00472]\n",
      "Epoch 219 Validation: 100%|███████████████████████████████████████████████████████████████████████████| 2/2 [00:00<00:00,  4.83it/s, val_loss=0.00309]\n"
     ]
    },
    {
     "name": "stdout",
     "output_type": "stream",
     "text": [
      "Epoch 219, Validation loss: 0.0030843212734907866\n"
     ]
    },
    {
     "name": "stderr",
     "output_type": "stream",
     "text": [
      "Epoch 220 Training: 100%|██████████████████████████████████████████████████████████████████████████████████| 7/7 [00:02<00:00,  2.94it/s, loss=0.0056]\n",
      "Epoch 220 Validation: 100%|███████████████████████████████████████████████████████████████████████████| 2/2 [00:00<00:00,  4.80it/s, val_loss=0.00308]\n"
     ]
    },
    {
     "name": "stdout",
     "output_type": "stream",
     "text": [
      "Epoch 220, Validation loss: 0.0030677909962832928\n"
     ]
    },
    {
     "name": "stderr",
     "output_type": "stream",
     "text": [
      "Epoch 221 Training: 100%|█████████████████████████████████████████████████████████████████████████████████| 7/7 [00:02<00:00,  2.81it/s, loss=0.00374]\n",
      "Epoch 221 Validation: 100%|███████████████████████████████████████████████████████████████████████████| 2/2 [00:00<00:00,  4.56it/s, val_loss=0.00326]\n"
     ]
    },
    {
     "name": "stdout",
     "output_type": "stream",
     "text": [
      "Epoch 221, Validation loss: 0.003243010491132736\n"
     ]
    },
    {
     "name": "stderr",
     "output_type": "stream",
     "text": [
      "Epoch 222 Training: 100%|█████████████████████████████████████████████████████████████████████████████████| 7/7 [00:02<00:00,  2.90it/s, loss=0.00424]\n",
      "Epoch 222 Validation: 100%|███████████████████████████████████████████████████████████████████████████| 2/2 [00:00<00:00,  4.74it/s, val_loss=0.00313]\n"
     ]
    },
    {
     "name": "stdout",
     "output_type": "stream",
     "text": [
      "Epoch 222, Validation loss: 0.0030735457548871636\n"
     ]
    },
    {
     "name": "stderr",
     "output_type": "stream",
     "text": [
      "Epoch 223 Training: 100%|█████████████████████████████████████████████████████████████████████████████████| 7/7 [00:02<00:00,  2.67it/s, loss=0.00467]\n",
      "Epoch 223 Validation: 100%|███████████████████████████████████████████████████████████████████████████| 2/2 [00:00<00:00,  4.83it/s, val_loss=0.00306]\n"
     ]
    },
    {
     "name": "stdout",
     "output_type": "stream",
     "text": [
      "Epoch 223, Validation loss: 0.003032078966498375\n"
     ]
    },
    {
     "name": "stderr",
     "output_type": "stream",
     "text": [
      "Epoch 224 Training: 100%|██████████████████████████████████████████████████████████████████████████████████| 7/7 [00:02<00:00,  2.80it/s, loss=0.0045]\n",
      "Epoch 224 Validation: 100%|███████████████████████████████████████████████████████████████████████████| 2/2 [00:00<00:00,  4.72it/s, val_loss=0.00296]\n"
     ]
    },
    {
     "name": "stdout",
     "output_type": "stream",
     "text": [
      "Epoch 224, Validation loss: 0.002948404522612691\n"
     ]
    },
    {
     "name": "stderr",
     "output_type": "stream",
     "text": [
      "Epoch 225 Training: 100%|██████████████████████████████████████████████████████████████████████████████████| 7/7 [00:02<00:00,  2.88it/s, loss=0.0054]\n",
      "Epoch 225 Validation: 100%|███████████████████████████████████████████████████████████████████████████| 2/2 [00:00<00:00,  4.22it/s, val_loss=0.00304]\n"
     ]
    },
    {
     "name": "stdout",
     "output_type": "stream",
     "text": [
      "Epoch 225, Validation loss: 0.003036902635358274\n"
     ]
    },
    {
     "name": "stderr",
     "output_type": "stream",
     "text": [
      "Epoch 226 Training: 100%|█████████████████████████████████████████████████████████████████████████████████| 7/7 [00:02<00:00,  2.53it/s, loss=0.00503]\n",
      "Epoch 226 Validation: 100%|███████████████████████████████████████████████████████████████████████████| 2/2 [00:00<00:00,  4.74it/s, val_loss=0.00302]\n"
     ]
    },
    {
     "name": "stdout",
     "output_type": "stream",
     "text": [
      "Epoch 226, Validation loss: 0.002998086391016841\n"
     ]
    },
    {
     "name": "stderr",
     "output_type": "stream",
     "text": [
      "Epoch 227 Training: 100%|█████████████████████████████████████████████████████████████████████████████████| 7/7 [00:02<00:00,  2.60it/s, loss=0.00337]\n",
      "Epoch 227 Validation: 100%|████████████████████████████████████████████████████████████████████████████| 2/2 [00:00<00:00,  4.23it/s, val_loss=0.0029]\n"
     ]
    },
    {
     "name": "stdout",
     "output_type": "stream",
     "text": [
      "Epoch 227, Validation loss: 0.0028752597281709313\n"
     ]
    },
    {
     "name": "stderr",
     "output_type": "stream",
     "text": [
      "Epoch 228 Training: 100%|█████████████████████████████████████████████████████████████████████████████████| 7/7 [00:02<00:00,  2.96it/s, loss=0.00294]\n",
      "Epoch 228 Validation: 100%|███████████████████████████████████████████████████████████████████████████| 2/2 [00:00<00:00,  4.75it/s, val_loss=0.00308]\n"
     ]
    },
    {
     "name": "stdout",
     "output_type": "stream",
     "text": [
      "Epoch 228, Validation loss: 0.003068716963753104\n"
     ]
    },
    {
     "name": "stderr",
     "output_type": "stream",
     "text": [
      "Epoch 229 Training: 100%|█████████████████████████████████████████████████████████████████████████████████| 7/7 [00:02<00:00,  2.67it/s, loss=0.00614]\n",
      "Epoch 229 Validation: 100%|███████████████████████████████████████████████████████████████████████████| 2/2 [00:00<00:00,  4.80it/s, val_loss=0.00344]\n"
     ]
    },
    {
     "name": "stdout",
     "output_type": "stream",
     "text": [
      "Epoch 229, Validation loss: 0.0034321448765695095\n"
     ]
    },
    {
     "name": "stderr",
     "output_type": "stream",
     "text": [
      "Epoch 230 Training: 100%|█████████████████████████████████████████████████████████████████████████████████| 7/7 [00:02<00:00,  2.55it/s, loss=0.00445]\n",
      "Epoch 230 Validation: 100%|███████████████████████████████████████████████████████████████████████████| 2/2 [00:00<00:00,  4.83it/s, val_loss=0.00315]\n"
     ]
    },
    {
     "name": "stdout",
     "output_type": "stream",
     "text": [
      "Epoch 230, Validation loss: 0.003128234064206481\n"
     ]
    },
    {
     "name": "stderr",
     "output_type": "stream",
     "text": [
      "Epoch 231 Training: 100%|██████████████████████████████████████████████████████████████████████████████████| 7/7 [00:02<00:00,  2.93it/s, loss=0.0046]\n",
      "Epoch 231 Validation: 100%|███████████████████████████████████████████████████████████████████████████| 2/2 [00:00<00:00,  4.91it/s, val_loss=0.00333]\n"
     ]
    },
    {
     "name": "stdout",
     "output_type": "stream",
     "text": [
      "Epoch 231, Validation loss: 0.0033397224033251405\n"
     ]
    },
    {
     "name": "stderr",
     "output_type": "stream",
     "text": [
      "Epoch 232 Training: 100%|█████████████████████████████████████████████████████████████████████████████████| 7/7 [00:02<00:00,  2.77it/s, loss=0.00587]\n",
      "Epoch 232 Validation: 100%|███████████████████████████████████████████████████████████████████████████| 2/2 [00:00<00:00,  4.19it/s, val_loss=0.00314]\n"
     ]
    },
    {
     "name": "stdout",
     "output_type": "stream",
     "text": [
      "Epoch 232, Validation loss: 0.0031322092982009053\n"
     ]
    },
    {
     "name": "stderr",
     "output_type": "stream",
     "text": [
      "Epoch 233 Training: 100%|█████████████████████████████████████████████████████████████████████████████████| 7/7 [00:02<00:00,  2.77it/s, loss=0.00431]\n",
      "Epoch 233 Validation: 100%|███████████████████████████████████████████████████████████████████████████| 2/2 [00:00<00:00,  4.71it/s, val_loss=0.00355]\n"
     ]
    },
    {
     "name": "stdout",
     "output_type": "stream",
     "text": [
      "Epoch 233, Validation loss: 0.003517978824675083\n"
     ]
    },
    {
     "name": "stderr",
     "output_type": "stream",
     "text": [
      "Epoch 234 Training: 100%|█████████████████████████████████████████████████████████████████████████████████| 7/7 [00:02<00:00,  2.89it/s, loss=0.00393]\n",
      "Epoch 234 Validation: 100%|███████████████████████████████████████████████████████████████████████████| 2/2 [00:00<00:00,  4.22it/s, val_loss=0.00349]\n"
     ]
    },
    {
     "name": "stdout",
     "output_type": "stream",
     "text": [
      "Epoch 234, Validation loss: 0.0034816787810996175\n"
     ]
    },
    {
     "name": "stderr",
     "output_type": "stream",
     "text": [
      "Epoch 235 Training: 100%|█████████████████████████████████████████████████████████████████████████████████| 7/7 [00:02<00:00,  2.54it/s, loss=0.00326]\n",
      "Epoch 235 Validation: 100%|████████████████████████████████████████████████████████████████████████████| 2/2 [00:00<00:00,  4.82it/s, val_loss=0.0033]\n"
     ]
    },
    {
     "name": "stdout",
     "output_type": "stream",
     "text": [
      "Epoch 235, Validation loss: 0.0032958261435851455\n"
     ]
    },
    {
     "name": "stderr",
     "output_type": "stream",
     "text": [
      "Epoch 236 Training: 100%|█████████████████████████████████████████████████████████████████████████████████| 7/7 [00:02<00:00,  2.79it/s, loss=0.00529]\n",
      "Epoch 236 Validation: 100%|███████████████████████████████████████████████████████████████████████████| 2/2 [00:00<00:00,  4.89it/s, val_loss=0.00316]\n"
     ]
    },
    {
     "name": "stdout",
     "output_type": "stream",
     "text": [
      "Epoch 236, Validation loss: 0.0031643155962228775\n"
     ]
    },
    {
     "name": "stderr",
     "output_type": "stream",
     "text": [
      "Epoch 237 Training: 100%|█████████████████████████████████████████████████████████████████████████████████| 7/7 [00:02<00:00,  2.94it/s, loss=0.00313]\n",
      "Epoch 237 Validation: 100%|████████████████████████████████████████████████████████████████████████████| 2/2 [00:00<00:00,  4.63it/s, val_loss=0.0031]\n"
     ]
    },
    {
     "name": "stdout",
     "output_type": "stream",
     "text": [
      "Epoch 237, Validation loss: 0.00308955495711416\n"
     ]
    },
    {
     "name": "stderr",
     "output_type": "stream",
     "text": [
      "Epoch 238 Training: 100%|█████████████████████████████████████████████████████████████████████████████████| 7/7 [00:02<00:00,  2.43it/s, loss=0.00346]\n",
      "Epoch 238 Validation: 100%|███████████████████████████████████████████████████████████████████████████| 2/2 [00:00<00:00,  4.86it/s, val_loss=0.00307]\n"
     ]
    },
    {
     "name": "stdout",
     "output_type": "stream",
     "text": [
      "Epoch 238, Validation loss: 0.0030554941622540355\n"
     ]
    },
    {
     "name": "stderr",
     "output_type": "stream",
     "text": [
      "Epoch 239 Training: 100%|█████████████████████████████████████████████████████████████████████████████████| 7/7 [00:02<00:00,  2.79it/s, loss=0.00297]\n",
      "Epoch 239 Validation: 100%|███████████████████████████████████████████████████████████████████████████| 2/2 [00:00<00:00,  4.74it/s, val_loss=0.00292]\n"
     ]
    },
    {
     "name": "stdout",
     "output_type": "stream",
     "text": [
      "Epoch 239, Validation loss: 0.002939078724011779\n"
     ]
    },
    {
     "name": "stderr",
     "output_type": "stream",
     "text": [
      "Epoch 240 Training: 100%|█████████████████████████████████████████████████████████████████████████████████| 7/7 [00:02<00:00,  2.96it/s, loss=0.00406]\n",
      "Epoch 240 Validation: 100%|███████████████████████████████████████████████████████████████████████████| 2/2 [00:00<00:00,  4.66it/s, val_loss=0.00329]\n"
     ]
    },
    {
     "name": "stdout",
     "output_type": "stream",
     "text": [
      "Epoch 240, Validation loss: 0.0032801564084365964\n"
     ]
    },
    {
     "name": "stderr",
     "output_type": "stream",
     "text": [
      "Epoch 241 Training: 100%|█████████████████████████████████████████████████████████████████████████████████| 7/7 [00:02<00:00,  2.49it/s, loss=0.00298]\n",
      "Epoch 241 Validation: 100%|███████████████████████████████████████████████████████████████████████████| 2/2 [00:00<00:00,  4.84it/s, val_loss=0.00305]\n"
     ]
    },
    {
     "name": "stdout",
     "output_type": "stream",
     "text": [
      "Epoch 241, Validation loss: 0.0030114231631159782\n"
     ]
    },
    {
     "name": "stderr",
     "output_type": "stream",
     "text": [
      "Epoch 242 Training: 100%|█████████████████████████████████████████████████████████████████████████████████| 7/7 [00:02<00:00,  2.96it/s, loss=0.00433]\n",
      "Epoch 242 Validation: 100%|███████████████████████████████████████████████████████████████████████████| 2/2 [00:00<00:00,  4.57it/s, val_loss=0.00303]\n"
     ]
    },
    {
     "name": "stdout",
     "output_type": "stream",
     "text": [
      "Epoch 242, Validation loss: 0.0029809277039021254\n"
     ]
    },
    {
     "name": "stderr",
     "output_type": "stream",
     "text": [
      "Epoch 243 Training: 100%|██████████████████████████████████████████████████████████████████████████████████| 7/7 [00:02<00:00,  2.82it/s, loss=0.0043]\n",
      "Epoch 243 Validation: 100%|███████████████████████████████████████████████████████████████████████████| 2/2 [00:00<00:00,  4.83it/s, val_loss=0.00312]\n"
     ]
    },
    {
     "name": "stdout",
     "output_type": "stream",
     "text": [
      "Epoch 243, Validation loss: 0.0030965727055445313\n"
     ]
    },
    {
     "name": "stderr",
     "output_type": "stream",
     "text": [
      "Epoch 244 Training: 100%|█████████████████████████████████████████████████████████████████████████████████| 7/7 [00:02<00:00,  2.63it/s, loss=0.00499]\n",
      "Epoch 244 Validation: 100%|███████████████████████████████████████████████████████████████████████████| 2/2 [00:00<00:00,  4.75it/s, val_loss=0.00292]\n"
     ]
    },
    {
     "name": "stdout",
     "output_type": "stream",
     "text": [
      "Epoch 244, Validation loss: 0.002883843262679875\n"
     ]
    },
    {
     "name": "stderr",
     "output_type": "stream",
     "text": [
      "Epoch 245 Training: 100%|█████████████████████████████████████████████████████████████████████████████████| 7/7 [00:02<00:00,  2.80it/s, loss=0.00522]\n",
      "Epoch 245 Validation: 100%|███████████████████████████████████████████████████████████████████████████| 2/2 [00:00<00:00,  4.77it/s, val_loss=0.00304]\n"
     ]
    },
    {
     "name": "stdout",
     "output_type": "stream",
     "text": [
      "Epoch 245, Validation loss: 0.003004632773809135\n"
     ]
    },
    {
     "name": "stderr",
     "output_type": "stream",
     "text": [
      "Epoch 246 Training: 100%|█████████████████████████████████████████████████████████████████████████████████| 7/7 [00:02<00:00,  2.91it/s, loss=0.00536]\n",
      "Epoch 246 Validation: 100%|███████████████████████████████████████████████████████████████████████████| 2/2 [00:00<00:00,  4.60it/s, val_loss=0.00279]\n"
     ]
    },
    {
     "name": "stdout",
     "output_type": "stream",
     "text": [
      "Epoch 246, Validation loss: 0.0027691239956766367\n"
     ]
    },
    {
     "name": "stderr",
     "output_type": "stream",
     "text": [
      "Epoch 247 Training: 100%|█████████████████████████████████████████████████████████████████████████████████| 7/7 [00:02<00:00,  2.72it/s, loss=0.00379]\n",
      "Epoch 247 Validation: 100%|███████████████████████████████████████████████████████████████████████████| 2/2 [00:00<00:00,  4.76it/s, val_loss=0.00303]\n"
     ]
    },
    {
     "name": "stdout",
     "output_type": "stream",
     "text": [
      "Epoch 247, Validation loss: 0.003050830215215683\n"
     ]
    },
    {
     "name": "stderr",
     "output_type": "stream",
     "text": [
      "Epoch 248 Training: 100%|█████████████████████████████████████████████████████████████████████████████████| 7/7 [00:02<00:00,  2.87it/s, loss=0.00306]\n",
      "Epoch 248 Validation: 100%|███████████████████████████████████████████████████████████████████████████| 2/2 [00:00<00:00,  4.66it/s, val_loss=0.00276]\n"
     ]
    },
    {
     "name": "stdout",
     "output_type": "stream",
     "text": [
      "Epoch 248, Validation loss: 0.0027369194431230426\n"
     ]
    },
    {
     "name": "stderr",
     "output_type": "stream",
     "text": [
      "Epoch 249 Training: 100%|██████████████████████████████████████████████████████████████████████████████████| 7/7 [00:02<00:00,  2.64it/s, loss=0.0033]\n",
      "Epoch 249 Validation: 100%|████████████████████████████████████████████████████████████████████████████| 2/2 [00:00<00:00,  4.81it/s, val_loss=0.0029]\n"
     ]
    },
    {
     "name": "stdout",
     "output_type": "stream",
     "text": [
      "Epoch 249, Validation loss: 0.0028840091545134783\n"
     ]
    },
    {
     "name": "stderr",
     "output_type": "stream",
     "text": [
      "Epoch 250 Training: 100%|█████████████████████████████████████████████████████████████████████████████████| 7/7 [00:02<00:00,  2.82it/s, loss=0.00345]\n",
      "Epoch 250 Validation: 100%|███████████████████████████████████████████████████████████████████████████| 2/2 [00:00<00:00,  4.57it/s, val_loss=0.00286]\n"
     ]
    },
    {
     "name": "stdout",
     "output_type": "stream",
     "text": [
      "Epoch 250, Validation loss: 0.0028653485933318734\n"
     ]
    },
    {
     "name": "stderr",
     "output_type": "stream",
     "text": [
      "Epoch 251 Training: 100%|█████████████████████████████████████████████████████████████████████████████████| 7/7 [00:02<00:00,  2.66it/s, loss=0.00289]\n",
      "Epoch 251 Validation: 100%|█████████████████████████████████████████████████████████████████████████████| 2/2 [00:00<00:00,  4.74it/s, val_loss=0.003]\n"
     ]
    },
    {
     "name": "stdout",
     "output_type": "stream",
     "text": [
      "Epoch 251, Validation loss: 0.003005696227774024\n"
     ]
    },
    {
     "name": "stderr",
     "output_type": "stream",
     "text": [
      "Epoch 252 Training: 100%|█████████████████████████████████████████████████████████████████████████████████| 7/7 [00:02<00:00,  2.81it/s, loss=0.00466]\n",
      "Epoch 252 Validation: 100%|███████████████████████████████████████████████████████████████████████████| 2/2 [00:00<00:00,  4.65it/s, val_loss=0.00315]\n"
     ]
    },
    {
     "name": "stdout",
     "output_type": "stream",
     "text": [
      "Epoch 252, Validation loss: 0.003140540444292128\n"
     ]
    },
    {
     "name": "stderr",
     "output_type": "stream",
     "text": [
      "Epoch 253 Training: 100%|███████████████████████████████████████████████████████████████████████████████████| 7/7 [00:02<00:00,  2.54it/s, loss=0.004]\n",
      "Epoch 253 Validation: 100%|███████████████████████████████████████████████████████████████████████████| 2/2 [00:00<00:00,  4.76it/s, val_loss=0.00283]\n"
     ]
    },
    {
     "name": "stdout",
     "output_type": "stream",
     "text": [
      "Epoch 253, Validation loss: 0.0028250820469111204\n"
     ]
    },
    {
     "name": "stderr",
     "output_type": "stream",
     "text": [
      "Epoch 254 Training: 100%|█████████████████████████████████████████████████████████████████████████████████| 7/7 [00:02<00:00,  2.80it/s, loss=0.00309]\n",
      "Epoch 254 Validation: 100%|███████████████████████████████████████████████████████████████████████████| 2/2 [00:00<00:00,  4.77it/s, val_loss=0.00299]\n"
     ]
    },
    {
     "name": "stdout",
     "output_type": "stream",
     "text": [
      "Epoch 254, Validation loss: 0.002992653753608465\n"
     ]
    },
    {
     "name": "stderr",
     "output_type": "stream",
     "text": [
      "Epoch 255 Training: 100%|█████████████████████████████████████████████████████████████████████████████████| 7/7 [00:02<00:00,  2.84it/s, loss=0.00515]\n",
      "Epoch 255 Validation: 100%|███████████████████████████████████████████████████████████████████████████| 2/2 [00:00<00:00,  4.58it/s, val_loss=0.00298]\n"
     ]
    },
    {
     "name": "stdout",
     "output_type": "stream",
     "text": [
      "Epoch 255, Validation loss: 0.002959407400339842\n"
     ]
    },
    {
     "name": "stderr",
     "output_type": "stream",
     "text": [
      "Epoch 256 Training: 100%|█████████████████████████████████████████████████████████████████████████████████| 7/7 [00:02<00:00,  2.56it/s, loss=0.00396]\n",
      "Epoch 256 Validation: 100%|███████████████████████████████████████████████████████████████████████████| 2/2 [00:00<00:00,  4.79it/s, val_loss=0.00351]\n"
     ]
    },
    {
     "name": "stdout",
     "output_type": "stream",
     "text": [
      "Epoch 256, Validation loss: 0.0035014543682336807\n"
     ]
    },
    {
     "name": "stderr",
     "output_type": "stream",
     "text": [
      "Epoch 257 Training: 100%|█████████████████████████████████████████████████████████████████████████████████| 7/7 [00:02<00:00,  2.82it/s, loss=0.00312]\n",
      "Epoch 257 Validation: 100%|███████████████████████████████████████████████████████████████████████████| 2/2 [00:00<00:00,  4.81it/s, val_loss=0.00308]\n"
     ]
    },
    {
     "name": "stdout",
     "output_type": "stream",
     "text": [
      "Epoch 257, Validation loss: 0.0030655465088784695\n"
     ]
    },
    {
     "name": "stderr",
     "output_type": "stream",
     "text": [
      "Epoch 258 Training: 100%|█████████████████████████████████████████████████████████████████████████████████| 7/7 [00:02<00:00,  2.87it/s, loss=0.00258]\n",
      "Epoch 258 Validation: 100%|███████████████████████████████████████████████████████████████████████████| 2/2 [00:00<00:00,  4.72it/s, val_loss=0.00323]\n"
     ]
    },
    {
     "name": "stdout",
     "output_type": "stream",
     "text": [
      "Epoch 258, Validation loss: 0.0032198086846619844\n"
     ]
    },
    {
     "name": "stderr",
     "output_type": "stream",
     "text": [
      "Epoch 259 Training: 100%|█████████████████████████████████████████████████████████████████████████████████| 7/7 [00:02<00:00,  2.79it/s, loss=0.00389]\n",
      "Epoch 259 Validation: 100%|███████████████████████████████████████████████████████████████████████████| 2/2 [00:00<00:00,  4.81it/s, val_loss=0.00298]\n"
     ]
    },
    {
     "name": "stdout",
     "output_type": "stream",
     "text": [
      "Epoch 259, Validation loss: 0.002968685934320092\n"
     ]
    },
    {
     "name": "stderr",
     "output_type": "stream",
     "text": [
      "Epoch 260 Training: 100%|██████████████████████████████████████████████████████████████████████████████████| 7/7 [00:02<00:00,  2.89it/s, loss=0.0028]\n",
      "Epoch 260 Validation: 100%|███████████████████████████████████████████████████████████████████████████| 2/2 [00:00<00:00,  4.19it/s, val_loss=0.00311]\n"
     ]
    },
    {
     "name": "stdout",
     "output_type": "stream",
     "text": [
      "Epoch 260, Validation loss: 0.003129974124021828\n"
     ]
    },
    {
     "name": "stderr",
     "output_type": "stream",
     "text": [
      "Epoch 261 Training: 100%|█████████████████████████████████████████████████████████████████████████████████| 7/7 [00:02<00:00,  2.53it/s, loss=0.00351]\n",
      "Epoch 261 Validation: 100%|███████████████████████████████████████████████████████████████████████████| 2/2 [00:00<00:00,  4.83it/s, val_loss=0.00322]\n"
     ]
    },
    {
     "name": "stdout",
     "output_type": "stream",
     "text": [
      "Epoch 261, Validation loss: 0.003192704520188272\n"
     ]
    },
    {
     "name": "stderr",
     "output_type": "stream",
     "text": [
      "Epoch 262 Training: 100%|█████████████████████████████████████████████████████████████████████████████████| 7/7 [00:02<00:00,  2.65it/s, loss=0.00493]\n",
      "Epoch 262 Validation: 100%|███████████████████████████████████████████████████████████████████████████| 2/2 [00:00<00:00,  4.85it/s, val_loss=0.00336]\n"
     ]
    },
    {
     "name": "stdout",
     "output_type": "stream",
     "text": [
      "Epoch 262, Validation loss: 0.003337641479447484\n"
     ]
    },
    {
     "name": "stderr",
     "output_type": "stream",
     "text": [
      "Epoch 263 Training: 100%|█████████████████████████████████████████████████████████████████████████████████| 7/7 [00:02<00:00,  2.83it/s, loss=0.00429]\n",
      "Epoch 263 Validation: 100%|███████████████████████████████████████████████████████████████████████████| 2/2 [00:00<00:00,  4.82it/s, val_loss=0.00304]\n"
     ]
    },
    {
     "name": "stdout",
     "output_type": "stream",
     "text": [
      "Epoch 263, Validation loss: 0.0030322433449327946\n"
     ]
    },
    {
     "name": "stderr",
     "output_type": "stream",
     "text": [
      "Epoch 264 Training: 100%|█████████████████████████████████████████████████████████████████████████████████| 7/7 [00:02<00:00,  3.04it/s, loss=0.00593]\n",
      "Epoch 264 Validation: 100%|███████████████████████████████████████████████████████████████████████████| 2/2 [00:00<00:00,  4.72it/s, val_loss=0.00301]\n"
     ]
    },
    {
     "name": "stdout",
     "output_type": "stream",
     "text": [
      "Epoch 264, Validation loss: 0.002984360442496836\n"
     ]
    },
    {
     "name": "stderr",
     "output_type": "stream",
     "text": [
      "Epoch 265 Training: 100%|█████████████████████████████████████████████████████████████████████████████████| 7/7 [00:02<00:00,  2.90it/s, loss=0.00528]\n",
      "Epoch 265 Validation: 100%|███████████████████████████████████████████████████████████████████████████| 2/2 [00:00<00:00,  4.71it/s, val_loss=0.00298]\n"
     ]
    },
    {
     "name": "stdout",
     "output_type": "stream",
     "text": [
      "Epoch 265, Validation loss: 0.0029715481214225292\n"
     ]
    },
    {
     "name": "stderr",
     "output_type": "stream",
     "text": [
      "Epoch 266 Training: 100%|█████████████████████████████████████████████████████████████████████████████████| 7/7 [00:02<00:00,  2.65it/s, loss=0.00321]\n",
      "Epoch 266 Validation: 100%|███████████████████████████████████████████████████████████████████████████| 2/2 [00:00<00:00,  4.81it/s, val_loss=0.00309]\n"
     ]
    },
    {
     "name": "stdout",
     "output_type": "stream",
     "text": [
      "Epoch 266, Validation loss: 0.003089182311668992\n"
     ]
    },
    {
     "name": "stderr",
     "output_type": "stream",
     "text": [
      "Epoch 267 Training: 100%|█████████████████████████████████████████████████████████████████████████████████| 7/7 [00:02<00:00,  2.82it/s, loss=0.00561]\n",
      "Epoch 267 Validation: 100%|███████████████████████████████████████████████████████████████████████████| 2/2 [00:00<00:00,  4.81it/s, val_loss=0.00313]\n"
     ]
    },
    {
     "name": "stdout",
     "output_type": "stream",
     "text": [
      "Epoch 267, Validation loss: 0.0031522292410954833\n"
     ]
    },
    {
     "name": "stderr",
     "output_type": "stream",
     "text": [
      "Epoch 268 Training: 100%|█████████████████████████████████████████████████████████████████████████████████| 7/7 [00:02<00:00,  2.91it/s, loss=0.00336]\n",
      "Epoch 268 Validation: 100%|███████████████████████████████████████████████████████████████████████████| 2/2 [00:00<00:00,  4.63it/s, val_loss=0.00305]\n"
     ]
    },
    {
     "name": "stdout",
     "output_type": "stream",
     "text": [
      "Epoch 268, Validation loss: 0.0030606649816036224\n"
     ]
    },
    {
     "name": "stderr",
     "output_type": "stream",
     "text": [
      "Epoch 269 Training: 100%|█████████████████████████████████████████████████████████████████████████████████| 7/7 [00:02<00:00,  2.66it/s, loss=0.00272]\n",
      "Epoch 269 Validation: 100%|███████████████████████████████████████████████████████████████████████████| 2/2 [00:00<00:00,  4.99it/s, val_loss=0.00301]\n"
     ]
    },
    {
     "name": "stdout",
     "output_type": "stream",
     "text": [
      "Epoch 269, Validation loss: 0.002987448126077652\n"
     ]
    },
    {
     "name": "stderr",
     "output_type": "stream",
     "text": [
      "Epoch 270 Training: 100%|█████████████████████████████████████████████████████████████████████████████████| 7/7 [00:02<00:00,  2.80it/s, loss=0.00438]\n",
      "Epoch 270 Validation: 100%|███████████████████████████████████████████████████████████████████████████| 2/2 [00:00<00:00,  4.80it/s, val_loss=0.00291]\n"
     ]
    },
    {
     "name": "stdout",
     "output_type": "stream",
     "text": [
      "Epoch 270, Validation loss: 0.0029027623822912574\n"
     ]
    },
    {
     "name": "stderr",
     "output_type": "stream",
     "text": [
      "Epoch 271 Training: 100%|█████████████████████████████████████████████████████████████████████████████████| 7/7 [00:02<00:00,  2.82it/s, loss=0.00299]\n",
      "Epoch 271 Validation: 100%|███████████████████████████████████████████████████████████████████████████| 2/2 [00:00<00:00,  4.17it/s, val_loss=0.00305]\n"
     ]
    },
    {
     "name": "stdout",
     "output_type": "stream",
     "text": [
      "Epoch 271, Validation loss: 0.0030991104431450367\n"
     ]
    },
    {
     "name": "stderr",
     "output_type": "stream",
     "text": [
      "Epoch 272 Training: 100%|█████████████████████████████████████████████████████████████████████████████████| 7/7 [00:02<00:00,  2.66it/s, loss=0.00514]\n",
      "Epoch 272 Validation: 100%|███████████████████████████████████████████████████████████████████████████| 2/2 [00:00<00:00,  4.81it/s, val_loss=0.00336]\n"
     ]
    },
    {
     "name": "stdout",
     "output_type": "stream",
     "text": [
      "Epoch 272, Validation loss: 0.0034099386539310217\n"
     ]
    },
    {
     "name": "stderr",
     "output_type": "stream",
     "text": [
      "Epoch 273 Training: 100%|█████████████████████████████████████████████████████████████████████████████████| 7/7 [00:02<00:00,  2.69it/s, loss=0.00253]\n",
      "Epoch 273 Validation: 100%|███████████████████████████████████████████████████████████████████████████| 2/2 [00:00<00:00,  4.84it/s, val_loss=0.00292]\n"
     ]
    },
    {
     "name": "stdout",
     "output_type": "stream",
     "text": [
      "Epoch 273, Validation loss: 0.002897013211622834\n"
     ]
    },
    {
     "name": "stderr",
     "output_type": "stream",
     "text": [
      "Epoch 274 Training: 100%|█████████████████████████████████████████████████████████████████████████████████| 7/7 [00:02<00:00,  2.82it/s, loss=0.00288]\n",
      "Epoch 274 Validation: 100%|███████████████████████████████████████████████████████████████████████████| 2/2 [00:00<00:00,  4.82it/s, val_loss=0.00301]\n"
     ]
    },
    {
     "name": "stdout",
     "output_type": "stream",
     "text": [
      "Epoch 274, Validation loss: 0.003033471293747425\n"
     ]
    },
    {
     "name": "stderr",
     "output_type": "stream",
     "text": [
      "Epoch 275 Training: 100%|█████████████████████████████████████████████████████████████████████████████████| 7/7 [00:02<00:00,  2.71it/s, loss=0.00395]\n",
      "Epoch 275 Validation: 100%|███████████████████████████████████████████████████████████████████████████| 2/2 [00:00<00:00,  4.82it/s, val_loss=0.00292]\n"
     ]
    },
    {
     "name": "stdout",
     "output_type": "stream",
     "text": [
      "Epoch 275, Validation loss: 0.0029490384040400386\n"
     ]
    },
    {
     "name": "stderr",
     "output_type": "stream",
     "text": [
      "Epoch 276 Training: 100%|█████████████████████████████████████████████████████████████████████████████████| 7/7 [00:02<00:00,  2.92it/s, loss=0.00323]\n",
      "Epoch 276 Validation: 100%|███████████████████████████████████████████████████████████████████████████| 2/2 [00:00<00:00,  4.25it/s, val_loss=0.00288]\n"
     ]
    },
    {
     "name": "stdout",
     "output_type": "stream",
     "text": [
      "Epoch 276, Validation loss: 0.002898300881497562\n"
     ]
    },
    {
     "name": "stderr",
     "output_type": "stream",
     "text": [
      "Epoch 277 Training: 100%|█████████████████████████████████████████████████████████████████████████████████| 7/7 [00:02<00:00,  2.81it/s, loss=0.00223]\n",
      "Epoch 277 Validation: 100%|████████████████████████████████████████████████████████████████████████████| 2/2 [00:00<00:00,  4.82it/s, val_loss=0.0028]\n"
     ]
    },
    {
     "name": "stdout",
     "output_type": "stream",
     "text": [
      "Epoch 277, Validation loss: 0.0028167873388156295\n"
     ]
    },
    {
     "name": "stderr",
     "output_type": "stream",
     "text": [
      "Epoch 278 Training: 100%|█████████████████████████████████████████████████████████████████████████████████| 7/7 [00:02<00:00,  3.08it/s, loss=0.00511]\n",
      "Epoch 278 Validation: 100%|███████████████████████████████████████████████████████████████████████████| 2/2 [00:00<00:00,  4.76it/s, val_loss=0.00295]\n"
     ]
    },
    {
     "name": "stdout",
     "output_type": "stream",
     "text": [
      "Epoch 278, Validation loss: 0.002963807201012969\n"
     ]
    },
    {
     "name": "stderr",
     "output_type": "stream",
     "text": [
      "Epoch 279 Training: 100%|█████████████████████████████████████████████████████████████████████████████████| 7/7 [00:02<00:00,  2.54it/s, loss=0.00416]\n",
      "Epoch 279 Validation: 100%|█████████████████████████████████████████████████████████████████████████████| 2/2 [00:00<00:00,  4.25it/s, val_loss=0.003]\n"
     ]
    },
    {
     "name": "stdout",
     "output_type": "stream",
     "text": [
      "Epoch 279, Validation loss: 0.002996606519445777\n"
     ]
    },
    {
     "name": "stderr",
     "output_type": "stream",
     "text": [
      "Epoch 280 Training: 100%|█████████████████████████████████████████████████████████████████████████████████| 7/7 [00:02<00:00,  2.92it/s, loss=0.00269]\n",
      "Epoch 280 Validation: 100%|███████████████████████████████████████████████████████████████████████████| 2/2 [00:00<00:00,  4.69it/s, val_loss=0.00306]\n"
     ]
    },
    {
     "name": "stdout",
     "output_type": "stream",
     "text": [
      "Epoch 280, Validation loss: 0.0030968356877565384\n"
     ]
    },
    {
     "name": "stderr",
     "output_type": "stream",
     "text": [
      "Epoch 281 Training: 100%|█████████████████████████████████████████████████████████████████████████████████| 7/7 [00:02<00:00,  2.56it/s, loss=0.00306]\n",
      "Epoch 281 Validation: 100%|███████████████████████████████████████████████████████████████████████████| 2/2 [00:00<00:00,  4.88it/s, val_loss=0.00312]\n"
     ]
    },
    {
     "name": "stdout",
     "output_type": "stream",
     "text": [
      "Epoch 281, Validation loss: 0.00316111883148551\n"
     ]
    },
    {
     "name": "stderr",
     "output_type": "stream",
     "text": [
      "Epoch 282 Training: 100%|█████████████████████████████████████████████████████████████████████████████████| 7/7 [00:02<00:00,  2.96it/s, loss=0.00418]\n",
      "Epoch 282 Validation: 100%|███████████████████████████████████████████████████████████████████████████| 2/2 [00:00<00:00,  4.77it/s, val_loss=0.00316]\n"
     ]
    },
    {
     "name": "stdout",
     "output_type": "stream",
     "text": [
      "Epoch 282, Validation loss: 0.0032002414809539914\n"
     ]
    },
    {
     "name": "stderr",
     "output_type": "stream",
     "text": [
      "Epoch 283 Training: 100%|█████████████████████████████████████████████████████████████████████████████████| 7/7 [00:02<00:00,  2.86it/s, loss=0.00334]\n",
      "Epoch 283 Validation: 100%|███████████████████████████████████████████████████████████████████████████| 2/2 [00:00<00:00,  4.23it/s, val_loss=0.00318]\n"
     ]
    },
    {
     "name": "stdout",
     "output_type": "stream",
     "text": [
      "Epoch 283, Validation loss: 0.003235591226257384\n"
     ]
    },
    {
     "name": "stderr",
     "output_type": "stream",
     "text": [
      "Epoch 284 Training: 100%|█████████████████████████████████████████████████████████████████████████████████| 7/7 [00:02<00:00,  2.56it/s, loss=0.00366]\n",
      "Epoch 284 Validation: 100%|███████████████████████████████████████████████████████████████████████████| 2/2 [00:00<00:00,  4.84it/s, val_loss=0.00323]\n"
     ]
    },
    {
     "name": "stdout",
     "output_type": "stream",
     "text": [
      "Epoch 284, Validation loss: 0.003268314409069717\n"
     ]
    },
    {
     "name": "stderr",
     "output_type": "stream",
     "text": [
      "Epoch 285 Training: 100%|█████████████████████████████████████████████████████████████████████████████████| 7/7 [00:02<00:00,  2.68it/s, loss=0.00282]\n",
      "Epoch 285 Validation: 100%|███████████████████████████████████████████████████████████████████████████| 2/2 [00:00<00:00,  5.00it/s, val_loss=0.00314]\n"
     ]
    },
    {
     "name": "stdout",
     "output_type": "stream",
     "text": [
      "Epoch 285, Validation loss: 0.0031641131499782205\n"
     ]
    },
    {
     "name": "stderr",
     "output_type": "stream",
     "text": [
      "Epoch 286 Training: 100%|█████████████████████████████████████████████████████████████████████████████████| 7/7 [00:02<00:00,  2.97it/s, loss=0.00294]\n",
      "Epoch 286 Validation: 100%|███████████████████████████████████████████████████████████████████████████| 2/2 [00:00<00:00,  4.87it/s, val_loss=0.00349]\n"
     ]
    },
    {
     "name": "stdout",
     "output_type": "stream",
     "text": [
      "Epoch 286, Validation loss: 0.0035155811347067356\n"
     ]
    },
    {
     "name": "stderr",
     "output_type": "stream",
     "text": [
      "Epoch 287 Training: 100%|█████████████████████████████████████████████████████████████████████████████████| 7/7 [00:02<00:00,  2.98it/s, loss=0.00314]\n",
      "Epoch 287 Validation: 100%|███████████████████████████████████████████████████████████████████████████| 2/2 [00:00<00:00,  4.60it/s, val_loss=0.00336]\n"
     ]
    },
    {
     "name": "stdout",
     "output_type": "stream",
     "text": [
      "Epoch 287, Validation loss: 0.0034106242237612605\n"
     ]
    },
    {
     "name": "stderr",
     "output_type": "stream",
     "text": [
      "Epoch 288 Training: 100%|█████████████████████████████████████████████████████████████████████████████████| 7/7 [00:02<00:00,  2.74it/s, loss=0.00301]\n",
      "Epoch 288 Validation: 100%|████████████████████████████████████████████████████████████████████████████| 2/2 [00:00<00:00,  4.82it/s, val_loss=0.0032]\n"
     ]
    },
    {
     "name": "stdout",
     "output_type": "stream",
     "text": [
      "Epoch 288, Validation loss: 0.003234465722925961\n"
     ]
    },
    {
     "name": "stderr",
     "output_type": "stream",
     "text": [
      "Epoch 289 Training: 100%|█████████████████████████████████████████████████████████████████████████████████| 7/7 [00:02<00:00,  2.90it/s, loss=0.00438]\n",
      "Epoch 289 Validation: 100%|███████████████████████████████████████████████████████████████████████████| 2/2 [00:00<00:00,  4.68it/s, val_loss=0.00324]\n"
     ]
    },
    {
     "name": "stdout",
     "output_type": "stream",
     "text": [
      "Epoch 289, Validation loss: 0.003237110795453191\n"
     ]
    },
    {
     "name": "stderr",
     "output_type": "stream",
     "text": [
      "Epoch 290 Training: 100%|██████████████████████████████████████████████████████████████████████████████████| 7/7 [00:02<00:00,  2.79it/s, loss=0.0034]\n",
      "Epoch 290 Validation: 100%|███████████████████████████████████████████████████████████████████████████| 2/2 [00:00<00:00,  4.78it/s, val_loss=0.00311]\n"
     ]
    },
    {
     "name": "stdout",
     "output_type": "stream",
     "text": [
      "Epoch 290, Validation loss: 0.003112268866971135\n"
     ]
    },
    {
     "name": "stderr",
     "output_type": "stream",
     "text": [
      "Epoch 291 Training: 100%|█████████████████████████████████████████████████████████████████████████████████| 7/7 [00:02<00:00,  2.91it/s, loss=0.00349]\n",
      "Epoch 291 Validation: 100%|███████████████████████████████████████████████████████████████████████████| 2/2 [00:00<00:00,  4.32it/s, val_loss=0.00349]\n"
     ]
    },
    {
     "name": "stdout",
     "output_type": "stream",
     "text": [
      "Epoch 291, Validation loss: 0.003528921864926815\n"
     ]
    },
    {
     "name": "stderr",
     "output_type": "stream",
     "text": [
      "Epoch 292 Training: 100%|█████████████████████████████████████████████████████████████████████████████████| 7/7 [00:02<00:00,  2.79it/s, loss=0.00483]\n",
      "Epoch 292 Validation: 100%|███████████████████████████████████████████████████████████████████████████| 2/2 [00:00<00:00,  4.29it/s, val_loss=0.00337]\n"
     ]
    },
    {
     "name": "stdout",
     "output_type": "stream",
     "text": [
      "Epoch 292, Validation loss: 0.0033961423905566335\n"
     ]
    },
    {
     "name": "stderr",
     "output_type": "stream",
     "text": [
      "Epoch 293 Training: 100%|█████████████████████████████████████████████████████████████████████████████████| 7/7 [00:02<00:00,  2.80it/s, loss=0.00433]\n",
      "Epoch 293 Validation: 100%|███████████████████████████████████████████████████████████████████████████| 2/2 [00:00<00:00,  4.21it/s, val_loss=0.00318]\n"
     ]
    },
    {
     "name": "stdout",
     "output_type": "stream",
     "text": [
      "Epoch 293, Validation loss: 0.0032217962434515357\n"
     ]
    },
    {
     "name": "stderr",
     "output_type": "stream",
     "text": [
      "Epoch 294 Training: 100%|█████████████████████████████████████████████████████████████████████████████████| 7/7 [00:02<00:00,  2.69it/s, loss=0.00462]\n",
      "Epoch 294 Validation: 100%|███████████████████████████████████████████████████████████████████████████| 2/2 [00:00<00:00,  4.85it/s, val_loss=0.00373]\n"
     ]
    },
    {
     "name": "stdout",
     "output_type": "stream",
     "text": [
      "Epoch 294, Validation loss: 0.0037679221713915467\n"
     ]
    },
    {
     "name": "stderr",
     "output_type": "stream",
     "text": [
      "Epoch 295 Training: 100%|█████████████████████████████████████████████████████████████████████████████████| 7/7 [00:02<00:00,  2.65it/s, loss=0.00261]\n",
      "Epoch 295 Validation: 100%|███████████████████████████████████████████████████████████████████████████| 2/2 [00:00<00:00,  4.84it/s, val_loss=0.00334]\n"
     ]
    },
    {
     "name": "stdout",
     "output_type": "stream",
     "text": [
      "Epoch 295, Validation loss: 0.003376606968231499\n"
     ]
    },
    {
     "name": "stderr",
     "output_type": "stream",
     "text": [
      "Epoch 296 Training: 100%|█████████████████████████████████████████████████████████████████████████████████| 7/7 [00:02<00:00,  2.83it/s, loss=0.00294]\n",
      "Epoch 296 Validation: 100%|███████████████████████████████████████████████████████████████████████████| 2/2 [00:00<00:00,  4.81it/s, val_loss=0.00319]\n"
     ]
    },
    {
     "name": "stdout",
     "output_type": "stream",
     "text": [
      "Epoch 296, Validation loss: 0.0032561698462814093\n"
     ]
    },
    {
     "name": "stderr",
     "output_type": "stream",
     "text": [
      "Epoch 297 Training: 100%|█████████████████████████████████████████████████████████████████████████████████| 7/7 [00:02<00:00,  2.95it/s, loss=0.00428]\n",
      "Epoch 297 Validation: 100%|███████████████████████████████████████████████████████████████████████████| 2/2 [00:00<00:00,  4.69it/s, val_loss=0.00311]\n"
     ]
    },
    {
     "name": "stdout",
     "output_type": "stream",
     "text": [
      "Epoch 297, Validation loss: 0.0031529234256595373\n"
     ]
    },
    {
     "name": "stderr",
     "output_type": "stream",
     "text": [
      "Epoch 298 Training: 100%|█████████████████████████████████████████████████████████████████████████████████| 7/7 [00:02<00:00,  2.50it/s, loss=0.00308]\n",
      "Epoch 298 Validation: 100%|████████████████████████████████████████████████████████████████████████████| 2/2 [00:00<00:00,  4.79it/s, val_loss=0.0034]\n"
     ]
    },
    {
     "name": "stdout",
     "output_type": "stream",
     "text": [
      "Epoch 298, Validation loss: 0.003457144950516522\n"
     ]
    },
    {
     "name": "stderr",
     "output_type": "stream",
     "text": [
      "Epoch 299 Training: 100%|█████████████████████████████████████████████████████████████████████████████████| 7/7 [00:02<00:00,  2.97it/s, loss=0.00213]\n",
      "Epoch 299 Validation: 100%|███████████████████████████████████████████████████████████████████████████| 2/2 [00:00<00:00,  4.93it/s, val_loss=0.00313]\n"
     ]
    },
    {
     "name": "stdout",
     "output_type": "stream",
     "text": [
      "Epoch 299, Validation loss: 0.003187465132214129\n"
     ]
    },
    {
     "name": "stderr",
     "output_type": "stream",
     "text": [
      "Epoch 300 Training: 100%|█████████████████████████████████████████████████████████████████████████████████| 7/7 [00:02<00:00,  2.84it/s, loss=0.00402]\n",
      "Epoch 300 Validation: 100%|███████████████████████████████████████████████████████████████████████████| 2/2 [00:00<00:00,  4.68it/s, val_loss=0.00331]"
     ]
    },
    {
     "name": "stdout",
     "output_type": "stream",
     "text": [
      "Epoch 300, Validation loss: 0.0033469587797299027\n"
     ]
    },
    {
     "name": "stderr",
     "output_type": "stream",
     "text": [
      "\n"
     ]
    }
   ],
   "source": [
    "########################################################################\n",
    "# TODO - Train Your Model                                              #\n",
    "########################################################################\n",
    "\n",
    "# Define the loss function and optimizer\n",
    "criterion = torch.nn.MSELoss()\n",
    "optimizer = torch.optim.Adam(model.parameters())\n",
    "\n",
    "# Train the classifier.\n",
    "train_loader = torch.utils.data.DataLoader(train_dataset, batch_size=hparams['batch_size'], shuffle=True)\n",
    "val_loader = torch.utils.data.DataLoader(val_dataset, batch_size=hparams['batch_size'], shuffle=False)\n",
    "\n",
    "model = model.to(device)\n",
    "\n",
    "# Training loop\n",
    "for epoch in range(hparams[\"num_epochs\"]):  # replace num_epochs with your actual number of epochs\n",
    "    model.train()  # set model to training mode\n",
    "    train_bar = create_tqdm_bar(train_loader, f'Epoch {epoch+1} Training')  # replace with your actual dataloader\n",
    "    for i, batch in train_bar:\n",
    "        # Get images and labels from batch\n",
    "        images = batch[\"image\"].to(device)\n",
    "        keypoints = batch[\"keypoints\"].to(device)\n",
    "\n",
    "        # Forward pass\n",
    "        predicted_keypoints = model(images).view(-1, 15, 2)\n",
    "        loss = criterion(torch.squeeze(keypoints), torch.squeeze(predicted_keypoints))\n",
    "\n",
    "        # Backward pass and optimization\n",
    "        optimizer.zero_grad()\n",
    "        loss.backward()\n",
    "        optimizer.step()\n",
    "\n",
    "        # Update progress bar\n",
    "        train_bar.set_postfix(loss=loss.item())\n",
    "\n",
    "    # Validation\n",
    "    model.eval()  # set model to evaluation mode\n",
    "    val_bar = create_tqdm_bar(val_loader, f'Epoch {epoch+1} Validation')  # replace with your actual dataloader\n",
    "    with torch.no_grad():\n",
    "        total_val_loss = 0\n",
    "        for i, batch in val_bar:\n",
    "            # Get images and labels from batch\n",
    "            images = batch[\"image\"].to(device)\n",
    "            keypoints = batch[\"keypoints\"].to(device)\n",
    "\n",
    "            # Forward pass\n",
    "            predicted_keypoints = model(images).view(-1, 15, 2)\n",
    "            loss = criterion(torch.squeeze(keypoints), torch.squeeze(predicted_keypoints))\n",
    "            total_val_loss += loss.item()\n",
    "\n",
    "            # Update progress bar\n",
    "            val_bar.set_postfix(val_loss=loss.item())\n",
    "\n",
    "        # Print average validation loss\n",
    "        print(f'Epoch {epoch+1}, Validation loss: {total_val_loss/len(val_loader)}')\n",
    "\n",
    "########################################################################\n",
    "#                           END OF YOUR CODE                           #\n",
    "########################################################################\n"
   ]
  },
  {
   "cell_type": "markdown",
   "metadata": {
    "id": "RuNDv7kFCPTs"
   },
   "source": [
    "When you're done training, run the cells below to visualize some predictions of your model, and to compute a validation score:"
   ]
  },
  {
   "cell_type": "code",
   "execution_count": 23,
   "metadata": {
    "colab": {
     "base_uri": "https://localhost:8080/",
     "height": 1000
    },
    "executionInfo": {
     "elapsed": 1124,
     "status": "ok",
     "timestamp": 1656688135189,
     "user": {
      "displayName": "Dan Halperin",
      "userId": "04461491770918170797"
     },
     "user_tz": -120
    },
    "id": "W7-SOD-CCPTt",
    "outputId": "88844c59-737a-4139-9de6-c3e54cb994f5"
   },
   "outputs": [
    {
     "data": {
      "image/png": "[encoded data removed]",
      "text/plain": [
       "<Figure size 1000x800 with 1 Axes>"
      ]
     },
     "metadata": {},
     "output_type": "display_data"
    },
    {
     "data": {
      "image/png": "[encoded data removed]",
      "text/plain": [
       "<Figure size 1000x800 with 1 Axes>"
      ]
     },
     "metadata": {},
     "output_type": "display_data"
    },
    {
     "data": {
      "image/png": "[encoded data removed]",
      "text/plain": [
       "<Figure size 1000x800 with 1 Axes>"
      ]
     },
     "metadata": {},
     "output_type": "display_data"
    }
   ],
   "source": [
    "show_keypoint_predictions(model, val_dataset)\n"
   ]
  },
  {
   "cell_type": "code",
   "execution_count": 24,
   "metadata": {
    "colab": {
     "base_uri": "https://localhost:8080/"
    },
    "executionInfo": {
     "elapsed": 5848,
     "status": "ok",
     "timestamp": 1656688141265,
     "user": {
      "displayName": "Dan Halperin",
      "userId": "04461491770918170797"
     },
     "user_tz": -120
    },
    "id": "ksQY1k0iCPTt",
    "outputId": "1e96371b-d07b-4076-912f-321743f4dc91"
   },
   "outputs": [
    {
     "name": "stdout",
     "output_type": "stream",
     "text": [
      "Score: 148.08132819000005\n"
     ]
    }
   ],
   "source": [
    "print(\"Score:\", evaluate_model(model, val_dataset))\n"
   ]
  },
  {
   "cell_type": "markdown",
   "metadata": {
    "id": "fvOocX1FCPTt"
   },
   "source": [
    "# 3. Save Your Model for Submission\n",
    "\n",
    "If your model achieved a validation score of 100 or higher, save your model with the cell below and submit it to [the submission server](https://i2dl.vc.in.tum.de/). Your validation set is of course different from the test set on our server, so results may vary. Nevertheless, you will have a reasonable close approximation about your performance.\n",
    "\n",
    "Before that, we will check again whether the number of parameters is below 5 Mio. and the file size is below 20 MB."
   ]
  },
  {
   "cell_type": "code",
   "execution_count": 25,
   "metadata": {
    "colab": {
     "base_uri": "https://localhost:8080/",
     "height": 36
    },
    "executionInfo": {
     "elapsed": 357,
     "status": "ok",
     "timestamp": 1656688141613,
     "user": {
      "displayName": "Dan Halperin",
      "userId": "04461491770918170797"
     },
     "user_tz": -120
    },
    "id": "Df44Fc0zCPTt",
    "outputId": "3bd1c1ba-d750-436a-bf2c-998837b30ac6"
   },
   "outputs": [
    {
     "data": {
      "text/plain": [
       "'models/facial_keypoints.p'"
      ]
     },
     "execution_count": 25,
     "metadata": {},
     "output_type": "execute_result"
    }
   ],
   "source": [
    "save_model(model, \"facial_keypoints.p\")\n"
   ]
  },
  {
   "cell_type": "markdown",
   "metadata": {
    "id": "fvcX9_h5CPTt"
   },
   "source": [
    "Congrats - you've now finished your first Convolution Neural Network! Simply run the following cell to create a zipped file for your implementations."
   ]
  },
  {
   "cell_type": "code",
   "execution_count": null,
   "metadata": {
    "colab": {
     "base_uri": "https://localhost:8080/"
    },
    "executionInfo": {
     "elapsed": 8749,
     "status": "ok",
     "timestamp": 1656688150356,
     "user": {
      "displayName": "Dan Halperin",
      "userId": "04461491770918170797"
     },
     "user_tz": -120
    },
    "id": "w_QV7M1uCPTt",
    "outputId": "77b2de33-dbf0-4fe8-fedc-bc4ec7fd9bb0"
   },
   "outputs": [],
   "source": [
    "# Now zip the folder for upload\n",
    "from exercise_code.util.submit import submit_exercise\n",
    "\n",
    "submit_exercise(\"../output/exercise09\")\n"
   ]
  },
  {
   "cell_type": "markdown",
   "metadata": {
    "id": "Jrl8SOl5CPTt"
   },
   "source": [
    "# Submission Goals\n",
    "\n",
    "- Goal: Implement and train a convolution neural network for facial keypoint detection.\n",
    "- Passing Criteria: Reach **Score >= 100** on __our__ test dataset. The submission system will show you your score after you submit.\n",
    "\n",
    "- Submission start: __June 22, 2023, 10.00__\n",
    "- Submission deadline: __June 28, 2023 - 15:59__ \n",
    "- You can make **$\\infty$** submissions until the deadline. Your __best submission__ will be considered for bonus"
   ]
  },
  {
   "cell_type": "markdown",
   "metadata": {},
   "source": [
    "# [Exercise Review](https://docs.google.com/forms/d/e/1FAIpQLSedSHEJ5vN-9FmJN-IGSQ9heDM_8qJQjHL4glgQGlrpQJEYPQ/viewform?usp=pp_url&entry.999074405=Exercise+9:+Facial+Keypoints)\n",
    "We are always interested in your opinion. Now that you have finished this exercise, we would like you to give us some feedback about the time required to finish the submission and/or work through the notebooks. Please take the short time to fill out our [review form](https://docs.google.com/forms/d/e/1FAIpQLSedSHEJ5vN-9FmJN-IGSQ9heDM_8qJQjHL4glgQGlrpQJEYPQ/viewform?usp=pp_url&entry.999074405=Exercise+9:+Facial+Keypoints) for this exercise so that we can do better next time! :)"
   ]
  }
 ],
 "metadata": {
  "colab": {
   "collapsed_sections": [],
   "name": "1_facial_keypoints.ipynb",
   "provenance": []
  },
  "gpuClass": "standard",
  "kernelspec": {
   "display_name": "Python 3 (ipykernel)",
   "language": "python",
   "name": "python3"
  },
  "language_info": {
   "codemirror_mode": {
    "name": "ipython",
    "version": 3
   },
   "file_extension": ".py",
   "mimetype": "text/x-python",
   "name": "python",
   "nbconvert_exporter": "python",
   "pygments_lexer": "ipython3",
   "version": "3.8.10"
  },
  "vscode": {
   "interpreter": {
    "hash": "54970da6898dad277dbf355945c2dee7f942d2a31ec1fc1455b6d4f552d07b83"
   }
  }
 },
 "nbformat": 4,
 "nbformat_minor": 1
}
